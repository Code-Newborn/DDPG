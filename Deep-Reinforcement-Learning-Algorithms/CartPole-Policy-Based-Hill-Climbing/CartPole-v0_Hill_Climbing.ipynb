{
 "cells": [
  {
   "cell_type": "markdown",
   "metadata": {},
   "source": [
    "# Hill Climbing (with adaptive noise scaling, without tensors)\n",
    "# CartPole-v0\n",
    "\n",
    "---\n",
    "\n",
    "   In this notebook, we train the Hill Climbing Agent with   \n",
    "**adaptive noise scaling** with OpenAI Gym's Cartpole environment."
   ]
  },
  {
   "cell_type": "markdown",
   "metadata": {},
   "source": [
    "### Policy-Based Method\n",
    "\n",
    "In **policy-based methods**, instead of learning a **value function** that tells us what is     \n",
    "the expected sum of rewards given a state and an action, we learn directly the **policy function**    \n",
    "that maps state to action (select actions without using a value function)."
   ]
  },
  {
   "cell_type": "markdown",
   "metadata": {},
   "source": [
    "### 1. Import the Necessary Packages"
   ]
  },
  {
   "cell_type": "code",
   "execution_count": 1,
   "metadata": {},
   "outputs": [],
   "source": [
    "import gym\n",
    "import numpy as np\n",
    "from collections import deque\n",
    "import matplotlib.pyplot as plt\n",
    "#%matplotlib inline\n",
    "import time\n"
   ]
  },
  {
   "cell_type": "markdown",
   "metadata": {},
   "source": [
    "### 2. Define the Policy"
   ]
  },
  {
   "cell_type": "code",
   "execution_count": 2,
   "metadata": {},
   "outputs": [
    {
     "name": "stdout",
     "output_type": "stream",
     "text": [
      "observation space: Box(4,)\n",
      "action space: Discrete(2)\n",
      "threshold:  195.0\n"
     ]
    }
   ],
   "source": [
    "env = gym.make('CartPole-v0')\n",
    "print('observation space:', env.observation_space)\n",
    "print('action space:', env.action_space)\n",
    "threshold = env.spec.reward_threshold\n",
    "print('threshold: ', threshold)\n",
    "\n",
    "class Policy():\n",
    "    def __init__(self, s_size=4, a_size=2):\n",
    "        self.w = 1e-4*np.random.rand(s_size, a_size)  # weights for simple linear policy: state_space x action_space\n",
    "        \n",
    "    def forward(self, state):\n",
    "        x = np.dot(state, self.w)\n",
    "        return np.exp(x)/sum(np.exp(x))\n",
    "    \n",
    "    def act(self, state):\n",
    "        probs = self.forward(state)\n",
    "        #action = np.random.choice(2, p=probs) # option 1: stochastic policy\n",
    "        action = np.argmax(probs)              # option 2: deterministic policy\n",
    "        return action"
   ]
  },
  {
   "cell_type": "markdown",
   "metadata": {},
   "source": [
    "### 3. Train the Agent with Stochastic Policy Search"
   ]
  },
  {
   "cell_type": "code",
   "execution_count": 3,
   "metadata": {},
   "outputs": [
    {
     "name": "stdout",
     "output_type": "stream",
     "text": [
      "Ep.:   1 , timesteps: 192, noise_scale (Gt >= best(Gt)): 0.0050, Gt 85.4803, \tAvg.Score:  192.000\n",
      "Ep.:   2 , timesteps:  54, noise_scale (Gt < best(Gt)): 0.0100, Gt 41.8834, \tAvg.Score:  123.000\n",
      "Ep.:   3 , timesteps:  82, noise_scale (Gt < best(Gt)): 0.0200, Gt 56.1382, \tAvg.Score:  109.333\n",
      "Ep.:   4 , timesteps:  11, noise_scale (Gt < best(Gt)): 0.0400, Gt 10.4662, \tAvg.Score:  84.750\n",
      "Ep.:   5 , timesteps:   8, noise_scale (Gt < best(Gt)): 0.0800, Gt 7.7255, \tAvg.Score:  69.400\n",
      "Ep.:   6 , timesteps:  32, noise_scale (Gt < best(Gt)): 0.1600, Gt 27.5020, \tAvg.Score:  63.167\n",
      "Ep.:   7 , timesteps:  10, noise_scale (Gt < best(Gt)): 0.3200, Gt 9.5618, \tAvg.Score:  55.571\n",
      "Ep.:   8 , timesteps:   9, noise_scale (Gt < best(Gt)): 0.6400, Gt 8.6483, \tAvg.Score:  49.750\n",
      "Ep.:   9 , timesteps:  10, noise_scale (Gt < best(Gt)): 1.2800, Gt 9.5618, \tAvg.Score:  45.333\n",
      "Ep.:  10 , timesteps:  34, noise_scale (Gt < best(Gt)): 2.0000, Gt 28.9447, \tAvg.Score:  44.200\n",
      "Ep.:  11 , timesteps:   8, noise_scale (Gt < best(Gt)): 2.0000, Gt 7.7255, \tAvg.Score:  40.909\n",
      "Ep.:  12 , timesteps:  11, noise_scale (Gt < best(Gt)): 2.0000, Gt 10.4662, \tAvg.Score:  38.417\n",
      "Ep.:  13 , timesteps:  42, noise_scale (Gt < best(Gt)): 2.0000, Gt 34.4341, \tAvg.Score:  38.692\n",
      "Ep.:  14 , timesteps: 200, noise_scale (Gt >= best(Gt)): 1.0000, Gt 86.6020, \tAvg.Score:  50.214\n",
      "Ep.:  15 , timesteps:  95, noise_scale (Gt < best(Gt)): 2.0000, Gt 61.5104, \tAvg.Score:  53.200\n",
      "Ep.:  16 , timesteps: 103, noise_scale (Gt < best(Gt)): 2.0000, Gt 64.4839, \tAvg.Score:  56.312\n",
      "Ep.:  17 , timesteps: 155, noise_scale (Gt < best(Gt)): 2.0000, Gt 78.9402, \tAvg.Score:  62.118\n",
      "Ep.:  18 , timesteps:  68, noise_scale (Gt < best(Gt)): 2.0000, Gt 49.5114, \tAvg.Score:  62.444\n",
      "Ep.:  19 , timesteps: 200, noise_scale (Gt >= best(Gt)): 1.0000, Gt 86.6020, \tAvg.Score:  69.684\n",
      "Ep.:  20 , timesteps: 200, noise_scale (Gt >= best(Gt)): 0.5000, Gt 86.6020, \tAvg.Score:  76.200\n",
      "Ep.:  21 , timesteps: 200, noise_scale (Gt >= best(Gt)): 0.2500, Gt 86.6020, \tAvg.Score:  82.095\n",
      "Ep.:  22 , timesteps: 200, noise_scale (Gt >= best(Gt)): 0.1250, Gt 86.6020, \tAvg.Score:  87.455\n",
      "Ep.:  23 , timesteps: 200, noise_scale (Gt >= best(Gt)): 0.0625, Gt 86.6020, \tAvg.Score:  92.348\n",
      "Ep.:  24 , timesteps: 200, noise_scale (Gt >= best(Gt)): 0.0312, Gt 86.6020, \tAvg.Score:  96.833\n",
      "Ep.:  25 , timesteps: 200, noise_scale (Gt >= best(Gt)): 0.0156, Gt 86.6020, \tAvg.Score:  100.960\n",
      "Ep.:  26 , timesteps: 200, noise_scale (Gt >= best(Gt)): 0.0078, Gt 86.6020, \tAvg.Score:  104.769\n",
      "Ep.:  27 , timesteps: 200, noise_scale (Gt >= best(Gt)): 0.0039, Gt 86.6020, \tAvg.Score:  108.296\n",
      "Ep.:  28 , timesteps: 200, noise_scale (Gt >= best(Gt)): 0.0020, Gt 86.6020, \tAvg.Score:  111.571\n",
      "Ep.:  29 , timesteps: 200, noise_scale (Gt >= best(Gt)): 0.0010, Gt 86.6020, \tAvg.Score:  114.621\n",
      "Ep.:  30 , timesteps: 200, noise_scale (Gt >= best(Gt)): 0.0010, Gt 86.6020, \tAvg.Score:  117.467\n",
      "Ep.:  31 , timesteps: 200, noise_scale (Gt >= best(Gt)): 0.0010, Gt 86.6020, \tAvg.Score:  120.129\n",
      "Ep.:  32 , timesteps: 200, noise_scale (Gt >= best(Gt)): 0.0010, Gt 86.6020, \tAvg.Score:  122.625\n",
      "Ep.:  33 , timesteps: 200, noise_scale (Gt >= best(Gt)): 0.0010, Gt 86.6020, \tAvg.Score:  124.970\n",
      "Ep.:  34 , timesteps: 200, noise_scale (Gt >= best(Gt)): 0.0010, Gt 86.6020, \tAvg.Score:  127.176\n",
      "Ep.:  35 , timesteps: 200, noise_scale (Gt >= best(Gt)): 0.0010, Gt 86.6020, \tAvg.Score:  129.257\n",
      "Ep.:  36 , timesteps: 200, noise_scale (Gt >= best(Gt)): 0.0010, Gt 86.6020, \tAvg.Score:  131.222\n",
      "Ep.:  37 , timesteps: 200, noise_scale (Gt >= best(Gt)): 0.0010, Gt 86.6020, \tAvg.Score:  133.081\n",
      "Ep.:  38 , timesteps: 200, noise_scale (Gt >= best(Gt)): 0.0010, Gt 86.6020, \tAvg.Score:  134.842\n",
      "Ep.:  39 , timesteps: 200, noise_scale (Gt >= best(Gt)): 0.0010, Gt 86.6020, \tAvg.Score:  136.513\n",
      "Ep.:  40 , timesteps: 200, noise_scale (Gt >= best(Gt)): 0.0010, Gt 86.6020, \tAvg.Score:  138.100\n",
      "Ep.:  41 , timesteps: 200, noise_scale (Gt >= best(Gt)): 0.0010, Gt 86.6020, \tAvg.Score:  139.610\n",
      "Ep.:  42 , timesteps: 200, noise_scale (Gt >= best(Gt)): 0.0010, Gt 86.6020, \tAvg.Score:  141.048\n",
      "Ep.:  43 , timesteps: 200, noise_scale (Gt >= best(Gt)): 0.0010, Gt 86.6020, \tAvg.Score:  142.419\n",
      "Ep.:  44 , timesteps: 200, noise_scale (Gt >= best(Gt)): 0.0010, Gt 86.6020, \tAvg.Score:  143.727\n",
      "Ep.:  45 , timesteps: 200, noise_scale (Gt >= best(Gt)): 0.0010, Gt 86.6020, \tAvg.Score:  144.978\n",
      "Ep.:  46 , timesteps: 200, noise_scale (Gt >= best(Gt)): 0.0010, Gt 86.6020, \tAvg.Score:  146.174\n",
      "Ep.:  47 , timesteps: 200, noise_scale (Gt >= best(Gt)): 0.0010, Gt 86.6020, \tAvg.Score:  147.319\n",
      "Ep.:  48 , timesteps: 200, noise_scale (Gt >= best(Gt)): 0.0010, Gt 86.6020, \tAvg.Score:  148.417\n",
      "Ep.:  49 , timesteps: 200, noise_scale (Gt >= best(Gt)): 0.0010, Gt 86.6020, \tAvg.Score:  149.469\n",
      "Ep.:  50 , timesteps: 200, noise_scale (Gt >= best(Gt)): 0.0010, Gt 86.6020, \tAvg.Score:  150.480\n",
      "Ep.:  51 , timesteps: 200, noise_scale (Gt >= best(Gt)): 0.0010, Gt 86.6020, \tAvg.Score:  151.451\n",
      "Ep.:  52 , timesteps: 200, noise_scale (Gt >= best(Gt)): 0.0010, Gt 86.6020, \tAvg.Score:  152.385\n",
      "Ep.:  53 , timesteps: 200, noise_scale (Gt >= best(Gt)): 0.0010, Gt 86.6020, \tAvg.Score:  153.283\n",
      "Ep.:  54 , timesteps: 200, noise_scale (Gt >= best(Gt)): 0.0010, Gt 86.6020, \tAvg.Score:  154.148\n",
      "Ep.:  55 , timesteps: 200, noise_scale (Gt >= best(Gt)): 0.0010, Gt 86.6020, \tAvg.Score:  154.982\n",
      "Ep.:  56 , timesteps: 200, noise_scale (Gt >= best(Gt)): 0.0010, Gt 86.6020, \tAvg.Score:  155.786\n",
      "Ep.:  57 , timesteps: 200, noise_scale (Gt >= best(Gt)): 0.0010, Gt 86.6020, \tAvg.Score:  156.561\n",
      "Ep.:  58 , timesteps: 200, noise_scale (Gt >= best(Gt)): 0.0010, Gt 86.6020, \tAvg.Score:  157.310\n",
      "Ep.:  59 , timesteps: 200, noise_scale (Gt >= best(Gt)): 0.0010, Gt 86.6020, \tAvg.Score:  158.034\n",
      "Ep.:  60 , timesteps: 200, noise_scale (Gt >= best(Gt)): 0.0010, Gt 86.6020, \tAvg.Score:  158.733\n",
      "Ep.:  61 , timesteps: 200, noise_scale (Gt >= best(Gt)): 0.0010, Gt 86.6020, \tAvg.Score:  159.410\n",
      "Ep.:  62 , timesteps: 200, noise_scale (Gt >= best(Gt)): 0.0010, Gt 86.6020, \tAvg.Score:  160.065\n",
      "Ep.:  63 , timesteps: 200, noise_scale (Gt >= best(Gt)): 0.0010, Gt 86.6020, \tAvg.Score:  160.698\n",
      "Ep.:  64 , timesteps: 200, noise_scale (Gt >= best(Gt)): 0.0010, Gt 86.6020, \tAvg.Score:  161.312\n",
      "Ep.:  65 , timesteps: 200, noise_scale (Gt >= best(Gt)): 0.0010, Gt 86.6020, \tAvg.Score:  161.908\n",
      "Ep.:  66 , timesteps: 200, noise_scale (Gt >= best(Gt)): 0.0010, Gt 86.6020, \tAvg.Score:  162.485\n",
      "Ep.:  67 , timesteps: 200, noise_scale (Gt >= best(Gt)): 0.0010, Gt 86.6020, \tAvg.Score:  163.045\n",
      "Ep.:  68 , timesteps: 200, noise_scale (Gt >= best(Gt)): 0.0010, Gt 86.6020, \tAvg.Score:  163.588\n",
      "Ep.:  69 , timesteps: 200, noise_scale (Gt >= best(Gt)): 0.0010, Gt 86.6020, \tAvg.Score:  164.116\n",
      "Ep.:  70 , timesteps: 200, noise_scale (Gt >= best(Gt)): 0.0010, Gt 86.6020, \tAvg.Score:  164.629\n",
      "Ep.:  71 , timesteps: 200, noise_scale (Gt >= best(Gt)): 0.0010, Gt 86.6020, \tAvg.Score:  165.127\n",
      "Ep.:  72 , timesteps: 200, noise_scale (Gt >= best(Gt)): 0.0010, Gt 86.6020, \tAvg.Score:  165.611\n",
      "Ep.:  73 , timesteps: 200, noise_scale (Gt >= best(Gt)): 0.0010, Gt 86.6020, \tAvg.Score:  166.082\n",
      "Ep.:  74 , timesteps: 200, noise_scale (Gt >= best(Gt)): 0.0010, Gt 86.6020, \tAvg.Score:  166.541\n",
      "Ep.:  75 , timesteps: 200, noise_scale (Gt >= best(Gt)): 0.0010, Gt 86.6020, \tAvg.Score:  166.987\n",
      "Ep.:  76 , timesteps: 200, noise_scale (Gt >= best(Gt)): 0.0010, Gt 86.6020, \tAvg.Score:  167.421\n",
      "Ep.:  77 , timesteps: 200, noise_scale (Gt >= best(Gt)): 0.0010, Gt 86.6020, \tAvg.Score:  167.844\n",
      "Ep.:  78 , timesteps: 200, noise_scale (Gt >= best(Gt)): 0.0010, Gt 86.6020, \tAvg.Score:  168.256\n",
      "Ep.:  79 , timesteps: 200, noise_scale (Gt >= best(Gt)): 0.0010, Gt 86.6020, \tAvg.Score:  168.658\n",
      "Ep.:  80 , timesteps: 200, noise_scale (Gt >= best(Gt)): 0.0010, Gt 86.6020, \tAvg.Score:  169.050\n",
      "Ep.:  81 , timesteps: 200, noise_scale (Gt >= best(Gt)): 0.0010, Gt 86.6020, \tAvg.Score:  169.432\n",
      "Ep.:  82 , timesteps: 200, noise_scale (Gt >= best(Gt)): 0.0010, Gt 86.6020, \tAvg.Score:  169.805\n",
      "Ep.:  83 , timesteps: 200, noise_scale (Gt >= best(Gt)): 0.0010, Gt 86.6020, \tAvg.Score:  170.169\n",
      "Ep.:  84 , timesteps: 200, noise_scale (Gt >= best(Gt)): 0.0010, Gt 86.6020, \tAvg.Score:  170.524\n",
      "Ep.:  85 , timesteps: 200, noise_scale (Gt >= best(Gt)): 0.0010, Gt 86.6020, \tAvg.Score:  170.871\n",
      "Ep.:  86 , timesteps: 200, noise_scale (Gt >= best(Gt)): 0.0010, Gt 86.6020, \tAvg.Score:  171.209\n",
      "Ep.:  87 , timesteps: 200, noise_scale (Gt >= best(Gt)): 0.0010, Gt 86.6020, \tAvg.Score:  171.540\n"
     ]
    },
    {
     "name": "stdout",
     "output_type": "stream",
     "text": [
      "Ep.:  88 , timesteps: 200, noise_scale (Gt >= best(Gt)): 0.0010, Gt 86.6020, \tAvg.Score:  171.864\n",
      "Ep.:  89 , timesteps: 200, noise_scale (Gt >= best(Gt)): 0.0010, Gt 86.6020, \tAvg.Score:  172.180\n",
      "Ep.:  90 , timesteps: 200, noise_scale (Gt >= best(Gt)): 0.0010, Gt 86.6020, \tAvg.Score:  172.489\n",
      "Ep.:  91 , timesteps: 200, noise_scale (Gt >= best(Gt)): 0.0010, Gt 86.6020, \tAvg.Score:  172.791\n",
      "Ep.:  92 , timesteps: 200, noise_scale (Gt >= best(Gt)): 0.0010, Gt 86.6020, \tAvg.Score:  173.087\n",
      "Ep.:  93 , timesteps: 200, noise_scale (Gt >= best(Gt)): 0.0010, Gt 86.6020, \tAvg.Score:  173.376\n",
      "Ep.:  94 , timesteps: 200, noise_scale (Gt >= best(Gt)): 0.0010, Gt 86.6020, \tAvg.Score:  173.660\n",
      "Ep.:  95 , timesteps: 200, noise_scale (Gt >= best(Gt)): 0.0010, Gt 86.6020, \tAvg.Score:  173.937\n",
      "Ep.:  96 , timesteps: 200, noise_scale (Gt >= best(Gt)): 0.0010, Gt 86.6020, \tAvg.Score:  174.208\n",
      "Ep.:  97 , timesteps: 200, noise_scale (Gt >= best(Gt)): 0.0010, Gt 86.6020, \tAvg.Score:  174.474\n",
      "Ep.:  98 , timesteps: 200, noise_scale (Gt >= best(Gt)): 0.0010, Gt 86.6020, \tAvg.Score:  174.735\n",
      "Ep.:  99 , timesteps: 200, noise_scale (Gt >= best(Gt)): 0.0010, Gt 86.6020, \tAvg.Score:  174.990\n",
      "Ep.: 100 , timesteps: 200, noise_scale (Gt >= best(Gt)): 0.0010, Gt 86.6020, \tAvg.Score:  175.240\n",
      "Ep.: 101 , timesteps: 200, noise_scale (Gt >= best(Gt)): 0.0010, Gt 86.6020, \tAvg.Score:  175.320\n",
      "Ep.: 102 , timesteps: 200, noise_scale (Gt >= best(Gt)): 0.0010, Gt 86.6020, \tAvg.Score:  176.780\n",
      "Ep.: 103 , timesteps: 200, noise_scale (Gt >= best(Gt)): 0.0010, Gt 86.6020, \tAvg.Score:  177.960\n",
      "Ep.: 104 , timesteps: 200, noise_scale (Gt >= best(Gt)): 0.0010, Gt 86.6020, \tAvg.Score:  179.850\n",
      "Ep.: 105 , timesteps: 200, noise_scale (Gt >= best(Gt)): 0.0010, Gt 86.6020, \tAvg.Score:  181.770\n",
      "Ep.: 106 , timesteps: 200, noise_scale (Gt >= best(Gt)): 0.0010, Gt 86.6020, \tAvg.Score:  183.450\n",
      "Ep.: 107 , timesteps: 200, noise_scale (Gt >= best(Gt)): 0.0010, Gt 86.6020, \tAvg.Score:  185.350\n",
      "Ep.: 108 , timesteps: 200, noise_scale (Gt >= best(Gt)): 0.0010, Gt 86.6020, \tAvg.Score:  187.260\n",
      "Ep.: 109 , timesteps: 200, noise_scale (Gt >= best(Gt)): 0.0010, Gt 86.6020, \tAvg.Score:  189.160\n",
      "Ep.: 110 , timesteps: 200, noise_scale (Gt >= best(Gt)): 0.0010, Gt 86.6020, \tAvg.Score:  190.820\n",
      "Ep.: 111 , timesteps: 200, noise_scale (Gt >= best(Gt)): 0.0010, Gt 86.6020, \tAvg.Score:  192.740\n",
      "Ep.: 112 , timesteps: 200, noise_scale (Gt >= best(Gt)): 0.0010, Gt 86.6020, \tAvg.Score:  194.630\n",
      "Ep.: 113 , timesteps: 200, noise_scale (Gt >= best(Gt)): 0.0010, Gt 86.6020, \tAvg.Score:  196.210\n",
      "Environment solved in 113 episodes!\tAverage Score: 196.21\n"
     ]
    }
   ],
   "source": [
    "env.seed(0)\n",
    "np.random.seed(0)\n",
    "\n",
    "policy = Policy()\n",
    "\n",
    "def hill_climbing(n_episodes=1000, gamma=0.99, print_every=100, noise_scale=1e-2):\n",
    "    \"\"\"Implementation of hill climbing with adaptive noise scaling.\n",
    "        \n",
    "    Params\n",
    "    ======\n",
    "        n_episodes (int): maximum number of training episodes\n",
    "        max_t (int): maximum number of timesteps per episode\n",
    "        gamma (float): discount rate\n",
    "        print_every (int): how often to print average score (over last 100 episodes)\n",
    "        noise_scale (float): standard deviation of additive noise\n",
    "    \"\"\"\n",
    "    scores_deque = deque(maxlen=100)\n",
    "    scores = []\n",
    "    arr_noise = []\n",
    "    best_Gt = -np.Inf\n",
    "    best_w = policy.w\n",
    "    for i_episode in range(1, n_episodes+1):\n",
    "        rewards = []\n",
    "        state = env.reset()\n",
    "        timesteps = 0 ## is the same as len(rewards)\n",
    "        \n",
    "        while True:\n",
    "            action = policy.act(state)\n",
    "            state, reward, done, _ = env.step(action)            \n",
    "            rewards.append(reward)\n",
    "            timesteps += 1  \n",
    "            if done:\n",
    "                break \n",
    "                \n",
    "        total_reward = sum(rewards)        \n",
    "        scores_deque.append(total_reward)\n",
    "        scores.append(total_reward)\n",
    "\n",
    "        discounts = [gamma**i for i in range(len(rewards)+1)]\n",
    "        ## This is the 'cumulative discounted reward' or TD-target G_t\n",
    "        Gt = sum([a*b for a,b in zip(discounts, rewards)])\n",
    "        \n",
    "        if Gt >= best_Gt: # found better weights\n",
    "            ## if Gt > best_R ==> decrease the noise: noise = noise/2  (till 0.001)\n",
    "            best_Gt = Gt\n",
    "            best_w = policy.w\n",
    "            noise_scale = max(1e-3, noise_scale / 2)\n",
    "            print('Ep.: {:3d} , timesteps: {:3d}, noise_scale (Gt >= best(Gt)): {:.4f}, Gt {:.4f}, \\tAvg.Score:  {:.3f}'\\\n",
    "                  .format(i_episode, timesteps, noise_scale, Gt, np.mean(scores_deque)))\n",
    "            policy.w += noise_scale * np.random.rand(*policy.w.shape) \n",
    "        else: # did not find better weights\n",
    "            ## if Gt < best_R ==> increase the noise: noise = 2*noise (till 2)\n",
    "            noise_scale = min(2, noise_scale * 2)\n",
    "            print('Ep.: {:3d} , timesteps: {:3d}, noise_scale (Gt < best(Gt)): {:.4f}, Gt {:.4f}, \\tAvg.Score:  {:.3f}'\\\n",
    "                  .format(i_episode, timesteps, noise_scale, Gt, np.mean(scores_deque)))\n",
    "            policy.w = best_w + noise_scale * np.random.rand(*policy.w.shape)\n",
    "            \n",
    "        arr_noise.append(noise_scale)   \n",
    "\n",
    "        if np.mean(scores_deque)>=threshold:\n",
    "            print('Environment solved in {:d} episodes!\\tAverage Score: {:.2f}'.format(i_episode, np.mean(scores_deque)))\n",
    "            policy.w = best_w\n",
    "            break\n",
    "    \n",
    "    return scores, arr_noise\n",
    "            \n",
    "scores, arr_noise = hill_climbing()"
   ]
  },
  {
   "cell_type": "markdown",
   "metadata": {},
   "source": [
    "### 4. Plot the Scores"
   ]
  },
  {
   "cell_type": "code",
   "execution_count": 4,
   "metadata": {},
   "outputs": [
    {
     "data": {
      "image/png": "[encoded data removed]",
      "text/plain": [
       "<Figure size 432x288 with 1 Axes>"
      ]
     },
     "metadata": {
      "needs_background": "light"
     },
     "output_type": "display_data"
    }
   ],
   "source": [
    "fig = plt.figure()\n",
    "ax = fig.add_subplot(111)\n",
    "plt.plot(np.arange(1, len(scores)+1), scores)\n",
    "plt.ylabel('Score, gamma=0.99')\n",
    "plt.xlabel('Episode #')\n",
    "plt.show()"
   ]
  },
  {
   "cell_type": "code",
   "execution_count": 5,
   "metadata": {},
   "outputs": [
    {
     "data": {
      "image/png": "[encoded data removed]",
      "text/plain": [
       "<Figure size 432x288 with 1 Axes>"
      ]
     },
     "metadata": {
      "needs_background": "light"
     },
     "output_type": "display_data"
    }
   ],
   "source": [
    "ax2 = fig.add_subplot(121)\n",
    "plt.plot(np.arange(1, len(arr_noise)+1), arr_noise)\n",
    "plt.ylabel('Noise Scale, gamma=0.99')\n",
    "plt.xlabel('Episode #')\n",
    "plt.show()"
   ]
  },
  {
   "cell_type": "markdown",
   "metadata": {},
   "source": [
    "### 5. Watch a Smart Agent!\n",
    "\n",
    "Each step of the Smart Agent animation includes the cl of the following _action_, _state_ and _reward_.     \n",
    "This also includes a slight _delay_ (0.1 sec) for better observation of the animation, and  further rendering."
   ]
  },
  {
   "cell_type": "code",
   "execution_count": 6,
   "metadata": {},
   "outputs": [
    {
     "name": "stdout",
     "output_type": "stream",
     "text": [
      "timesteps:  200\n",
      "time :  11.815999984741211\n"
     ]
    }
   ],
   "source": [
    "t1 = time.time()\n",
    "\n",
    "state = env.reset()\n",
    "timesteps = 0\n",
    "while True:\n",
    "    action = policy.act(state)\n",
    "    env.render()\n",
    "    time.sleep(0.05)\n",
    "    timesteps += 1\n",
    "    state, reward, done, _ = env.step(action)\n",
    "    if done:\n",
    "        break \n",
    "\n",
    "print('timesteps: ', timesteps)\n",
    "delta = time.time() - t1\n",
    "print('time : ', delta)\n",
    "env.close()"
   ]
  },
  {
   "cell_type": "code",
   "execution_count": null,
   "metadata": {},
   "outputs": [],
   "source": []
  }
 ],
 "metadata": {
  "anaconda-cloud": {},
  "kernelspec": {
   "display_name": "Python 3",
   "language": "python",
   "name": "python3"
  },
  "language_info": {
   "codemirror_mode": {
    "name": "ipython",
    "version": 3
   },
   "file_extension": ".py",
   "mimetype": "text/x-python",
   "name": "python",
   "nbconvert_exporter": "python",
   "pygments_lexer": "ipython3",
   "version": "3.7.3"
  }
 },
 "nbformat": 4,
 "nbformat_minor": 2
}
