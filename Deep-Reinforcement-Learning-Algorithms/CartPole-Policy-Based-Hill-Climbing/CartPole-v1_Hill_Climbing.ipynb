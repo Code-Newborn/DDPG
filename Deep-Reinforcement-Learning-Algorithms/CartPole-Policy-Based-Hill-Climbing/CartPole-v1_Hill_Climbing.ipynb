{
 "cells": [
  {
   "cell_type": "markdown",
   "metadata": {},
   "source": [
    "# Hill Climbing (with adaptive noise scaling, without tensors) \n",
    "# CartPole-v1\n",
    "\n",
    "---\n",
    "\n",
    "   In this notebook, we train the Hill Climbing Agent with   \n",
    "**adaptive noise scaling** with OpenAI Gym's Cartpole environment."
   ]
  },
  {
   "cell_type": "markdown",
   "metadata": {},
   "source": [
    "### Policy-Based Method\n",
    "\n",
    "In **policy-based methods**, instead of learning a **value function** that tells us what is     \n",
    "the expected sum of rewards given a state and an action, we learn directly the **policy function**    \n",
    "that maps state to action (select actions without using a value function)."
   ]
  },
  {
   "cell_type": "markdown",
   "metadata": {},
   "source": [
    "### 1. Import the Necessary Packages"
   ]
  },
  {
   "cell_type": "code",
   "execution_count": 1,
   "metadata": {},
   "outputs": [],
   "source": [
    "import gym\n",
    "import numpy as np\n",
    "from collections import deque\n",
    "import matplotlib.pyplot as plt\n",
    "#%matplotlib inline\n",
    "import time\n"
   ]
  },
  {
   "cell_type": "markdown",
   "metadata": {},
   "source": [
    "### 2. Define the Policy"
   ]
  },
  {
   "cell_type": "code",
   "execution_count": 2,
   "metadata": {},
   "outputs": [
    {
     "name": "stdout",
     "output_type": "stream",
     "text": [
      "observation space: Box(4,)\n",
      "action space: Discrete(2)\n",
      "threshold:  475.0\n"
     ]
    }
   ],
   "source": [
    "env = gym.make('CartPole-v1')\n",
    "print('observation space:', env.observation_space)\n",
    "print('action space:', env.action_space)\n",
    "threshold = env.spec.reward_threshold\n",
    "print('threshold: ', threshold)\n",
    "\n",
    "class Policy():\n",
    "    def __init__(self, s_size=4, a_size=2):\n",
    "        self.w = 1e-4*np.random.rand(s_size, a_size)  # weights for simple linear policy: state_space x action_space\n",
    "        \n",
    "    def forward(self, state):\n",
    "        x = np.dot(state, self.w)\n",
    "        return np.exp(x)/sum(np.exp(x))\n",
    "    \n",
    "    def act(self, state):\n",
    "        probs = self.forward(state)\n",
    "        #action = np.random.choice(2, p=probs) # option 1: stochastic policy\n",
    "        action = np.argmax(probs)              # option 2: deterministic policy\n",
    "        return action"
   ]
  },
  {
   "cell_type": "markdown",
   "metadata": {},
   "source": [
    "### 3. Train the Agent with Stochastic Policy Search"
   ]
  },
  {
   "cell_type": "code",
   "execution_count": 3,
   "metadata": {},
   "outputs": [
    {
     "name": "stdout",
     "output_type": "stream",
     "text": [
      "Ep.:   1 , timesteps: 192, noise_scale (Gt >= best(Gt)): 0.0050, Gt 85.4803, \tAvg.Score:  192.000\n",
      "Ep.:   2 , timesteps:  54, noise_scale (Gt < best(Gt)): 0.0100, Gt 41.8834, \tAvg.Score:  123.000\n",
      "Ep.:   3 , timesteps:  82, noise_scale (Gt < best(Gt)): 0.0200, Gt 56.1382, \tAvg.Score:  109.333\n",
      "Ep.:   4 , timesteps:  11, noise_scale (Gt < best(Gt)): 0.0400, Gt 10.4662, \tAvg.Score:  84.750\n",
      "Ep.:   5 , timesteps:   8, noise_scale (Gt < best(Gt)): 0.0800, Gt 7.7255, \tAvg.Score:  69.400\n",
      "Ep.:   6 , timesteps:  32, noise_scale (Gt < best(Gt)): 0.1600, Gt 27.5020, \tAvg.Score:  63.167\n",
      "Ep.:   7 , timesteps:  10, noise_scale (Gt < best(Gt)): 0.3200, Gt 9.5618, \tAvg.Score:  55.571\n",
      "Ep.:   8 , timesteps:   9, noise_scale (Gt < best(Gt)): 0.6400, Gt 8.6483, \tAvg.Score:  49.750\n",
      "Ep.:   9 , timesteps:  10, noise_scale (Gt < best(Gt)): 1.2800, Gt 9.5618, \tAvg.Score:  45.333\n",
      "Ep.:  10 , timesteps:  34, noise_scale (Gt < best(Gt)): 2.0000, Gt 28.9447, \tAvg.Score:  44.200\n",
      "Ep.:  11 , timesteps:   8, noise_scale (Gt < best(Gt)): 2.0000, Gt 7.7255, \tAvg.Score:  40.909\n",
      "Ep.:  12 , timesteps:  11, noise_scale (Gt < best(Gt)): 2.0000, Gt 10.4662, \tAvg.Score:  38.417\n",
      "Ep.:  13 , timesteps:  42, noise_scale (Gt < best(Gt)): 2.0000, Gt 34.4341, \tAvg.Score:  38.692\n",
      "Ep.:  14 , timesteps: 500, noise_scale (Gt >= best(Gt)): 1.0000, Gt 99.3430, \tAvg.Score:  71.643\n",
      "Ep.:  15 , timesteps:  95, noise_scale (Gt < best(Gt)): 2.0000, Gt 61.5104, \tAvg.Score:  73.200\n",
      "Ep.:  16 , timesteps: 103, noise_scale (Gt < best(Gt)): 2.0000, Gt 64.4839, \tAvg.Score:  75.062\n",
      "Ep.:  17 , timesteps: 155, noise_scale (Gt < best(Gt)): 2.0000, Gt 78.9402, \tAvg.Score:  79.765\n",
      "Ep.:  18 , timesteps:  68, noise_scale (Gt < best(Gt)): 2.0000, Gt 49.5114, \tAvg.Score:  79.111\n",
      "Ep.:  19 , timesteps: 500, noise_scale (Gt >= best(Gt)): 1.0000, Gt 99.3430, \tAvg.Score:  101.263\n",
      "Ep.:  20 , timesteps: 500, noise_scale (Gt >= best(Gt)): 0.5000, Gt 99.3430, \tAvg.Score:  121.200\n",
      "Ep.:  21 , timesteps: 500, noise_scale (Gt >= best(Gt)): 0.2500, Gt 99.3430, \tAvg.Score:  139.238\n",
      "Ep.:  22 , timesteps: 500, noise_scale (Gt >= best(Gt)): 0.1250, Gt 99.3430, \tAvg.Score:  155.636\n",
      "Ep.:  23 , timesteps: 500, noise_scale (Gt >= best(Gt)): 0.0625, Gt 99.3430, \tAvg.Score:  170.609\n",
      "Ep.:  24 , timesteps: 500, noise_scale (Gt >= best(Gt)): 0.0312, Gt 99.3430, \tAvg.Score:  184.333\n",
      "Ep.:  25 , timesteps: 500, noise_scale (Gt >= best(Gt)): 0.0156, Gt 99.3430, \tAvg.Score:  196.960\n",
      "Ep.:  26 , timesteps: 500, noise_scale (Gt >= best(Gt)): 0.0078, Gt 99.3430, \tAvg.Score:  208.615\n",
      "Ep.:  27 , timesteps: 500, noise_scale (Gt >= best(Gt)): 0.0039, Gt 99.3430, \tAvg.Score:  219.407\n",
      "Ep.:  28 , timesteps: 500, noise_scale (Gt >= best(Gt)): 0.0020, Gt 99.3430, \tAvg.Score:  229.429\n",
      "Ep.:  29 , timesteps: 500, noise_scale (Gt >= best(Gt)): 0.0010, Gt 99.3430, \tAvg.Score:  238.759\n",
      "Ep.:  30 , timesteps: 500, noise_scale (Gt >= best(Gt)): 0.0010, Gt 99.3430, \tAvg.Score:  247.467\n",
      "Ep.:  31 , timesteps: 500, noise_scale (Gt >= best(Gt)): 0.0010, Gt 99.3430, \tAvg.Score:  255.613\n",
      "Ep.:  32 , timesteps: 500, noise_scale (Gt >= best(Gt)): 0.0010, Gt 99.3430, \tAvg.Score:  263.250\n",
      "Ep.:  33 , timesteps: 500, noise_scale (Gt >= best(Gt)): 0.0010, Gt 99.3430, \tAvg.Score:  270.424\n",
      "Ep.:  34 , timesteps: 500, noise_scale (Gt >= best(Gt)): 0.0010, Gt 99.3430, \tAvg.Score:  277.176\n",
      "Ep.:  35 , timesteps: 500, noise_scale (Gt >= best(Gt)): 0.0010, Gt 99.3430, \tAvg.Score:  283.543\n",
      "Ep.:  36 , timesteps: 500, noise_scale (Gt >= best(Gt)): 0.0010, Gt 99.3430, \tAvg.Score:  289.556\n",
      "Ep.:  37 , timesteps: 500, noise_scale (Gt >= best(Gt)): 0.0010, Gt 99.3430, \tAvg.Score:  295.243\n",
      "Ep.:  38 , timesteps: 500, noise_scale (Gt >= best(Gt)): 0.0010, Gt 99.3430, \tAvg.Score:  300.632\n",
      "Ep.:  39 , timesteps: 500, noise_scale (Gt >= best(Gt)): 0.0010, Gt 99.3430, \tAvg.Score:  305.744\n",
      "Ep.:  40 , timesteps: 500, noise_scale (Gt >= best(Gt)): 0.0010, Gt 99.3430, \tAvg.Score:  310.600\n",
      "Ep.:  41 , timesteps: 500, noise_scale (Gt >= best(Gt)): 0.0010, Gt 99.3430, \tAvg.Score:  315.220\n",
      "Ep.:  42 , timesteps: 500, noise_scale (Gt >= best(Gt)): 0.0010, Gt 99.3430, \tAvg.Score:  319.619\n",
      "Ep.:  43 , timesteps: 500, noise_scale (Gt >= best(Gt)): 0.0010, Gt 99.3430, \tAvg.Score:  323.814\n",
      "Ep.:  44 , timesteps: 500, noise_scale (Gt >= best(Gt)): 0.0010, Gt 99.3430, \tAvg.Score:  327.818\n",
      "Ep.:  45 , timesteps: 500, noise_scale (Gt >= best(Gt)): 0.0010, Gt 99.3430, \tAvg.Score:  331.644\n",
      "Ep.:  46 , timesteps: 500, noise_scale (Gt >= best(Gt)): 0.0010, Gt 99.3430, \tAvg.Score:  335.304\n",
      "Ep.:  47 , timesteps: 500, noise_scale (Gt >= best(Gt)): 0.0010, Gt 99.3430, \tAvg.Score:  338.809\n",
      "Ep.:  48 , timesteps: 500, noise_scale (Gt >= best(Gt)): 0.0010, Gt 99.3430, \tAvg.Score:  342.167\n",
      "Ep.:  49 , timesteps: 500, noise_scale (Gt >= best(Gt)): 0.0010, Gt 99.3430, \tAvg.Score:  345.388\n",
      "Ep.:  50 , timesteps: 500, noise_scale (Gt >= best(Gt)): 0.0010, Gt 99.3430, \tAvg.Score:  348.480\n",
      "Ep.:  51 , timesteps: 500, noise_scale (Gt >= best(Gt)): 0.0010, Gt 99.3430, \tAvg.Score:  351.451\n",
      "Ep.:  52 , timesteps: 500, noise_scale (Gt >= best(Gt)): 0.0010, Gt 99.3430, \tAvg.Score:  354.308\n",
      "Ep.:  53 , timesteps: 500, noise_scale (Gt >= best(Gt)): 0.0010, Gt 99.3430, \tAvg.Score:  357.057\n",
      "Ep.:  54 , timesteps: 500, noise_scale (Gt >= best(Gt)): 0.0010, Gt 99.3430, \tAvg.Score:  359.704\n",
      "Ep.:  55 , timesteps: 500, noise_scale (Gt >= best(Gt)): 0.0010, Gt 99.3430, \tAvg.Score:  362.255\n",
      "Ep.:  56 , timesteps: 500, noise_scale (Gt >= best(Gt)): 0.0010, Gt 99.3430, \tAvg.Score:  364.714\n",
      "Ep.:  57 , timesteps: 500, noise_scale (Gt >= best(Gt)): 0.0010, Gt 99.3430, \tAvg.Score:  367.088\n",
      "Ep.:  58 , timesteps: 500, noise_scale (Gt >= best(Gt)): 0.0010, Gt 99.3430, \tAvg.Score:  369.379\n",
      "Ep.:  59 , timesteps: 500, noise_scale (Gt >= best(Gt)): 0.0010, Gt 99.3430, \tAvg.Score:  371.593\n",
      "Ep.:  60 , timesteps: 500, noise_scale (Gt >= best(Gt)): 0.0010, Gt 99.3430, \tAvg.Score:  373.733\n",
      "Ep.:  61 , timesteps: 500, noise_scale (Gt >= best(Gt)): 0.0010, Gt 99.3430, \tAvg.Score:  375.803\n",
      "Ep.:  62 , timesteps: 500, noise_scale (Gt >= best(Gt)): 0.0010, Gt 99.3430, \tAvg.Score:  377.806\n",
      "Ep.:  63 , timesteps: 500, noise_scale (Gt >= best(Gt)): 0.0010, Gt 99.3430, \tAvg.Score:  379.746\n",
      "Ep.:  64 , timesteps: 500, noise_scale (Gt >= best(Gt)): 0.0010, Gt 99.3430, \tAvg.Score:  381.625\n",
      "Ep.:  65 , timesteps: 500, noise_scale (Gt >= best(Gt)): 0.0010, Gt 99.3430, \tAvg.Score:  383.446\n",
      "Ep.:  66 , timesteps: 500, noise_scale (Gt >= best(Gt)): 0.0010, Gt 99.3430, \tAvg.Score:  385.212\n",
      "Ep.:  67 , timesteps: 500, noise_scale (Gt >= best(Gt)): 0.0010, Gt 99.3430, \tAvg.Score:  386.925\n",
      "Ep.:  68 , timesteps: 500, noise_scale (Gt >= best(Gt)): 0.0010, Gt 99.3430, \tAvg.Score:  388.588\n",
      "Ep.:  69 , timesteps: 500, noise_scale (Gt >= best(Gt)): 0.0010, Gt 99.3430, \tAvg.Score:  390.203\n",
      "Ep.:  70 , timesteps: 500, noise_scale (Gt >= best(Gt)): 0.0010, Gt 99.3430, \tAvg.Score:  391.771\n",
      "Ep.:  71 , timesteps: 500, noise_scale (Gt >= best(Gt)): 0.0010, Gt 99.3430, \tAvg.Score:  393.296\n",
      "Ep.:  72 , timesteps: 500, noise_scale (Gt >= best(Gt)): 0.0010, Gt 99.3430, \tAvg.Score:  394.778\n",
      "Ep.:  73 , timesteps: 500, noise_scale (Gt >= best(Gt)): 0.0010, Gt 99.3430, \tAvg.Score:  396.219\n",
      "Ep.:  74 , timesteps: 500, noise_scale (Gt >= best(Gt)): 0.0010, Gt 99.3430, \tAvg.Score:  397.622\n",
      "Ep.:  75 , timesteps: 500, noise_scale (Gt >= best(Gt)): 0.0010, Gt 99.3430, \tAvg.Score:  398.987\n",
      "Ep.:  76 , timesteps: 500, noise_scale (Gt >= best(Gt)): 0.0010, Gt 99.3430, \tAvg.Score:  400.316\n",
      "Ep.:  77 , timesteps: 500, noise_scale (Gt >= best(Gt)): 0.0010, Gt 99.3430, \tAvg.Score:  401.610\n",
      "Ep.:  78 , timesteps: 500, noise_scale (Gt >= best(Gt)): 0.0010, Gt 99.3430, \tAvg.Score:  402.872\n",
      "Ep.:  79 , timesteps: 500, noise_scale (Gt >= best(Gt)): 0.0010, Gt 99.3430, \tAvg.Score:  404.101\n",
      "Ep.:  80 , timesteps: 500, noise_scale (Gt >= best(Gt)): 0.0010, Gt 99.3430, \tAvg.Score:  405.300\n",
      "Ep.:  81 , timesteps: 500, noise_scale (Gt >= best(Gt)): 0.0010, Gt 99.3430, \tAvg.Score:  406.469\n",
      "Ep.:  82 , timesteps: 500, noise_scale (Gt >= best(Gt)): 0.0010, Gt 99.3430, \tAvg.Score:  407.610\n",
      "Ep.:  83 , timesteps: 500, noise_scale (Gt >= best(Gt)): 0.0010, Gt 99.3430, \tAvg.Score:  408.723\n",
      "Ep.:  84 , timesteps: 500, noise_scale (Gt >= best(Gt)): 0.0010, Gt 99.3430, \tAvg.Score:  409.810\n",
      "Ep.:  85 , timesteps: 500, noise_scale (Gt >= best(Gt)): 0.0010, Gt 99.3430, \tAvg.Score:  410.871\n",
      "Ep.:  86 , timesteps: 500, noise_scale (Gt >= best(Gt)): 0.0010, Gt 99.3430, \tAvg.Score:  411.907\n",
      "Ep.:  87 , timesteps: 500, noise_scale (Gt >= best(Gt)): 0.0010, Gt 99.3430, \tAvg.Score:  412.920\n"
     ]
    },
    {
     "name": "stdout",
     "output_type": "stream",
     "text": [
      "Ep.:  88 , timesteps: 500, noise_scale (Gt >= best(Gt)): 0.0010, Gt 99.3430, \tAvg.Score:  413.909\n",
      "Ep.:  89 , timesteps: 500, noise_scale (Gt >= best(Gt)): 0.0010, Gt 99.3430, \tAvg.Score:  414.876\n",
      "Ep.:  90 , timesteps: 500, noise_scale (Gt >= best(Gt)): 0.0010, Gt 99.3430, \tAvg.Score:  415.822\n",
      "Ep.:  91 , timesteps: 500, noise_scale (Gt >= best(Gt)): 0.0010, Gt 99.3430, \tAvg.Score:  416.747\n",
      "Ep.:  92 , timesteps: 500, noise_scale (Gt >= best(Gt)): 0.0010, Gt 99.3430, \tAvg.Score:  417.652\n",
      "Ep.:  93 , timesteps: 500, noise_scale (Gt >= best(Gt)): 0.0010, Gt 99.3430, \tAvg.Score:  418.538\n",
      "Ep.:  94 , timesteps: 500, noise_scale (Gt >= best(Gt)): 0.0010, Gt 99.3430, \tAvg.Score:  419.404\n",
      "Ep.:  95 , timesteps: 500, noise_scale (Gt >= best(Gt)): 0.0010, Gt 99.3430, \tAvg.Score:  420.253\n",
      "Ep.:  96 , timesteps: 500, noise_scale (Gt >= best(Gt)): 0.0010, Gt 99.3430, \tAvg.Score:  421.083\n",
      "Ep.:  97 , timesteps: 500, noise_scale (Gt >= best(Gt)): 0.0010, Gt 99.3430, \tAvg.Score:  421.897\n",
      "Ep.:  98 , timesteps: 500, noise_scale (Gt >= best(Gt)): 0.0010, Gt 99.3430, \tAvg.Score:  422.694\n",
      "Ep.:  99 , timesteps: 500, noise_scale (Gt >= best(Gt)): 0.0010, Gt 99.3430, \tAvg.Score:  423.475\n",
      "Ep.: 100 , timesteps: 500, noise_scale (Gt >= best(Gt)): 0.0010, Gt 99.3430, \tAvg.Score:  424.240\n",
      "Ep.: 101 , timesteps: 500, noise_scale (Gt >= best(Gt)): 0.0010, Gt 99.3430, \tAvg.Score:  427.320\n",
      "Ep.: 102 , timesteps: 500, noise_scale (Gt >= best(Gt)): 0.0010, Gt 99.3430, \tAvg.Score:  431.780\n",
      "Ep.: 103 , timesteps: 500, noise_scale (Gt >= best(Gt)): 0.0010, Gt 99.3430, \tAvg.Score:  435.960\n",
      "Ep.: 104 , timesteps: 500, noise_scale (Gt >= best(Gt)): 0.0010, Gt 99.3430, \tAvg.Score:  440.850\n",
      "Ep.: 105 , timesteps: 500, noise_scale (Gt >= best(Gt)): 0.0010, Gt 99.3430, \tAvg.Score:  445.770\n",
      "Ep.: 106 , timesteps: 500, noise_scale (Gt >= best(Gt)): 0.0010, Gt 99.3430, \tAvg.Score:  450.450\n",
      "Ep.: 107 , timesteps: 500, noise_scale (Gt >= best(Gt)): 0.0010, Gt 99.3430, \tAvg.Score:  455.350\n",
      "Ep.: 108 , timesteps: 500, noise_scale (Gt >= best(Gt)): 0.0010, Gt 99.3430, \tAvg.Score:  460.260\n",
      "Ep.: 109 , timesteps: 500, noise_scale (Gt >= best(Gt)): 0.0010, Gt 99.3430, \tAvg.Score:  465.160\n",
      "Ep.: 110 , timesteps: 500, noise_scale (Gt >= best(Gt)): 0.0010, Gt 99.3430, \tAvg.Score:  469.820\n",
      "Ep.: 111 , timesteps: 500, noise_scale (Gt >= best(Gt)): 0.0010, Gt 99.3430, \tAvg.Score:  474.740\n",
      "Ep.: 112 , timesteps: 500, noise_scale (Gt >= best(Gt)): 0.0010, Gt 99.3430, \tAvg.Score:  479.630\n",
      "Environment solved in 112 episodes!\tAverage Score: 479.63\n"
     ]
    }
   ],
   "source": [
    "env.seed(0)\n",
    "np.random.seed(0)\n",
    "\n",
    "policy = Policy()\n",
    "\n",
    "def hill_climbing(n_episodes=1000, gamma=0.99, print_every=100, noise_scale=1e-2):\n",
    "    \"\"\"Implementation of hill climbing with adaptive noise scaling.\n",
    "        \n",
    "    Params\n",
    "    ======\n",
    "        n_episodes (int): maximum number of training episodes\n",
    "        max_t (int): maximum number of timesteps per episode\n",
    "        gamma (float): discount rate\n",
    "        print_every (int): how often to print average score (over last 100 episodes)\n",
    "        noise_scale (float): standard deviation of additive noise\n",
    "    \"\"\"\n",
    "    scores_deque = deque(maxlen=100)\n",
    "    scores = []\n",
    "    arr_noise = []\n",
    "    best_Gt = -np.Inf\n",
    "    best_w = policy.w\n",
    "    for i_episode in range(1, n_episodes+1):\n",
    "        rewards = []\n",
    "        state = env.reset()\n",
    "        timesteps = 0 ## is the same as len(rewards)\n",
    "        \n",
    "        while True:\n",
    "            action = policy.act(state)\n",
    "            state, reward, done, _ = env.step(action)            \n",
    "            rewards.append(reward)\n",
    "            timesteps += 1  \n",
    "            if done:\n",
    "                break \n",
    "                \n",
    "        total_reward = sum(rewards)        \n",
    "        scores_deque.append(total_reward)\n",
    "        scores.append(total_reward)\n",
    "\n",
    "        discounts = [gamma**i for i in range(len(rewards)+1)]\n",
    "        ## This is the 'cumulative discounted reward' or TD-target G_t\n",
    "        Gt = sum([a*b for a,b in zip(discounts, rewards)])\n",
    "        \n",
    "        if Gt >= best_Gt: # found better weights\n",
    "            ## if Gt > best_R ==> decrease the noise: noise = noise/2  (till 0.001)\n",
    "            best_Gt = Gt\n",
    "            best_w = policy.w\n",
    "            noise_scale = max(1e-3, noise_scale / 2)\n",
    "            print('Ep.: {:3d} , timesteps: {:3d}, noise_scale (Gt >= best(Gt)): {:.4f}, Gt {:.4f}, \\tAvg.Score:  {:.3f}'\\\n",
    "                  .format(i_episode, timesteps, noise_scale, Gt, np.mean(scores_deque)))\n",
    "            policy.w += noise_scale * np.random.rand(*policy.w.shape) \n",
    "        else: # did not find better weights\n",
    "            ## if Gt < best_R ==> increase the noise: noise = 2*noise (till 2)\n",
    "            noise_scale = min(2, noise_scale * 2)\n",
    "            print('Ep.: {:3d} , timesteps: {:3d}, noise_scale (Gt < best(Gt)): {:.4f}, Gt {:.4f}, \\tAvg.Score:  {:.3f}'\\\n",
    "                  .format(i_episode, timesteps, noise_scale, Gt, np.mean(scores_deque)))\n",
    "            policy.w = best_w + noise_scale * np.random.rand(*policy.w.shape)\n",
    "            \n",
    "        arr_noise.append(noise_scale)   \n",
    "\n",
    "        if np.mean(scores_deque)>=threshold:\n",
    "            print('Environment solved in {:d} episodes!\\tAverage Score: {:.2f}'.format(i_episode, np.mean(scores_deque)))\n",
    "            policy.w = best_w\n",
    "            break\n",
    "    \n",
    "    return scores, arr_noise\n",
    "            \n",
    "scores, arr_noise = hill_climbing()"
   ]
  },
  {
   "cell_type": "markdown",
   "metadata": {},
   "source": [
    "### 4. Plot the Scores"
   ]
  },
  {
   "cell_type": "code",
   "execution_count": 4,
   "metadata": {},
   "outputs": [
    {
     "data": {
      "image/png": "[encoded data removed]",
      "text/plain": [
       "<Figure size 432x288 with 1 Axes>"
      ]
     },
     "metadata": {
      "needs_background": "light"
     },
     "output_type": "display_data"
    }
   ],
   "source": [
    "fig = plt.figure()\n",
    "ax = fig.add_subplot(111)\n",
    "plt.plot(np.arange(1, len(scores)+1), scores)\n",
    "plt.ylabel('Score, gamma=0.99')\n",
    "plt.xlabel('Episode #')\n",
    "plt.show()"
   ]
  },
  {
   "cell_type": "code",
   "execution_count": 5,
   "metadata": {},
   "outputs": [
    {
     "data": {
      "image/png": "[encoded data removed]",
      "text/plain": [
       "<Figure size 432x288 with 1 Axes>"
      ]
     },
     "metadata": {
      "needs_background": "light"
     },
     "output_type": "display_data"
    }
   ],
   "source": [
    "ax2 = fig.add_subplot(121)\n",
    "plt.plot(np.arange(1, len(arr_noise)+1), arr_noise)\n",
    "plt.ylabel('Noise Scale, gamma=0.99')\n",
    "plt.xlabel('Episode #')\n",
    "plt.show()"
   ]
  },
  {
   "cell_type": "markdown",
   "metadata": {},
   "source": [
    "### 5. Watch a Smart Agent!\n",
    "\n",
    "Each step of the Smart Agent animation includes the cl of the following _action_, _state_ and _reward_.     \n",
    "This also includes a slight _delay_ (0.1 sec) for better observation of the animation, and  further rendering."
   ]
  },
  {
   "cell_type": "code",
   "execution_count": 6,
   "metadata": {},
   "outputs": [
    {
     "name": "stdout",
     "output_type": "stream",
     "text": [
      "timesteps:  500\n",
      "time :  27.902000188827515\n"
     ]
    }
   ],
   "source": [
    "t1 = time.time()\n",
    "\n",
    "state = env.reset()\n",
    "timesteps = 0\n",
    "while True:\n",
    "    action = policy.act(state)\n",
    "    env.render()\n",
    "    time.sleep(0.05)\n",
    "    timesteps += 1\n",
    "    state, reward, done, _ = env.step(action)\n",
    "    if done:\n",
    "        break \n",
    "\n",
    "print('timesteps: ', timesteps)\n",
    "delta = time.time() - t1\n",
    "print('time : ', delta)\n",
    "env.close()"
   ]
  },
  {
   "cell_type": "code",
   "execution_count": null,
   "metadata": {},
   "outputs": [],
   "source": []
  }
 ],
 "metadata": {
  "anaconda-cloud": {},
  "kernelspec": {
   "display_name": "Python 3",
   "language": "python",
   "name": "python3"
  },
  "language_info": {
   "codemirror_mode": {
    "name": "ipython",
    "version": 3
   },
   "file_extension": ".py",
   "mimetype": "text/x-python",
   "name": "python",
   "nbconvert_exporter": "python",
   "pygments_lexer": "ipython3",
   "version": "3.7.3"
  }
 },
 "nbformat": 4,
 "nbformat_minor": 2
}
