{
 "cells": [
  {
   "cell_type": "markdown",
   "metadata": {},
   "source": [
    "# Cartpole-v0,  a.k.a Inverted Pendulum\n",
    "##    Double Deep Q-Network (DDQN), solved in 612 episodes"
   ]
  },
  {
   "cell_type": "markdown",
   "metadata": {},
   "source": [
    "### 1. Import packages, and epsilon annealing method"
   ]
  },
  {
   "cell_type": "code",
   "execution_count": 1,
   "metadata": {},
   "outputs": [
    {
     "name": "stdout",
     "output_type": "stream",
     "text": [
      "input_dim:  4 , output_dim:  2 , hidden_dim:  16\n",
      "threshold:  195.0\n"
     ]
    }
   ],
   "source": [
    "import gym\n",
    "import numpy as np\n",
    "import torch\n",
    "import matplotlib\n",
    "import matplotlib.pyplot as plt\n",
    "import time\n",
    "\n",
    "from collections import deque\n",
    "from ddqn_agent import Agent, FloatTensor\n",
    "from replay_buffer import ReplayMemory, Transition\n",
    "from  torch.autograd import Variable\n",
    "\n",
    "# set up matplotlib\n",
    "is_ipython = 'inline' in matplotlib.get_backend()\n",
    "if is_ipython:\n",
    "    from IPython import display\n",
    "\n",
    "plt.ion()\n",
    "\n",
    "use_cuda = torch.cuda.is_available()\n",
    "FloatTensor = torch.cuda.FloatTensor if use_cuda else torch.FloatTensor\n",
    "device = torch.device(\"cuda\" if use_cuda else \"cpu\")\n",
    "\n",
    "BATCH_SIZE = 64  \n",
    "gamma = 0.99\n",
    "LEARNING_RATE = 0.001\n",
    "TARGET_UPDATE = 10\n",
    "\n",
    "num_episodes = 20000\n",
    "print_every = 10\n",
    "hidden_dim = 16 ## \n",
    "min_eps = 0.01\n",
    "max_eps_episode = 200 #  50\n",
    "\n",
    "env = gym.make('CartPole-v0')\n",
    "env = gym.wrappers.Monitor(env, directory=\"monitors\", force=True)\n",
    "        \n",
    "space_dim =  env.observation_space.shape[0] # n_spaces\n",
    "action_dim = env.action_space.n # n_actions  \n",
    "print('input_dim: ', space_dim, ', output_dim: ', action_dim, ', hidden_dim: ', hidden_dim)\n",
    "\n",
    "threshold = env.spec.reward_threshold\n",
    "print('threshold: ', threshold)\n",
    "\n",
    "# Train agent for Double Deep Q_network\n",
    "agent = Agent(space_dim, action_dim, hidden_dime)\n",
    "\n",
    "    \n",
    "def epsilon_annealing(i_epsiode, max_episode, min_eps: float):\n",
    "    ##  if i_epsiode --> max_episode, ret_eps --> min_eps\n",
    "    ##  if i_epsiode --> 1, ret_eps --> 1  \n",
    "    slope = (min_eps - 1.0) / max_episode\n",
    "    ret_eps = max(slope * i_epsiode + 1.0, min_eps)\n",
    "    return ret_eps        \n",
    "\n",
    "def save(directory, filename):\n",
    "    torch.save(agent.q_local.state_dict(), '%s/%s_local.pth' % (directory, filename))\n",
    "    torch.save(agent.q_target.state_dict(), '%s/%s_target.pth' % (directory, filename))\n"
   ]
  },
  {
   "cell_type": "markdown",
   "metadata": {},
   "source": [
    "### 2. Run one episode "
   ]
  },
  {
   "cell_type": "code",
   "execution_count": 2,
   "metadata": {},
   "outputs": [],
   "source": [
    "def run_episode(env, agent, eps):\n",
    "    \"\"\"Play an epsiode and train\n",
    "\n",
    "    Args:\n",
    "        env (gym.Env): gym environment (CartPole-v0)\n",
    "        agent (Agent): agent will train and get action        \n",
    "        eps (float): eps-greedy for exploration\n",
    "\n",
    "    Returns:\n",
    "        int: reward earned in this episode\n",
    "    \"\"\"\n",
    "    state = env.reset()\n",
    "    done = False\n",
    "    total_reward = 0\n",
    "    \n",
    "\n",
    "    while not done:\n",
    "\n",
    "        action = agent.get_action(FloatTensor([state]), eps)\n",
    "        \n",
    "        next_state, reward, done, _ = env.step(action.item())\n",
    "\n",
    "        total_reward += reward\n",
    "\n",
    "        if done:\n",
    "            reward = -1\n",
    "                    \n",
    "        # Store the transition in memory\n",
    "        agent.replay_memory.push(\n",
    "                (FloatTensor([state]), \n",
    "                 action, # action is already a tensor\n",
    "                 FloatTensor([reward]), \n",
    "                 FloatTensor([next_state]), \n",
    "                 FloatTensor([done])))\n",
    "                 \n",
    "\n",
    "        if len(agent.replay_memory) > BATCH_SIZE:\n",
    "\n",
    "            batch = agent.replay_memory.sample(BATCH_SIZE)\n",
    "            \n",
    "            agent.learn(batch, gamma)\n",
    "\n",
    "        state = next_state\n",
    "\n",
    "\n",
    "    return total_reward\n"
   ]
  },
  {
   "cell_type": "markdown",
   "metadata": {},
   "source": [
    "### 3. Train, 612 episodes"
   ]
  },
  {
   "cell_type": "code",
   "execution_count": 3,
   "metadata": {},
   "outputs": [
    {
     "name": "stdout",
     "output_type": "stream",
     "text": [
      "Episode:    10 Score:  18.0  Avg.Score: 20.82, eps-greedy:  0.95 Time: 00:00:08\n",
      "Episode:    20 Score:  26.0  Avg.Score: 21.71, eps-greedy:  0.90 Time: 00:00:09\n",
      "Episode:    30 Score:  12.0  Avg.Score: 23.52, eps-greedy:  0.85 Time: 00:00:09\n",
      "Episode:    40 Score:   9.0  Avg.Score: 23.88, eps-greedy:  0.80 Time: 00:00:10\n",
      "Episode:    50 Score:  42.0  Avg.Score: 25.76, eps-greedy:  0.75 Time: 00:00:11\n",
      "Episode:    60 Score:  42.0  Avg.Score: 27.77, eps-greedy:  0.70 Time: 00:00:12\n",
      "Episode:    70 Score:  61.0  Avg.Score: 30.25, eps-greedy:  0.65 Time: 00:00:14\n",
      "Episode:    80 Score:  26.0  Avg.Score: 33.62, eps-greedy:  0.60 Time: 00:00:16\n",
      "Episode:    90 Score:  28.0  Avg.Score: 36.86, eps-greedy:  0.55 Time: 00:00:17\n",
      "Episode:   100 Score: 200.0  Avg.Score: 41.39, eps-greedy:  0.51 Time: 00:00:19\n",
      "Episode:   110 Score: 194.0  Avg.Score: 51.66, eps-greedy:  0.46 Time: 00:00:22\n",
      "Episode:   120 Score: 200.0  Avg.Score: 61.63, eps-greedy:  0.41 Time: 00:00:25\n",
      "Episode:   130 Score: 200.0  Avg.Score: 75.64, eps-greedy:  0.36 Time: 00:00:32\n",
      "Episode:   140 Score: 200.0  Avg.Score: 91.72, eps-greedy:  0.31 Time: 00:00:37\n",
      "Episode:   150 Score: 200.0  Avg.Score: 107.44, eps-greedy:  0.26 Time: 00:00:42\n",
      "Episode:   160 Score: 200.0  Avg.Score: 123.62, eps-greedy:  0.21 Time: 00:00:47\n",
      "Episode:   170 Score: 200.0  Avg.Score: 138.68, eps-greedy:  0.16 Time: 00:00:52\n",
      "Episode:   180 Score: 198.0  Avg.Score: 152.74, eps-greedy:  0.11 Time: 00:00:57\n",
      "Episode:   190 Score: 200.0  Avg.Score: 165.93, eps-greedy:  0.06 Time: 00:01:02\n",
      "Episode:   200 Score: 178.0  Avg.Score: 176.53, eps-greedy:  0.01 Time: 00:01:07\n",
      "Episode:   210 Score: 175.0  Avg.Score: 182.53, eps-greedy:  0.01 Time: 00:01:12\n",
      "Episode:   220 Score: 163.0  Avg.Score: 187.95, eps-greedy:  0.01 Time: 00:01:19\n",
      "Episode:   230 Score: 162.0  Avg.Score: 187.58, eps-greedy:  0.01 Time: 00:01:23\n",
      "Episode:   240 Score: 148.0  Avg.Score: 183.68, eps-greedy:  0.01 Time: 00:01:27\n",
      "Episode:   250 Score: 191.0  Avg.Score: 183.02, eps-greedy:  0.01 Time: 00:01:31\n",
      "Episode:   260 Score: 167.0  Avg.Score: 179.49, eps-greedy:  0.01 Time: 00:01:36\n",
      "Episode:   270 Score: 170.0  Avg.Score: 175.91, eps-greedy:  0.01 Time: 00:01:40\n",
      "Episode:   280 Score: 200.0  Avg.Score: 175.90, eps-greedy:  0.01 Time: 00:01:45\n",
      "Episode:   290 Score: 178.0  Avg.Score: 173.51, eps-greedy:  0.01 Time: 00:01:49\n",
      "Episode:   300 Score: 180.0  Avg.Score: 172.60, eps-greedy:  0.01 Time: 00:01:54\n",
      "Episode:   310 Score: 200.0  Avg.Score: 174.47, eps-greedy:  0.01 Time: 00:01:59\n",
      "Episode:   320 Score: 189.0  Avg.Score: 176.58, eps-greedy:  0.01 Time: 00:02:04\n",
      "Episode:   330 Score: 198.0  Avg.Score: 179.56, eps-greedy:  0.01 Time: 00:02:09\n",
      "Episode:   340 Score: 195.0  Avg.Score: 184.32, eps-greedy:  0.01 Time: 00:02:14\n",
      "Episode:   350 Score: 188.0  Avg.Score: 184.13, eps-greedy:  0.01 Time: 00:02:21\n",
      "Episode:   360 Score: 176.0  Avg.Score: 184.86, eps-greedy:  0.01 Time: 00:02:26\n",
      "Episode:   370 Score: 182.0  Avg.Score: 186.99, eps-greedy:  0.01 Time: 00:02:30\n",
      "Episode:   380 Score: 200.0  Avg.Score: 187.05, eps-greedy:  0.01 Time: 00:02:35\n",
      "Episode:   390 Score: 188.0  Avg.Score: 189.73, eps-greedy:  0.01 Time: 00:02:40\n",
      "Episode:   400 Score: 152.0  Avg.Score: 187.44, eps-greedy:  0.01 Time: 00:02:44\n",
      "Episode:   410 Score: 175.0  Avg.Score: 184.90, eps-greedy:  0.01 Time: 00:02:49\n",
      "Episode:   420 Score: 200.0  Avg.Score: 184.02, eps-greedy:  0.01 Time: 00:02:54\n",
      "Episode:   430 Score: 188.0  Avg.Score: 182.68, eps-greedy:  0.01 Time: 00:02:58\n",
      "Episode:   440 Score: 200.0  Avg.Score: 181.72, eps-greedy:  0.01 Time: 00:03:03\n",
      "Episode:   450 Score: 179.0  Avg.Score: 182.71, eps-greedy:  0.01 Time: 00:03:08\n",
      "Episode:   460 Score: 160.0  Avg.Score: 180.95, eps-greedy:  0.01 Time: 00:03:12\n",
      "Episode:   470 Score: 147.0  Avg.Score: 177.02, eps-greedy:  0.01 Time: 00:03:16\n",
      "Episode:   480 Score: 140.0  Avg.Score: 170.89, eps-greedy:  0.01 Time: 00:03:19\n",
      "Episode:   490 Score: 135.0  Avg.Score: 165.05, eps-greedy:  0.01 Time: 00:03:23\n",
      "Episode:   500 Score: 116.0  Avg.Score: 167.90, eps-greedy:  0.01 Time: 00:03:28\n",
      "Episode:   510 Score: 109.0  Avg.Score: 155.12, eps-greedy:  0.01 Time: 00:03:29\n",
      "Episode:   520 Score: 200.0  Avg.Score: 152.56, eps-greedy:  0.01 Time: 00:03:36\n",
      "Episode:   530 Score: 200.0  Avg.Score: 154.55, eps-greedy:  0.01 Time: 00:03:41\n",
      "Episode:   540 Score: 200.0  Avg.Score: 156.07, eps-greedy:  0.01 Time: 00:03:47\n",
      "Episode:   550 Score: 200.0  Avg.Score: 156.86, eps-greedy:  0.01 Time: 00:03:52\n",
      "Episode:   560 Score: 200.0  Avg.Score: 161.44, eps-greedy:  0.01 Time: 00:03:57\n",
      "Episode:   570 Score: 200.0  Avg.Score: 167.22, eps-greedy:  0.01 Time: 00:04:02\n",
      "Episode:   580 Score: 200.0  Avg.Score: 171.28, eps-greedy:  0.01 Time: 00:04:06\n",
      "Episode:   590 Score: 200.0  Avg.Score: 177.33, eps-greedy:  0.01 Time: 00:04:12\n",
      "Episode:   600 Score: 200.0  Avg.Score: 178.80, eps-greedy:  0.01 Time: 00:04:17\n",
      "Episode:   610 Score: 200.0  Avg.Score: 194.12, eps-greedy:  0.01 Time: 00:04:22\n",
      "\n",
      " Environment solved in 611 episodes!\tAverage Score: 195.99\n"
     ]
    }
   ],
   "source": [
    "def train():    \n",
    "\n",
    "    scores_deque = deque(maxlen=100)\n",
    "    scores_array = []\n",
    "    avg_scores_array = []    \n",
    "    \n",
    "    time_start = time.time()\n",
    "\n",
    "    for i_episode in range(num_episodes):\n",
    "        eps = epsilon_annealing(i_episode, max_eps_episode, min_eps)\n",
    "        score = run_episode(env, agent, eps)\n",
    "\n",
    "        scores_deque.append(score)\n",
    "        scores_array.append(score)\n",
    "        \n",
    "        avg_score = np.mean(scores_deque)\n",
    "        avg_scores_array.append(avg_score)\n",
    "\n",
    "        dt = (int)(time.time() - time_start)\n",
    "            \n",
    "        if i_episode % print_every == 0 and i_episode > 0:\n",
    "            print('Episode: {:5} Score: {:5}  Avg.Score: {:.2f}, eps-greedy: {:5.2f} Time: {:02}:{:02}:{:02}'.\\\n",
    "                    format(i_episode, score, avg_score, eps, dt//3600, dt%3600//60, dt%60))\n",
    "            \n",
    "        if len(scores_deque) == scores_deque.maxlen:\n",
    "            ### 195.0: for cartpole-v0 and 475 for v1\n",
    "            if np.mean(scores_deque) >= threshold: \n",
    "                print('\\n Environment solved in {:d} episodes!\\tAverage Score: {:.2f}'. \\\n",
    "                    format(i_episode, np.mean(scores_deque)))\n",
    "                break\n",
    "\n",
    "                        \n",
    "        if i_episode % TARGET_UPDATE == 0:\n",
    "            agent.q_target.load_state_dict(agent.q_local.state_dict()) \n",
    "    \n",
    "    agent.q_target.load_state_dict(agent.q_local.state_dict())\n",
    "    return scores_array, avg_scores_array\n",
    "\n",
    "scores, avg_scores = train()"
   ]
  },
  {
   "cell_type": "markdown",
   "metadata": {},
   "source": [
    "### 4. Plot the scores"
   ]
  },
  {
   "cell_type": "code",
   "execution_count": 4,
   "metadata": {},
   "outputs": [
    {
     "name": "stdout",
     "output_type": "stream",
     "text": [
      "length of scores:  612 , len of avg_scores:  612\n"
     ]
    },
    {
     "data": {
      "image/png": "[encoded data removed]",
      "text/plain": [
       "<Figure size 432x288 with 1 Axes>"
      ]
     },
     "metadata": {
      "needs_background": "light"
     },
     "output_type": "display_data"
    }
   ],
   "source": [
    "    \n",
    "import matplotlib.pyplot as plt\n",
    "%matplotlib inline\n",
    "\n",
    "print('length of scores: ', len(scores), ', len of avg_scores: ', len(avg_scores))\n",
    "\n",
    "fig = plt.figure()\n",
    "ax = fig.add_subplot(111)\n",
    "plt.plot(np.arange(1, len(scores)+1), scores, label=\"Score\")\n",
    "plt.plot(np.arange(1, len(avg_scores)+1), avg_scores, label=\"Avg on 100 episodes\")\n",
    "plt.legend(bbox_to_anchor=(1.05, 1)) \n",
    "plt.ylabel('Score')\n",
    "plt.xlabel('Episodes #')\n",
    "plt.show()"
   ]
  },
  {
   "cell_type": "markdown",
   "metadata": {},
   "source": [
    "### 5. Save weights of Neural Networks"
   ]
  },
  {
   "cell_type": "code",
   "execution_count": 5,
   "metadata": {},
   "outputs": [],
   "source": [
    "save('dir_chk_V0_ddqn', 'cartpole-v0-ddqn')"
   ]
  },
  {
   "cell_type": "code",
   "execution_count": null,
   "metadata": {},
   "outputs": [],
   "source": []
  }
 ],
 "metadata": {
  "kernelspec": {
   "display_name": "ml2-kernel",
   "language": "python",
   "name": "ml2-kernel"
  },
  "language_info": {
   "codemirror_mode": {
    "name": "ipython",
    "version": 3
   },
   "file_extension": ".py",
   "mimetype": "text/x-python",
   "name": "python",
   "nbconvert_exporter": "python",
   "pygments_lexer": "ipython3",
   "version": "3.7.3"
  }
 },
 "nbformat": 4,
 "nbformat_minor": 2
}
