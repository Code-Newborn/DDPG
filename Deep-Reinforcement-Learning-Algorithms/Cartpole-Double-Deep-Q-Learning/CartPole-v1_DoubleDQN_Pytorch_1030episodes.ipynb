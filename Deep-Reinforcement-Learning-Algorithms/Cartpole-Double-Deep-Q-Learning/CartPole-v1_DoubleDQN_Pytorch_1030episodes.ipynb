{
 "cells": [
  {
   "cell_type": "markdown",
   "metadata": {},
   "source": [
    "# Cartpole-v1, a.k.a Inverted Pendulum\n",
    "## Double Deep Q-Network (DDQN), solved in 1030 episodes\n",
    "## 1. Import packages, and annealing method"
   ]
  },
  {
   "cell_type": "code",
   "execution_count": 1,
   "metadata": {},
   "outputs": [
    {
     "name": "stdout",
     "output_type": "stream",
     "text": [
      "input_dim:  4 , output_dim:  2 , hidden_dim:  32\n",
      "threshold:  475.0\n"
     ]
    }
   ],
   "source": [
    "import gym\n",
    "import numpy as np\n",
    "import torch\n",
    "import matplotlib\n",
    "import matplotlib.pyplot as plt\n",
    "import time\n",
    "\n",
    "from collections import deque\n",
    "from ddqn_agent import Agent, FloatTensor\n",
    "from replay_buffer import ReplayMemory, Transition\n",
    "from  torch.autograd import Variable\n",
    "\n",
    "# set up matplotlib\n",
    "is_ipython = 'inline' in matplotlib.get_backend()\n",
    "if is_ipython:\n",
    "    from IPython import display\n",
    "\n",
    "plt.ion()\n",
    "\n",
    "use_cuda = torch.cuda.is_available()\n",
    "FloatTensor = torch.cuda.FloatTensor if use_cuda else torch.FloatTensor\n",
    "device = torch.device(\"cuda\" if use_cuda else \"cpu\")\n",
    "\n",
    "BATCH_SIZE = 64  \n",
    "TAU = 0.005 # 1e-3   # for soft update of target parameters\n",
    "gamma = 0.99\n",
    "LEARNING_RATE = 0.001\n",
    "TARGET_UPDATE = 10\n",
    "\n",
    "num_episodes = 20000\n",
    "print_every = 10\n",
    "hidden_dim = 32 ## 16 \n",
    "min_eps = 0.01\n",
    "max_eps_episode = 150 ## 50\n",
    "\n",
    "env = gym.make('CartPole-v1')\n",
    "env = gym.wrappers.Monitor(env, directory=\"monitors\", force=True)\n",
    "        \n",
    "space_dim =  env.observation_space.shape[0] # n_spaces\n",
    "action_dim = env.action_space.n # n_actions  \n",
    "print('input_dim: ', space_dim, ', output_dim: ', action_dim, ', hidden_dim: ', hidden_dim)\n",
    "\n",
    "threshold = env.spec.reward_threshold\n",
    "print('threshold: ', threshold)\n",
    "\n",
    "agent = Agent(space_dim, action_dim, hidden_dim)\n",
    "\n",
    "    \n",
    "def epsilon_annealing(i_epsiode, max_episode, min_eps: float):\n",
    "    ##  if i_epsiode --> max_episode, ret_eps --> min_eps\n",
    "    ##  if i_epsiode --> 1, ret_eps --> 1  \n",
    "    slope = (min_eps - 1.0) / max_episode\n",
    "    ret_eps = max(slope * i_epsiode + 1.0, min_eps)\n",
    "    return ret_eps        \n",
    "\n",
    "def save(directory, filename):\n",
    "    torch.save(agent.q_local.state_dict(), '%s/%s_local.pth' % (directory, filename))\n",
    "    torch.save(agent.q_target.state_dict(), '%s/%s_target.pth' % (directory, filename))\n"
   ]
  },
  {
   "cell_type": "markdown",
   "metadata": {},
   "source": [
    "### 2. Only one episode"
   ]
  },
  {
   "cell_type": "code",
   "execution_count": 2,
   "metadata": {},
   "outputs": [],
   "source": [
    "def run_episode(env, agent, eps):\n",
    "    \"\"\"Play an epsiode and train\n",
    "\n",
    "    Args:\n",
    "        env (gym.Env): gym environment (CartPole-v0)\n",
    "        agent (Agent): agent will train and get action        \n",
    "        eps (float): eps-greedy for exploration\n",
    "\n",
    "    Returns:\n",
    "        int: reward earned in this episode\n",
    "    \"\"\"\n",
    "    state = env.reset()\n",
    "    done = False\n",
    "    total_reward = 0\n",
    "    \n",
    "\n",
    "    while not done:\n",
    "\n",
    "        action = agent.get_action(FloatTensor([state]), eps)\n",
    "        \n",
    "        next_state, reward, done, _ = env.step(action.item())\n",
    "\n",
    "        total_reward += reward\n",
    "\n",
    "        if done:\n",
    "            reward = -1\n",
    "                    \n",
    "        # Store the transition in memory\n",
    "        agent.replay_memory.push(\n",
    "                (FloatTensor([state]), \n",
    "                 action, # action is already a tensor\n",
    "                 FloatTensor([reward]), \n",
    "                 FloatTensor([next_state]), \n",
    "                 FloatTensor([done])))\n",
    "                 \n",
    "\n",
    "        if len(agent.replay_memory) > BATCH_SIZE:\n",
    "\n",
    "            batch = agent.replay_memory.sample(BATCH_SIZE)\n",
    "            \n",
    "            agent.learn(batch, gamma)\n",
    "\n",
    "        state = next_state\n",
    "\n",
    "\n",
    "    return total_reward\n"
   ]
  },
  {
   "cell_type": "markdown",
   "metadata": {},
   "source": [
    "### 3. Train, 1030 episodes"
   ]
  },
  {
   "cell_type": "code",
   "execution_count": 3,
   "metadata": {},
   "outputs": [
    {
     "name": "stdout",
     "output_type": "stream",
     "text": [
      "Episode:    10 Score:  24.0  Avg.Score: 23.73, eps-greedy:  0.93 Time: 00:00:03\n",
      "Episode:    20 Score:  30.0  Avg.Score: 22.33, eps-greedy:  0.87 Time: 00:00:03\n",
      "Episode:    30 Score: 103.0  Avg.Score: 25.35, eps-greedy:  0.80 Time: 00:00:04\n",
      "Episode:    40 Score:  30.0  Avg.Score: 24.76, eps-greedy:  0.74 Time: 00:00:05\n",
      "Episode:    50 Score:  32.0  Avg.Score: 28.61, eps-greedy:  0.67 Time: 00:00:06\n",
      "Episode:    60 Score: 197.0  Avg.Score: 34.82, eps-greedy:  0.60 Time: 00:00:07\n",
      "Episode:    70 Score: 106.0  Avg.Score: 41.20, eps-greedy:  0.54 Time: 00:00:12\n",
      "Episode:    80 Score: 161.0  Avg.Score: 54.96, eps-greedy:  0.47 Time: 00:00:15\n",
      "Episode:    90 Score: 140.0  Avg.Score: 67.38, eps-greedy:  0.41 Time: 00:00:19\n",
      "Episode:   100 Score: 214.0  Avg.Score: 79.91, eps-greedy:  0.34 Time: 00:00:24\n",
      "Episode:   110 Score: 357.0  Avg.Score: 104.17, eps-greedy:  0.27 Time: 00:00:30\n",
      "Episode:   120 Score: 296.0  Avg.Score: 125.53, eps-greedy:  0.21 Time: 00:00:36\n",
      "Episode:   130 Score: 318.0  Avg.Score: 153.79, eps-greedy:  0.14 Time: 00:00:48\n",
      "Episode:   140 Score: 278.0  Avg.Score: 181.97, eps-greedy:  0.08 Time: 00:00:55\n",
      "Episode:   150 Score: 256.0  Avg.Score: 201.80, eps-greedy:  0.01 Time: 00:01:01\n",
      "Episode:   160 Score: 217.0  Avg.Score: 218.56, eps-greedy:  0.01 Time: 00:01:07\n",
      "Episode:   170 Score: 183.0  Avg.Score: 230.99, eps-greedy:  0.01 Time: 00:01:12\n",
      "Episode:   180 Score: 195.0  Avg.Score: 238.65, eps-greedy:  0.01 Time: 00:01:18\n",
      "Episode:   190 Score: 176.0  Avg.Score: 240.60, eps-greedy:  0.01 Time: 00:01:23\n",
      "Episode:   200 Score: 152.0  Avg.Score: 237.87, eps-greedy:  0.01 Time: 00:01:27\n",
      "Episode:   210 Score: 148.0  Avg.Score: 225.90, eps-greedy:  0.01 Time: 00:01:30\n",
      "Episode:   220 Score: 131.0  Avg.Score: 215.89, eps-greedy:  0.01 Time: 00:01:36\n",
      "Episode:   230 Score: 116.0  Avg.Score: 196.40, eps-greedy:  0.01 Time: 00:01:39\n",
      "Episode:   240 Score: 116.0  Avg.Score: 177.83, eps-greedy:  0.01 Time: 00:01:42\n",
      "Episode:   250 Score: 117.0  Avg.Score: 165.14, eps-greedy:  0.01 Time: 00:01:45\n",
      "Episode:   260 Score: 118.0  Avg.Score: 153.39, eps-greedy:  0.01 Time: 00:01:48\n",
      "Episode:   270 Score: 101.0  Avg.Score: 142.35, eps-greedy:  0.01 Time: 00:01:50\n",
      "Episode:   280 Score: 116.0  Avg.Score: 132.16, eps-greedy:  0.01 Time: 00:01:53\n",
      "Episode:   290 Score: 122.0  Avg.Score: 126.13, eps-greedy:  0.01 Time: 00:01:56\n",
      "Episode:   300 Score: 147.0  Avg.Score: 126.43, eps-greedy:  0.01 Time: 00:02:00\n",
      "Episode:   310 Score: 165.0  Avg.Score: 128.70, eps-greedy:  0.01 Time: 00:02:05\n",
      "Episode:   320 Score: 171.0  Avg.Score: 132.24, eps-greedy:  0.01 Time: 00:02:09\n",
      "Episode:   330 Score: 169.0  Avg.Score: 137.78, eps-greedy:  0.01 Time: 00:02:14\n",
      "Episode:   340 Score: 141.0  Avg.Score: 139.73, eps-greedy:  0.01 Time: 00:02:18\n",
      "Episode:   350 Score:  11.0  Avg.Score: 138.97, eps-greedy:  0.01 Time: 00:02:22\n",
      "Episode:   360 Score:  12.0  Avg.Score: 129.98, eps-greedy:  0.01 Time: 00:02:23\n",
      "Episode:   370 Score: 500.0  Avg.Score: 133.31, eps-greedy:  0.01 Time: 00:02:26\n",
      "Episode:   380 Score: 172.0  Avg.Score: 143.47, eps-greedy:  0.01 Time: 00:02:32\n",
      "Episode:   390 Score: 223.0  Avg.Score: 152.84, eps-greedy:  0.01 Time: 00:02:37\n",
      "Episode:   400 Score: 244.0  Avg.Score: 159.32, eps-greedy:  0.01 Time: 00:02:43\n",
      "Episode:   410 Score: 286.0  Avg.Score: 169.83, eps-greedy:  0.01 Time: 00:02:50\n",
      "Episode:   420 Score: 195.0  Avg.Score: 172.26, eps-greedy:  0.01 Time: 00:02:55\n",
      "Episode:   430 Score: 120.0  Avg.Score: 167.70, eps-greedy:  0.01 Time: 00:02:59\n",
      "Episode:   440 Score: 111.0  Avg.Score: 165.44, eps-greedy:  0.01 Time: 00:03:02\n",
      "Episode:   450 Score: 133.0  Avg.Score: 167.85, eps-greedy:  0.01 Time: 00:03:05\n",
      "Episode:   460 Score: 110.0  Avg.Score: 176.90, eps-greedy:  0.01 Time: 00:03:09\n",
      "Episode:   470 Score: 105.0  Avg.Score: 175.27, eps-greedy:  0.01 Time: 00:03:12\n",
      "Episode:   480 Score: 114.0  Avg.Score: 164.29, eps-greedy:  0.01 Time: 00:03:15\n",
      "Episode:   490 Score: 131.0  Avg.Score: 155.68, eps-greedy:  0.01 Time: 00:03:19\n",
      "Episode:   500 Score: 132.0  Avg.Score: 145.97, eps-greedy:  0.01 Time: 00:03:24\n",
      "Episode:   510 Score: 124.0  Avg.Score: 131.45, eps-greedy:  0.01 Time: 00:03:27\n",
      "Episode:   520 Score: 138.0  Avg.Score: 125.20, eps-greedy:  0.01 Time: 00:03:32\n",
      "Episode:   530 Score: 131.0  Avg.Score: 125.42, eps-greedy:  0.01 Time: 00:03:36\n",
      "Episode:   540 Score: 126.0  Avg.Score: 130.35, eps-greedy:  0.01 Time: 00:03:40\n",
      "Episode:   550 Score: 500.0  Avg.Score: 159.61, eps-greedy:  0.01 Time: 00:03:51\n",
      "Episode:   560 Score: 500.0  Avg.Score: 180.79, eps-greedy:  0.01 Time: 00:03:59\n",
      "Episode:   570 Score: 136.0  Avg.Score: 189.13, eps-greedy:  0.01 Time: 00:04:04\n",
      "Episode:   580 Score: 500.0  Avg.Score: 225.00, eps-greedy:  0.01 Time: 00:04:19\n",
      "Episode:   590 Score: 240.0  Avg.Score: 243.33, eps-greedy:  0.01 Time: 00:04:28\n",
      "Episode:   600 Score: 215.0  Avg.Score: 254.57, eps-greedy:  0.01 Time: 00:04:34\n",
      "Episode:   610 Score: 172.0  Avg.Score: 262.54, eps-greedy:  0.01 Time: 00:04:40\n",
      "Episode:   620 Score: 184.0  Avg.Score: 272.68, eps-greedy:  0.01 Time: 00:04:48\n",
      "Episode:   630 Score: 242.0  Avg.Score: 283.82, eps-greedy:  0.01 Time: 00:04:55\n",
      "Episode:   640 Score: 240.0  Avg.Score: 293.43, eps-greedy:  0.01 Time: 00:05:02\n",
      "Episode:   650 Score: 401.0  Avg.Score: 292.25, eps-greedy:  0.01 Time: 00:05:13\n",
      "Episode:   660 Score: 320.0  Avg.Score: 303.02, eps-greedy:  0.01 Time: 00:05:26\n",
      "Episode:   670 Score: 212.0  Avg.Score: 325.61, eps-greedy:  0.01 Time: 00:05:37\n",
      "Episode:   680 Score: 134.0  Avg.Score: 291.85, eps-greedy:  0.01 Time: 00:05:41\n",
      "Episode:   690 Score: 126.0  Avg.Score: 273.16, eps-greedy:  0.01 Time: 00:05:44\n",
      "Episode:   700 Score: 135.0  Avg.Score: 263.38, eps-greedy:  0.01 Time: 00:05:48\n",
      "Episode:   710 Score: 119.0  Avg.Score: 254.85, eps-greedy:  0.01 Time: 00:05:51\n",
      "Episode:   720 Score: 120.0  Avg.Score: 243.21, eps-greedy:  0.01 Time: 00:05:54\n",
      "Episode:   730 Score: 130.0  Avg.Score: 231.41, eps-greedy:  0.01 Time: 00:06:00\n",
      "Episode:   740 Score: 132.0  Avg.Score: 217.97, eps-greedy:  0.01 Time: 00:06:03\n",
      "Episode:   750 Score: 122.0  Avg.Score: 188.96, eps-greedy:  0.01 Time: 00:06:06\n",
      "Episode:   760 Score: 125.0  Avg.Score: 158.15, eps-greedy:  0.01 Time: 00:06:09\n",
      "Episode:   770 Score: 117.0  Avg.Score: 128.60, eps-greedy:  0.01 Time: 00:06:13\n",
      "Episode:   780 Score: 127.0  Avg.Score: 128.43, eps-greedy:  0.01 Time: 00:06:17\n",
      "Episode:   790 Score: 134.0  Avg.Score: 128.20, eps-greedy:  0.01 Time: 00:06:21\n",
      "Episode:   800 Score: 119.0  Avg.Score: 125.92, eps-greedy:  0.01 Time: 00:06:25\n",
      "Episode:   810 Score:  12.0  Avg.Score: 126.08, eps-greedy:  0.01 Time: 00:06:29\n",
      "Episode:   820 Score: 174.0  Avg.Score: 127.76, eps-greedy:  0.01 Time: 00:06:33\n",
      "Episode:   830 Score: 500.0  Avg.Score: 146.07, eps-greedy:  0.01 Time: 00:06:41\n",
      "Episode:   840 Score: 172.0  Avg.Score: 150.33, eps-greedy:  0.01 Time: 00:06:45\n",
      "Episode:   850 Score: 225.0  Avg.Score: 157.29, eps-greedy:  0.01 Time: 00:06:50\n",
      "Episode:   860 Score: 500.0  Avg.Score: 178.30, eps-greedy:  0.01 Time: 00:06:59\n",
      "Episode:   870 Score: 500.0  Avg.Score: 210.99, eps-greedy:  0.01 Time: 00:07:11\n",
      "Episode:   880 Score: 189.0  Avg.Score: 234.90, eps-greedy:  0.01 Time: 00:07:22\n",
      "Episode:   890 Score: 407.0  Avg.Score: 243.76, eps-greedy:  0.01 Time: 00:07:28\n",
      "Episode:   900 Score: 500.0  Avg.Score: 267.96, eps-greedy:  0.01 Time: 00:07:38\n",
      "Episode:   910 Score: 500.0  Avg.Score: 305.42, eps-greedy:  0.01 Time: 00:07:50\n",
      "Episode:   920 Score: 500.0  Avg.Score: 342.09, eps-greedy:  0.01 Time: 00:08:03\n",
      "Episode:   930 Score: 500.0  Avg.Score: 341.77, eps-greedy:  0.01 Time: 00:08:10\n",
      "Episode:   940 Score: 500.0  Avg.Score: 374.82, eps-greedy:  0.01 Time: 00:08:23\n",
      "Episode:   950 Score: 202.0  Avg.Score: 400.13, eps-greedy:  0.01 Time: 00:08:35\n",
      "Episode:   960 Score: 500.0  Avg.Score: 415.64, eps-greedy:  0.01 Time: 00:08:48\n",
      "Episode:   970 Score: 500.0  Avg.Score: 419.00, eps-greedy:  0.01 Time: 00:09:01\n",
      "Episode:   980 Score: 500.0  Avg.Score: 431.23, eps-greedy:  0.01 Time: 00:09:13\n",
      "Episode:   990 Score: 500.0  Avg.Score: 459.48, eps-greedy:  0.01 Time: 00:09:26\n",
      "Episode:  1000 Score: 500.0  Avg.Score: 471.68, eps-greedy:  0.01 Time: 00:09:45\n",
      "Episode:  1010 Score: 500.0  Avg.Score: 471.68, eps-greedy:  0.01 Time: 00:09:58\n",
      "Episode:  1020 Score: 500.0  Avg.Score: 465.13, eps-greedy:  0.01 Time: 00:10:09\n",
      "\n",
      " Environment solved in 1029 episodes!\tAverage Score: 478.68\n"
     ]
    }
   ],
   "source": [
    "def train():    \n",
    "\n",
    "    scores_deque = deque(maxlen=100)\n",
    "    scores_array = []\n",
    "    avg_scores_array = []    \n",
    "    \n",
    "    time_start = time.time()\n",
    "\n",
    "    for i_episode in range(num_episodes):\n",
    "        eps = epsilon_annealing(i_episode, max_eps_episode, min_eps)\n",
    "        score = run_episode(env, agent, eps)\n",
    "\n",
    "        scores_deque.append(score)\n",
    "        scores_array.append(score)\n",
    "        \n",
    "        avg_score = np.mean(scores_deque)\n",
    "        avg_scores_array.append(avg_score)\n",
    "\n",
    "        dt = (int)(time.time() - time_start)\n",
    "            \n",
    "        if i_episode % print_every == 0 and i_episode > 0:\n",
    "            print('Episode: {:5} Score: {:5}  Avg.Score: {:.2f}, eps-greedy: {:5.2f} Time: {:02}:{:02}:{:02}'.\\\n",
    "                    format(i_episode, score, avg_score, eps, dt//3600, dt%3600//60, dt%60))\n",
    "            \n",
    "        if len(scores_deque) == scores_deque.maxlen:\n",
    "            ### 195.0: for cartpole-v0 and 475 for v1\n",
    "            if np.mean(scores_deque) >= threshold: \n",
    "                print('\\n Environment solved in {:d} episodes!\\tAverage Score: {:.2f}'. \\\n",
    "                    format(i_episode, np.mean(scores_deque)))\n",
    "                break\n",
    "\n",
    "                        \n",
    "        if i_episode % TARGET_UPDATE == 0:\n",
    "            agent.q_target.load_state_dict(agent.q_local.state_dict()) \n",
    "    \n",
    "    return scores_array, avg_scores_array\n",
    "\n",
    "scores, avg_scores = train()"
   ]
  },
  {
   "cell_type": "markdown",
   "metadata": {},
   "source": [
    "### 4. Plot"
   ]
  },
  {
   "cell_type": "code",
   "execution_count": 4,
   "metadata": {},
   "outputs": [
    {
     "name": "stdout",
     "output_type": "stream",
     "text": [
      "length of scores:  1030 , len of avg_scores:  1030\n"
     ]
    },
    {
     "data": {
      "image/png": "[encoded data removed]",
      "text/plain": [
       "<Figure size 432x288 with 1 Axes>"
      ]
     },
     "metadata": {
      "needs_background": "light"
     },
     "output_type": "display_data"
    }
   ],
   "source": [
    "    \n",
    "import matplotlib.pyplot as plt\n",
    "%matplotlib inline\n",
    "\n",
    "print('length of scores: ', len(scores), ', len of avg_scores: ', len(avg_scores))\n",
    "\n",
    "fig = plt.figure()\n",
    "ax = fig.add_subplot(111)\n",
    "plt.plot(np.arange(1, len(scores)+1), scores, label=\"Score\")\n",
    "plt.plot(np.arange(1, len(avg_scores)+1), avg_scores, label=\"Avg on 100 episodes\")\n",
    "plt.legend(bbox_to_anchor=(1.05, 1)) \n",
    "plt.ylabel('Score')\n",
    "plt.xlabel('Episodes #')\n",
    "plt.show()"
   ]
  },
  {
   "cell_type": "markdown",
   "metadata": {},
   "source": [
    "### 5. Save the weights"
   ]
  },
  {
   "cell_type": "code",
   "execution_count": 5,
   "metadata": {},
   "outputs": [],
   "source": [
    "save('dir_chk_V1_ddqn', 'cartpole-v1-ddqn')"
   ]
  },
  {
   "cell_type": "code",
   "execution_count": null,
   "metadata": {},
   "outputs": [],
   "source": []
  }
 ],
 "metadata": {
  "kernelspec": {
   "display_name": "ml2-kernel",
   "language": "python",
   "name": "ml2-kernel"
  },
  "language_info": {
   "codemirror_mode": {
    "name": "ipython",
    "version": 3
   },
   "file_extension": ".py",
   "mimetype": "text/x-python",
   "name": "python",
   "nbconvert_exporter": "python",
   "pygments_lexer": "ipython3",
   "version": "3.7.3"
  }
 },
 "nbformat": 4,
 "nbformat_minor": 2
}
