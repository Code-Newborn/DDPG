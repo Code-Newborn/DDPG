{
 "cells": [
  {
   "cell_type": "markdown",
   "metadata": {},
   "source": [
    "# HopperBulletEnv with Twin Delayed DDPG (TD3)\n",
    "\n",
    "### Paper: https://arxiv.org/abs/1802.09477\n"
   ]
  },
  {
   "cell_type": "markdown",
   "metadata": {},
   "source": [
    "### 1. Start the Environment and Agent "
   ]
  },
  {
   "cell_type": "code",
   "execution_count": 1,
   "metadata": {},
   "outputs": [
    {
     "name": "stdout",
     "output_type": "stream",
     "text": [
      "current_dir=/home/rafaels/ml-agents/lib/python3.7/site-packages/pybullet_envs/bullet\n",
      "device:  cpu\n"
     ]
    }
   ],
   "source": [
    "import numpy as np\n",
    "import torch\n",
    "import torch.nn as nn\n",
    "import pybullet_envs\n",
    "import pybullet_envs.bullet as bul\n",
    "\n",
    "#from torch.autograd import Variable\n",
    "import torch.nn.functional as F\n",
    "\n",
    "import gym\n",
    "#import argparse\n",
    "import os\n",
    "\n",
    "import time\n",
    "from TwinDelayed_U import Actor, Critic, ReplayBuffer, TD3\n",
    "from collections import deque\n"
   ]
  },
  {
   "cell_type": "code",
   "execution_count": 2,
   "metadata": {},
   "outputs": [
    {
     "name": "stdout",
     "output_type": "stream",
     "text": [
      "start_dim:  15 , action_dim:  3\n",
      "n max_action:  1.0 , threshold:  2500.0\n"
     ]
    }
   ],
   "source": [
    "start_timestep=1e4\n",
    "\n",
    "std_noise=0.03\n",
    "\n",
    "env = gym.make('HopperBulletEnv-v0')\n",
    "\n",
    "# Set seeds\n",
    "seed = 12345\n",
    "env.seed(seed)\n",
    "torch.manual_seed(seed)\n",
    "np.random.seed(seed)\n",
    "\n",
    "state = env.reset()\n",
    "state_dim = env.observation_space.shape[0]\n",
    "action_dim = env.action_space.shape[0] \n",
    "max_action = float(env.action_space.high[0])\n",
    "threshold = env.spec.reward_threshold\n",
    "\n",
    "print('start_dim: ', state_dim, ', action_dim: ', action_dim)\n",
    "print('n max_action: ', max_action, ', threshold: ', threshold)\n",
    "\n",
    "agent = TD3(state_dim, action_dim, max_action)\n"
   ]
  },
  {
   "cell_type": "markdown",
   "metadata": {},
   "source": [
    "### 2. Traning the agent"
   ]
  },
  {
   "cell_type": "code",
   "execution_count": 3,
   "metadata": {},
   "outputs": [],
   "source": [
    "# save(agent = agent, filename='checkpnt, directory = 'dir_chkpoint')     \n",
    "def save(agent, filename, directory):\n",
    "    torch.save(agent.actor.state_dict(), '%s/%s_actor.pth' % (directory, filename))\n",
    "    torch.save(agent.critic.state_dict(), '%s/%s_critic.pth' % (directory, filename))\n",
    "    torch.save(agent.actor_target.state_dict(), '%s/%s_actor_t.pth' % (directory, filename))\n",
    "    torch.save(agent.critic_target.state_dict(), '%s/%s_critic_t.pth' % (directory, filename))   "
   ]
  },
  {
   "cell_type": "code",
   "execution_count": 4,
   "metadata": {},
   "outputs": [
    {
     "name": "stdout",
     "output_type": "stream",
     "text": [
      "Low in action space:  [-1. -1. -1.] , High:  [1. 1. 1.] , Action_dim:  3\n",
      "Ep. 40, Timestep 488,  Ep.Timesteps 9, Score: 18.06, Avg.Score: 19.97, Max.Score: 26.26,  Time: 00:00:07 \n",
      "Ep. 80, Timestep 963,  Ep.Timesteps 14, Score: 22.76, Avg.Score: 20.10, Max.Score: 33.08,  Time: 00:00:17 \n",
      "Ep. 120, Timestep 1442,  Ep.Timesteps 11, Score: 20.15, Avg.Score: 20.36, Max.Score: 33.08,  Time: 00:00:28 \n",
      "Ep. 160, Timestep 1940,  Ep.Timesteps 7, Score: 20.11, Avg.Score: 20.18, Max.Score: 33.08,  Time: 00:00:40 \n",
      "Ep. 200, Timestep 2436,  Ep.Timesteps 14, Score: 21.62, Avg.Score: 20.37, Max.Score: 30.01,  Time: 00:00:52 \n",
      "Ep. 240, Timestep 2997,  Ep.Timesteps 12, Score: 19.13, Avg.Score: 20.60, Max.Score: 38.31,  Time: 00:01:05 \n",
      "Ep. 280, Timestep 3488,  Ep.Timesteps 7, Score: 16.72, Avg.Score: 20.58, Max.Score: 43.57,  Time: 00:01:17 \n",
      "Ep. 320, Timestep 4001,  Ep.Timesteps 11, Score: 15.33, Avg.Score: 20.27, Max.Score: 43.57,  Time: 00:01:29 \n",
      "Ep. 360, Timestep 4469,  Ep.Timesteps 8, Score: 19.94, Avg.Score: 20.11, Max.Score: 43.57,  Time: 00:01:41 \n",
      "Ep. 400, Timestep 5022,  Ep.Timesteps 8, Score: 20.08, Avg.Score: 20.41, Max.Score: 42.06,  Time: 00:01:54 \n",
      "Ep. 440, Timestep 5491,  Ep.Timesteps 9, Score: 18.44, Avg.Score: 20.27, Max.Score: 42.06,  Time: 00:02:06 \n",
      "Ep. 480, Timestep 5997,  Ep.Timesteps 13, Score: 16.19, Avg.Score: 20.62, Max.Score: 28.73,  Time: 00:02:18 \n",
      "Ep. 520, Timestep 6459,  Ep.Timesteps 10, Score: 20.84, Avg.Score: 20.48, Max.Score: 28.73,  Time: 00:02:29 \n",
      "Ep. 560, Timestep 6980,  Ep.Timesteps 17, Score: 23.77, Avg.Score: 20.50, Max.Score: 32.13,  Time: 00:02:41 \n",
      "Ep. 600, Timestep 7442,  Ep.Timesteps 10, Score: 17.04, Avg.Score: 20.25, Max.Score: 32.13,  Time: 00:02:53 \n",
      "Ep. 640, Timestep 7905,  Ep.Timesteps 9, Score: 18.91, Avg.Score: 19.72, Max.Score: 29.94,  Time: 00:03:04 \n",
      "Ep. 680, Timestep 8376,  Ep.Timesteps 7, Score: 16.94, Avg.Score: 19.41, Max.Score: 32.95,  Time: 00:03:15 \n",
      "Ep. 720, Timestep 8865,  Ep.Timesteps 25, Score: 27.80, Avg.Score: 19.72, Max.Score: 32.95,  Time: 00:03:27 \n",
      "Ep. 760, Timestep 9327,  Ep.Timesteps 9, Score: 16.96, Avg.Score: 19.90, Max.Score: 30.39,  Time: 00:03:38 \n",
      "Ep. 800, Timestep 9843,  Ep.Timesteps 7, Score: 17.46, Avg.Score: 19.98, Max.Score: 31.72,  Time: 00:03:51 \n",
      "Ep. 840, Timestep 10263,  Ep.Timesteps 9, Score: 13.12, Avg.Score: 18.12, Max.Score: 31.74,  Time: 00:04:01 \n",
      "Ep. 880, Timestep 10653,  Ep.Timesteps 10, Score: 14.02, Avg.Score: 15.42, Max.Score: 31.74,  Time: 00:04:11 \n",
      "Ep. 920, Timestep 11085,  Ep.Timesteps 29, Score: -1.35, Avg.Score: 13.27, Max.Score: 18.58,  Time: 00:04:21 \n",
      "Ep. 960, Timestep 15505,  Ep.Timesteps 43, Score: 69.46, Avg.Score: 45.38, Max.Score: 916.17,  Time: 00:06:08 \n",
      "Ep. 1000, Timestep 17469,  Ep.Timesteps 52, Score: 84.49, Avg.Score: 70.66, Max.Score: 916.17,  Time: 00:06:57 \n",
      "Ep. 1040, Timestep 19262,  Ep.Timesteps 48, Score: 79.20, Avg.Score: 70.21, Max.Score: 125.44,  Time: 00:07:42 \n",
      "Ep. 1080, Timestep 21279,  Ep.Timesteps 65, Score: 108.16, Avg.Score: 79.63, Max.Score: 125.44,  Time: 00:08:31 \n",
      "Ep. 1120, Timestep 24147,  Ep.Timesteps 78, Score: 121.71, Avg.Score: 93.50, Max.Score: 138.22,  Time: 00:09:42 \n",
      "Ep. 1160, Timestep 28026,  Ep.Timesteps 145, Score: 163.03, Avg.Score: 116.60, Max.Score: 884.07,  Time: 00:11:17 \n",
      "Ep. 1200, Timestep 43589,  Ep.Timesteps 71, Score: 115.74, Avg.Score: 204.15, Max.Score: 884.07,  Time: 00:17:48 \n",
      "Ep. 1240, Timestep 69241,  Ep.Timesteps 1000, Score: 914.77, Avg.Score: 369.27, Max.Score: 951.01,  Time: 00:29:03 \n",
      "Ep. 1280, Timestep 88365,  Ep.Timesteps 1000, Score: 893.08, Avg.Score: 445.49, Max.Score: 951.01,  Time: 00:40:13 \n",
      "Ep. 1320, Timestep 124223,  Ep.Timesteps 95, Score: 140.08, Avg.Score: 617.19, Max.Score: 1095.19,  Time: 01:03:16 \n",
      "Ep. 1360, Timestep 150962,  Ep.Timesteps 1000, Score: 1640.19, Avg.Score: 734.71, Max.Score: 1699.38,  Time: 01:20:47 \n",
      "Ep. 1400, Timestep 187630,  Ep.Timesteps 1000, Score: 1815.40, Avg.Score: 1099.67, Max.Score: 2036.40,  Time: 01:47:03 \n",
      "Ep. 1440, Timestep 224909,  Ep.Timesteps 1000, Score: 1952.30, Avg.Score: 1548.38, Max.Score: 2071.15,  Time: 02:14:20 \n",
      "Ep. 1480, Timestep 262641,  Ep.Timesteps 1000, Score: 1896.34, Avg.Score: 1786.84, Max.Score: 2151.99,  Time: 02:42:16 \n",
      "Ep. 1520, Timestep 299845,  Ep.Timesteps 1000, Score: 2019.45, Avg.Score: 1843.53, Max.Score: 2249.05,  Time: 03:10:09 \n",
      "Ep. 1560, Timestep 339109,  Ep.Timesteps 1000, Score: 1931.54, Avg.Score: 1956.42, Max.Score: 2295.53,  Time: 03:39:46 \n",
      "Ep. 1600, Timestep 377547,  Ep.Timesteps 1000, Score: 2122.79, Avg.Score: 1995.30, Max.Score: 2295.53,  Time: 04:09:03 \n",
      "Ep. 1640, Timestep 413346,  Ep.Timesteps 1000, Score: 2342.34, Avg.Score: 2019.53, Max.Score: 2342.34,  Time: 04:36:31 \n",
      "Ep. 1680, Timestep 450201,  Ep.Timesteps 1000, Score: 2399.96, Avg.Score: 2039.13, Max.Score: 2447.73,  Time: 05:05:00 \n",
      "Ep. 1720, Timestep 485725,  Ep.Timesteps 1000, Score: 2343.44, Avg.Score: 2056.50, Max.Score: 2447.73,  Time: 05:32:37 \n",
      "Ep. 1760, Timestep 525725,  Ep.Timesteps 1000, Score: 2368.79, Avg.Score: 2158.43, Max.Score: 2505.90,  Time: 06:04:01 \n",
      "Ep. 1800, Timestep 561978,  Ep.Timesteps 1000, Score: 2455.13, Avg.Score: 2209.27, Max.Score: 2505.90,  Time: 06:32:36 \n",
      "Ep. 1840, Timestep 599396,  Ep.Timesteps 1000, Score: 2396.38, Avg.Score: 2211.40, Max.Score: 2488.39,  Time: 07:02:20 \n",
      "Ep. 1880, Timestep 636981,  Ep.Timesteps 1000, Score: 2433.04, Avg.Score: 2180.01, Max.Score: 2479.78,  Time: 07:32:15 \n",
      "Ep. 1920, Timestep 676955,  Ep.Timesteps 1000, Score: 2431.96, Avg.Score: 2315.40, Max.Score: 2534.61,  Time: 08:04:08 \n",
      "Ep. 1960, Timestep 715945,  Ep.Timesteps 1000, Score: 2478.93, Avg.Score: 2408.96, Max.Score: 2566.69,  Time: 08:35:30 \n",
      "Ep. 2000, Timestep 753961,  Ep.Timesteps 1000, Score: 2547.92, Avg.Score: 2405.01, Max.Score: 2614.92,  Time: 09:06:12 \n",
      "Ep. 2040, Timestep 788674,  Ep.Timesteps 1000, Score: 2498.11, Avg.Score: 2288.78, Max.Score: 2614.92,  Time: 09:34:16 \n",
      "Ep. 2080, Timestep 826164,  Ep.Timesteps 1000, Score: 2219.40, Avg.Score: 2261.40, Max.Score: 2614.68,  Time: 10:04:47 \n",
      "Ep. 2120, Timestep 866164,  Ep.Timesteps 1000, Score: 2520.67, Avg.Score: 2378.04, Max.Score: 2579.46,  Time: 10:37:25 \n",
      "Ep. 2160, Timestep 904083,  Ep.Timesteps 1000, Score: 2500.44, Avg.Score: 2381.53, Max.Score: 2579.96,  Time: 11:08:30 \n",
      "Ep. 2200, Timestep 938654,  Ep.Timesteps 1000, Score: 2528.00, Avg.Score: 2301.14, Max.Score: 2579.96,  Time: 11:36:58 \n",
      "Ep. 2240, Timestep 971015,  Ep.Timesteps 1000, Score: 2561.32, Avg.Score: 2147.88, Max.Score: 2579.96,  Time: 12:03:37 \n",
      "Ep. 2280, Timestep 997428,  Ep.Timesteps 340, Score: 844.84, Avg.Score: 1909.89, Max.Score: 2591.64,  Time: 12:25:56 \n",
      "Ep. 2320, Timestep 1033442,  Ep.Timesteps 1000, Score: 2563.26, Avg.Score: 1972.70, Max.Score: 2617.38,  Time: 12:55:26 \n",
      "Ep. 2360, Timestep 1071335,  Ep.Timesteps 84, Score: 167.19, Avg.Score: 2275.20, Max.Score: 2627.72,  Time: 13:28:16 \n",
      "Ep. 2400, Timestep 1104155,  Ep.Timesteps 1000, Score: 2583.74, Avg.Score: 2281.79, Max.Score: 2627.72,  Time: 13:55:50 \n",
      "Ep. 2440, Timestep 1140725,  Ep.Timesteps 1000, Score: 2527.41, Avg.Score: 2255.09, Max.Score: 2715.20,  Time: 14:27:49 \n",
      "Ep. 2480, Timestep 1175807,  Ep.Timesteps 1000, Score: 2625.29, Avg.Score: 2351.07, Max.Score: 2715.20,  Time: 14:58:54 \n",
      "Ep. 2520, Timestep 1215253,  Ep.Timesteps 1000, Score: 2608.98, Avg.Score: 2378.45, Max.Score: 2727.90,  Time: 15:34:16 \n",
      "Ep. 2560, Timestep 1249969,  Ep.Timesteps 1000, Score: 2607.16, Avg.Score: 2373.62, Max.Score: 2727.90,  Time: 16:05:38 \n",
      "Ep. 2600, Timestep 1288271,  Ep.Timesteps 1000, Score: 2557.92, Avg.Score: 2381.32, Max.Score: 2707.86,  Time: 16:40:22 \n",
      "Ep. 2640, Timestep 1323095,  Ep.Timesteps 260, Score: 635.40, Avg.Score: 2242.48, Max.Score: 2709.74,  Time: 17:12:44 \n",
      "Ep. 2680, Timestep 1352728,  Ep.Timesteps 1000, Score: 2620.84, Avg.Score: 2020.79, Max.Score: 2709.74,  Time: 17:38:54 \n",
      "Ep. 2720, Timestep 1388128,  Ep.Timesteps 1000, Score: 2472.57, Avg.Score: 1941.28, Max.Score: 2665.82,  Time: 18:10:49 \n",
      "Ep. 2760, Timestep 1427140,  Ep.Timesteps 1000, Score: 2321.51, Avg.Score: 2337.54, Max.Score: 2684.57,  Time: 18:46:20 \n",
      "Ep. 2800, Timestep 1464271,  Ep.Timesteps 1000, Score: 2560.58, Avg.Score: 2424.37, Max.Score: 2684.57,  Time: 19:20:11 \n",
      "Ep. 2840, Timestep 1500370,  Ep.Timesteps 1000, Score: 2583.03, Avg.Score: 2349.95, Max.Score: 2680.23,  Time: 19:53:12 \n"
     ]
    },
    {
     "name": "stdout",
     "output_type": "stream",
     "text": [
      "Ep. 2880, Timestep 1537112,  Ep.Timesteps 1000, Score: 2645.05, Avg.Score: 2318.04, Max.Score: 2680.23,  Time: 20:26:58 \n",
      "Ep. 2920, Timestep 1574451,  Ep.Timesteps 1000, Score: 2480.05, Avg.Score: 2351.63, Max.Score: 2699.69,  Time: 21:01:22 \n",
      "Ep. 2960, Timestep 1607917,  Ep.Timesteps 1000, Score: 2564.41, Avg.Score: 2273.12, Max.Score: 2699.69,  Time: 21:32:13 \n",
      "Ep. 3000, Timestep 1642912,  Ep.Timesteps 157, Score: 378.34, Avg.Score: 2199.56, Max.Score: 2724.86,  Time: 22:05:13 \n",
      "Ep. 3040, Timestep 1677333,  Ep.Timesteps 1000, Score: 2545.76, Avg.Score: 2116.48, Max.Score: 2724.86,  Time: 22:36:08 \n",
      "Ep. 3080, Timestep 1715076,  Ep.Timesteps 1000, Score: 2542.09, Avg.Score: 2165.23, Max.Score: 2693.50,  Time: 23:10:47 \n",
      "Ep. 3120, Timestep 1753646,  Ep.Timesteps 1000, Score: 2520.82, Avg.Score: 2333.67, Max.Score: 2657.68,  Time: 23:46:14 \n",
      "Ep. 3160, Timestep 1786406,  Ep.Timesteps 1000, Score: 2566.96, Avg.Score: 2261.97, Max.Score: 2661.73,  Time: 24:16:20 \n",
      "Ep. 3200, Timestep 1826406,  Ep.Timesteps 1000, Score: 2633.13, Avg.Score: 2338.62, Max.Score: 2689.78,  Time: 24:53:04 \n",
      "Ep. 3240, Timestep 1864420,  Ep.Timesteps 1000, Score: 2590.85, Avg.Score: 2506.69, Max.Score: 2714.34,  Time: 25:28:08 \n",
      "Environment solved with Average Score:  2506.6920692399012\n"
     ]
    }
   ],
   "source": [
    "# Twin Delayed Deep Deterministic (TD3) policy gradient algorithm\n",
    "def twin_ddd_train(n_episodes=15000, save_every=10, print_env=40):\n",
    "\n",
    "    scores_deque = deque(maxlen=100)\n",
    "    scores_array = []\n",
    "    avg_scores_array = []    \n",
    "\n",
    "    time_start = time.time()                    # Init start time\n",
    "    replay_buf = ReplayBuffer()                 # Init ReplayBuffer\n",
    "    \n",
    "    timestep_after_last_save = 0\n",
    "    total_timesteps = 0\n",
    "    \n",
    "    low = env.action_space.low\n",
    "    high = env.action_space.high\n",
    "    \n",
    "    print('Low in action space: ', low, ', High: ', high, ', Action_dim: ', action_dim)\n",
    "            \n",
    "    for i_episode in range(1, n_episodes+1):\n",
    "        \n",
    "        timestep = 0\n",
    "        total_reward = 0\n",
    "        \n",
    "        # Reset environment\n",
    "        state = env.reset()\n",
    "        done = False\n",
    "        \n",
    "        while True:\n",
    "            \n",
    "            # Select action randomly or according to policy\n",
    "            if total_timesteps < start_timestep:\n",
    "                action = env.action_space.sample()\n",
    "            else:\n",
    "                action = agent.select_action(np.array(state))\n",
    "                if std_noise != 0: \n",
    "                    shift_action = np.random.normal(0, std_noise, size=action_dim)\n",
    "                    action = (action + shift_action).clip(low, high)\n",
    "            \n",
    "            # Perform action\n",
    "            new_state, reward, done, _ = env.step(action) \n",
    "            done_bool = 0 if timestep + 1 == env._max_episode_steps else float(done)\n",
    "            total_reward += reward                          # full episode reward\n",
    "\n",
    "            # Store every timestep in replay buffer\n",
    "            replay_buf.add((state, new_state, action, reward, done_bool))\n",
    "            state = new_state\n",
    "\n",
    "            timestep += 1     \n",
    "            total_timesteps += 1\n",
    "            timestep_after_last_save += 1\n",
    "\n",
    "            if done:                                       # done ?\n",
    "                break                                      # save score\n",
    "\n",
    "        scores_deque.append(total_reward)\n",
    "        scores_array.append(total_reward)\n",
    "\n",
    "        avg_score = np.mean(scores_deque)\n",
    "        avg_scores_array.append(avg_score)\n",
    "        \n",
    "        max_score = np.max(scores_deque)\n",
    "        \n",
    "        # train_by_episode(time_start, i_episode) \n",
    "        s = (int)(time.time() - time_start)\n",
    "        if i_episode % print_env == 0 or (len(scores_deque) == 100 and avg_score > threshold):\n",
    "            print('Ep. {}, Timestep {},  Ep.Timesteps {}, Score: {:.2f}, Avg.Score: {:.2f}, Max.Score: {:.2f},  Time: {:02}:{:02}:{:02} '\\\n",
    "                .format(i_episode, total_timesteps, timestep, \\\n",
    "                        total_reward, avg_score, max_score, s//3600, s%3600//60, s%60))     \n",
    "\n",
    "        agent.train(replay_buf, timestep)\n",
    "\n",
    "        # Save episode if more than save_every=5000 timesteps\n",
    "        if timestep_after_last_save >= save_every and i_episode > 0:\n",
    "\n",
    "            timestep_after_last_save %= save_every            \n",
    "            save(agent, 'chpnt_1', 'dir_chk_003')  \n",
    "        \n",
    "        if len(scores_deque) == 100 and avg_score >= threshold:\n",
    "            print('Environment solved with Average Score: ',  avg_score )\n",
    "            break \n",
    "\n",
    "    return scores_array, avg_scores_array\n",
    "\n",
    "scores, avg_scores = twin_ddd_train()"
   ]
  },
  {
   "cell_type": "code",
   "execution_count": 5,
   "metadata": {},
   "outputs": [],
   "source": [
    "save(agent, 'chpnt_2', 'dir_chk_003')  "
   ]
  },
  {
   "cell_type": "code",
   "execution_count": 6,
   "metadata": {},
   "outputs": [
    {
     "name": "stdout",
     "output_type": "stream",
     "text": [
      "length of scores:  3240 , len of avg_scores:  3240\n"
     ]
    },
    {
     "data": {
      "image/png": "[encoded data removed]",
      "text/plain": [
       "<Figure size 432x288 with 1 Axes>"
      ]
     },
     "metadata": {
      "needs_background": "light"
     },
     "output_type": "display_data"
    }
   ],
   "source": [
    "import matplotlib.pyplot as plt\n",
    "%matplotlib inline\n",
    "\n",
    "print('length of scores: ', len(scores), ', len of avg_scores: ', len(avg_scores))\n",
    "\n",
    "fig = plt.figure()\n",
    "ax = fig.add_subplot(111)\n",
    "plt.plot(np.arange(1, len(scores)+1), scores, label=\"Score\")\n",
    "plt.plot(np.arange(1, len(avg_scores)+1), avg_scores, label=\"Avg on 100 episodes\")\n",
    "plt.legend(bbox_to_anchor=(1.05, 1)) \n",
    "plt.ylabel('Score')\n",
    "plt.xlabel('Episodes #')\n",
    "plt.show()"
   ]
  },
  {
   "cell_type": "code",
   "execution_count": 8,
   "metadata": {},
   "outputs": [
    {
     "name": "stdout",
     "output_type": "stream",
     "text": [
      "Episode 1\tAverage Score: 2493.66,\tScore: 2493.66 \tTime: 00:00:13\n",
      "Episode 2\tAverage Score: 2511.80,\tScore: 2529.95 \tTime: 00:00:13\n",
      "Episode 3\tAverage Score: 2517.11,\tScore: 2527.71 \tTime: 00:00:13\n",
      "Episode 4\tAverage Score: 1924.03,\tScore: 144.82 \tTime: 00:00:01\n",
      "Episode 5\tAverage Score: 2040.35,\tScore: 2505.62 \tTime: 00:00:13\n",
      "Episode 6\tAverage Score: 2124.66,\tScore: 2546.23 \tTime: 00:00:13\n",
      "Episode 7\tAverage Score: 2179.24,\tScore: 2506.69 \tTime: 00:00:13\n",
      "Episode 8\tAverage Score: 2219.78,\tScore: 2503.57 \tTime: 00:00:13\n",
      "Episode 9\tAverage Score: 2254.13,\tScore: 2528.94 \tTime: 00:00:13\n",
      "Episode 10\tAverage Score: 2282.75,\tScore: 2540.31 \tTime: 00:00:13\n"
     ]
    }
   ],
   "source": [
    "from collections import deque\n",
    "import os\n",
    "\n",
    "def play(env, agent, n_episodes):\n",
    "    state = env.reset()\n",
    "    \n",
    "    scores_deque = deque(maxlen=100)\n",
    "    scores = []\n",
    "\n",
    "    for i_episode in range(1, n_episodes+1):\n",
    "        state = env.reset()        \n",
    "        score = 0\n",
    "        \n",
    "        time_start = time.time()\n",
    "        \n",
    "        while True:\n",
    "            action = agent.select_action(np.array(state))\n",
    "            env.render()\n",
    "            time.sleep(0.01)\n",
    "            next_state, reward, done, _ = env.step(action)\n",
    "            state = next_state\n",
    "            score += reward\n",
    "            if done:\n",
    "                break \n",
    "\n",
    "        s = (int)(time.time() - time_start)\n",
    "        \n",
    "        scores_deque.append(score)\n",
    "        scores.append(score)\n",
    "        \n",
    "        print('Episode {}\\tAverage Score: {:.2f},\\tScore: {:.2f} \\tTime: {:02}:{:02}:{:02}'\\\n",
    "                  .format(i_episode, np.mean(scores_deque), score, s//3600, s%3600//60, s%60))  \n",
    "\n",
    "play(env=env, agent=agent, n_episodes=10)\n"
   ]
  },
  {
   "cell_type": "code",
   "execution_count": 9,
   "metadata": {},
   "outputs": [],
   "source": [
    "env.close()"
   ]
  },
  {
   "cell_type": "code",
   "execution_count": null,
   "metadata": {},
   "outputs": [],
   "source": []
  }
 ],
 "metadata": {
  "kernelspec": {
   "display_name": "Python 3",
   "language": "python",
   "name": "python3"
  },
  "language_info": {
   "codemirror_mode": {
    "name": "ipython",
    "version": 3
   },
   "file_extension": ".py",
   "mimetype": "text/x-python",
   "name": "python",
   "nbconvert_exporter": "python",
   "pygments_lexer": "ipython3",
   "version": "3.7.4"
  }
 },
 "nbformat": 4,
 "nbformat_minor": 2
}
