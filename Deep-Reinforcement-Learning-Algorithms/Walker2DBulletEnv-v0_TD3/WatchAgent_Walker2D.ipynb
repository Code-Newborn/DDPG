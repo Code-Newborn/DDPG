{
 "cells": [
  {
   "cell_type": "markdown",
   "metadata": {},
   "source": [
    "## Watch a Smart Agent!"
   ]
  },
  {
   "cell_type": "markdown",
   "metadata": {},
   "source": [
    "### 1.Start the Environment for Trained Agent"
   ]
  },
  {
   "cell_type": "code",
   "execution_count": 1,
   "metadata": {
    "scrolled": true
   },
   "outputs": [
    {
     "name": "stdout",
     "output_type": "stream",
     "text": [
      "device:  cuda\n",
      "state_size:  22 , action_size:  6 , action_high:  1.0\n"
     ]
    }
   ],
   "source": [
    "import numpy as np\n",
    "import torch\n",
    "import gym\n",
    "import argparse\n",
    "import os\n",
    "import time\n",
    "import pybullet\n",
    "import pybullet_envs\n",
    "\n",
    "\n",
    "from TwinDelayed import TD3, device\n",
    "\n",
    "pybullet.connect(pybullet.DIRECT)\n",
    "\n",
    "env = gym.make('Walker2DBulletEnv-v0', render=True)\n",
    "\n",
    "# Set seeds\n",
    "seed = 12345\n",
    "env.seed(seed)\n",
    "torch.manual_seed(seed)\n",
    "np.random.seed(seed)\n",
    "\n",
    "state_size = env.observation_space.shape[0]\n",
    "action_size=env.action_space.shape[0]\n",
    "action_high= float(env.action_space.high[0])\n",
    "print('state_size: ', state_size, ', action_size: ', action_size, ', action_high: ', action_high)\n",
    "    \n",
    "agent = TD3(state_dim=state_size, action_dim=action_size, max_action=action_high)\n"
   ]
  },
  {
   "cell_type": "markdown",
   "metadata": {},
   "source": [
    "### 2. Prepare Load"
   ]
  },
  {
   "cell_type": "code",
   "execution_count": 2,
   "metadata": {},
   "outputs": [],
   "source": [
    "def load(agent, dir, prefix):\n",
    "    agent.actor.load_state_dict(torch.load(os.path.join(dir,'%s_actor.pth' % prefix)))\n",
    "    agent.critic.load_state_dict(torch.load(os.path.join(dir,'%s_critic.pth' % prefix)))\n",
    "    agent.actor_target.load_state_dict(torch.load(os.path.join(dir,'%s_actor_t.pth' % prefix)))\n",
    "    agent.critic_target.load_state_dict(torch.load(os.path.join(dir,'%s_critic_t.pth' % prefix)))\n"
   ]
  },
  {
   "cell_type": "markdown",
   "metadata": {},
   "source": [
    "### 3. Prepare Player"
   ]
  },
  {
   "cell_type": "code",
   "execution_count": 3,
   "metadata": {},
   "outputs": [],
   "source": [
    "from collections import deque\n",
    "import os\n",
    "\n",
    "std_noise = 0.1\n",
    "\n",
    "def play(env, agent, n_episodes):\n",
    "    state = env.reset()\n",
    "    \n",
    "    scores_deque = deque(maxlen=100)\n",
    "    scores = []\n",
    "    \n",
    "    low = env.action_space.low\n",
    "    high = env.action_space.high\n",
    "\n",
    "    for i_episode in range(1, n_episodes+1):\n",
    "        state = env.reset()        \n",
    "        score = 0\n",
    "        \n",
    "        time_start = time.time()\n",
    "        done = False\n",
    "        \n",
    "        while True:\n",
    "            action = agent.select_action(np.array(state))\n",
    "            env.render()\n",
    "            time.sleep(0.01)\n",
    "            \n",
    "            next_state, reward, done, _ = env.step(action)\n",
    "            state = next_state\n",
    "            score += reward\n",
    "            if done:\n",
    "                break \n",
    "\n",
    "        s = (int)(time.time() - time_start)\n",
    "        \n",
    "        scores_deque.append(score)\n",
    "        scores.append(score)\n",
    "\n",
    "        print('Episode {}\\tAverage Score: {:.2f},\\tScore: {:.2f} \\tTime: {:02}:{:02}:{:02}'\\\n",
    "                  .format(i_episode, np.mean(scores_deque), score, s//3600, s%3600//60, s%60))  \n"
   ]
  },
  {
   "cell_type": "markdown",
   "metadata": {},
   "source": [
    "### 3. Load and Play"
   ]
  },
  {
   "cell_type": "code",
   "execution_count": 5,
   "metadata": {},
   "outputs": [
    {
     "name": "stdout",
     "output_type": "stream",
     "text": [
      "Episode 1\tAverage Score: 2564.43,\tScore: 2564.43 \tTime: 00:00:58\n",
      "Episode 2\tAverage Score: 2535.87,\tScore: 2507.31 \tTime: 00:00:19\n",
      "Episode 3\tAverage Score: 2538.75,\tScore: 2544.52 \tTime: 00:00:19\n",
      "Episode 4\tAverage Score: 2523.26,\tScore: 2476.79 \tTime: 00:00:19\n",
      "Episode 5\tAverage Score: 2532.37,\tScore: 2568.83 \tTime: 00:00:19\n",
      "Episode 6\tAverage Score: 2534.58,\tScore: 2545.62 \tTime: 00:00:19\n",
      "Episode 7\tAverage Score: 2221.45,\tScore: 342.68 \tTime: 00:00:02\n",
      "Episode 8\tAverage Score: 2261.54,\tScore: 2542.16 \tTime: 00:00:56\n",
      "Episode 9\tAverage Score: 2293.57,\tScore: 2549.84 \tTime: 00:00:19\n",
      "Episode 10\tAverage Score: 2318.17,\tScore: 2539.56 \tTime: 00:00:19\n"
     ]
    }
   ],
   "source": [
    "load(agent, 'dir_Walker2D_002', 'chpnt_ts2500')\n",
    "play(env, agent, n_episodes=10)"
   ]
  },
  {
   "cell_type": "code",
   "execution_count": 6,
   "metadata": {},
   "outputs": [],
   "source": [
    "env.close()"
   ]
  },
  {
   "cell_type": "code",
   "execution_count": null,
   "metadata": {},
   "outputs": [],
   "source": []
  }
 ],
 "metadata": {
  "kernelspec": {
   "display_name": "ml2-kernel",
   "language": "python",
   "name": "ml2-kernel"
  },
  "language_info": {
   "codemirror_mode": {
    "name": "ipython",
    "version": 3
   },
   "file_extension": ".py",
   "mimetype": "text/x-python",
   "name": "python",
   "nbconvert_exporter": "python",
   "pygments_lexer": "ipython3",
   "version": "3.7.3"
  }
 },
 "nbformat": 4,
 "nbformat_minor": 2
}
