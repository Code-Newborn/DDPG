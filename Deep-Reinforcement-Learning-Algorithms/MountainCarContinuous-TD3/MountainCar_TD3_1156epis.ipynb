{
 "cells": [
  {
   "cell_type": "markdown",
   "metadata": {},
   "source": [
    "# MountainCar with Twin Delayed DDPG (TD3)\n",
    "\n",
    "### Paper: https://arxiv.org/abs/1802.09477\n"
   ]
  },
  {
   "cell_type": "markdown",
   "metadata": {},
   "source": [
    "### 1. Start the Environment and Agent "
   ]
  },
  {
   "cell_type": "code",
   "execution_count": 1,
   "metadata": {},
   "outputs": [
    {
     "name": "stdout",
     "output_type": "stream",
     "text": [
      "device:  cpu\n"
     ]
    },
    {
     "name": "stderr",
     "output_type": "stream",
     "text": [
      "/home/rafaels/ml-agents/lib/python3.7/site-packages/torch/cuda/__init__.py:52: UserWarning: CUDA initialization: Found no NVIDIA driver on your system. Please check that you have an NVIDIA GPU and installed a driver from http://www.nvidia.com/Download/index.aspx (Triggered internally at  /pytorch/c10/cuda/CUDAFunctions.cpp:100.)\n",
      "  return torch._C._cuda_getDeviceCount() > 0\n"
     ]
    }
   ],
   "source": [
    "import numpy as np\n",
    "import torch\n",
    "import torch.nn as nn\n",
    "\n",
    "import torch.nn.functional as F\n",
    "\n",
    "import gym\n",
    "## import os\n",
    "\n",
    "import time\n",
    "from TwinDelayed import Actor, Critic, ReplayBuffer, TD3\n",
    "from collections import deque\n"
   ]
  },
  {
   "cell_type": "code",
   "execution_count": 2,
   "metadata": {},
   "outputs": [
    {
     "name": "stdout",
     "output_type": "stream",
     "text": [
      "start_dim:  2 , action_dim:  1\n",
      "max_action:  1.0 , threshold:  90.0\n"
     ]
    }
   ],
   "source": [
    "start_timestep=1e4\n",
    "\n",
    "std_noise=0.03\n",
    "\n",
    "env = gym.make('MountainCarContinuous-v0')\n",
    "seed = 12345\n",
    "env.seed(seed)\n",
    "torch.manual_seed(seed)\n",
    "np.random.seed(seed)\n",
    "\n",
    "state = env.reset()\n",
    "state_dim = env.observation_space.shape[0]\n",
    "action_dim = env.action_space.shape[0] \n",
    "max_action = float(env.action_space.high[0])\n",
    "threshold = env.spec.reward_threshold\n",
    "\n",
    "print('start_dim: ', state_dim, ', action_dim: ', action_dim)\n",
    "print('max_action: ', max_action, ', threshold: ', threshold)\n",
    "\n",
    "agent = TD3(state_dim, action_dim, max_action)\n",
    "\n",
    "dir_chk = 'dir_mcar_td3'"
   ]
  },
  {
   "cell_type": "markdown",
   "metadata": {},
   "source": [
    "### 2. Traning the agent"
   ]
  },
  {
   "cell_type": "code",
   "execution_count": 3,
   "metadata": {},
   "outputs": [],
   "source": [
    "# save(agent = agent, filename='checkpnt, directory = 'dir_chkpoint')     \n",
    "def save(agent, filename, directory):\n",
    "    torch.save(agent.actor.state_dict(), '%s/%s_actor.pth' % (directory, filename))\n",
    "    torch.save(agent.critic.state_dict(), '%s/%s_critic.pth' % (directory, filename))\n",
    "    torch.save(agent.actor_target.state_dict(), '%s/%s_actor_t.pth' % (directory, filename))\n",
    "    torch.save(agent.critic_target.state_dict(), '%s/%s_critic_t.pth' % (directory, filename))   "
   ]
  },
  {
   "cell_type": "code",
   "execution_count": 4,
   "metadata": {},
   "outputs": [
    {
     "name": "stdout",
     "output_type": "stream",
     "text": [
      "Low in action space:  [-1.] , High:  [1.] , Action_dim:  1\n",
      "Ep. 10, Timestep 9990,  Ep.Timesteps 999, Score: -32.86, Avg.Score: -33.144, Max.Score: -31.67,  Time: 00:02:13 \n",
      "Ep. 20, Timestep 19980,  Ep.Timesteps 999, Score: -0.09, Avg.Score: -21.510, Max.Score: -0.09,  Time: 00:04:48 \n",
      "Ep. 30, Timestep 29970,  Ep.Timesteps 999, Score: -0.11, Avg.Score: -14.375, Max.Score: -0.09,  Time: 00:07:24 \n",
      "Ep. 40, Timestep 39960,  Ep.Timesteps 999, Score: -0.11, Avg.Score: -10.806, Max.Score: -0.09,  Time: 00:10:07 \n",
      "Ep. 50, Timestep 49950,  Ep.Timesteps 999, Score: -0.10, Avg.Score: -8.666, Max.Score: -0.08,  Time: 00:13:06 \n",
      "Ep. 60, Timestep 59940,  Ep.Timesteps 999, Score: -0.11, Avg.Score: -7.241, Max.Score: -0.08,  Time: 00:16:27 \n",
      "Ep. 70, Timestep 69930,  Ep.Timesteps 999, Score: -0.10, Avg.Score: -6.221, Max.Score: -0.08,  Time: 00:20:37 \n",
      "Ep. 80, Timestep 79920,  Ep.Timesteps 999, Score: -0.09, Avg.Score: -5.456, Max.Score: -0.08,  Time: 00:25:48 \n",
      "Ep. 90, Timestep 89910,  Ep.Timesteps 999, Score: -0.11, Avg.Score: -4.861, Max.Score: -0.08,  Time: 00:31:11 \n",
      "Ep. 100, Timestep 99900,  Ep.Timesteps 999, Score: -0.13, Avg.Score: -4.385, Max.Score: -0.08,  Time: 00:36:40 \n",
      "Ep. 110, Timestep 109890,  Ep.Timesteps 999, Score: -0.16, Avg.Score: -1.082, Max.Score: -0.08,  Time: 00:42:13 \n",
      "Ep. 120, Timestep 119880,  Ep.Timesteps 999, Score: -0.10, Avg.Score: -0.106, Max.Score: -0.08,  Time: 00:47:51 \n",
      "Ep. 130, Timestep 129870,  Ep.Timesteps 999, Score: -0.11, Avg.Score: -0.107, Max.Score: -0.08,  Time: 00:53:36 \n",
      "Ep. 140, Timestep 139860,  Ep.Timesteps 999, Score: -0.09, Avg.Score: -0.108, Max.Score: -0.08,  Time: 00:59:29 \n",
      "Ep. 150, Timestep 149850,  Ep.Timesteps 999, Score: -0.13, Avg.Score: -0.107, Max.Score: -0.08,  Time: 01:05:30 \n",
      "Ep. 160, Timestep 159840,  Ep.Timesteps 999, Score: -0.10, Avg.Score: -0.107, Max.Score: -0.08,  Time: 01:11:31 \n",
      "Ep. 170, Timestep 169830,  Ep.Timesteps 999, Score: -0.12, Avg.Score: -0.108, Max.Score: -0.08,  Time: 01:17:34 \n",
      "Ep. 180, Timestep 179820,  Ep.Timesteps 999, Score: -0.10, Avg.Score: -0.109, Max.Score: -0.08,  Time: 01:23:35 \n",
      "Ep. 190, Timestep 189810,  Ep.Timesteps 999, Score: -0.19, Avg.Score: -0.110, Max.Score: -0.08,  Time: 01:29:38 \n",
      "Ep. 200, Timestep 199800,  Ep.Timesteps 999, Score: -0.10, Avg.Score: -0.111, Max.Score: -0.08,  Time: 01:35:43 \n",
      "Ep. 210, Timestep 209790,  Ep.Timesteps 999, Score: -0.10, Avg.Score: -0.109, Max.Score: -0.08,  Time: 01:41:47 \n",
      "Ep. 220, Timestep 219780,  Ep.Timesteps 999, Score: -0.09, Avg.Score: -0.107, Max.Score: -0.08,  Time: 01:47:54 \n",
      "Ep. 230, Timestep 229770,  Ep.Timesteps 999, Score: -0.10, Avg.Score: -0.106, Max.Score: -0.08,  Time: 01:54:00 \n",
      "Ep. 240, Timestep 239760,  Ep.Timesteps 999, Score: -0.09, Avg.Score: -0.106, Max.Score: -0.08,  Time: 02:00:11 \n",
      "Ep. 250, Timestep 249750,  Ep.Timesteps 999, Score: -0.09, Avg.Score: -0.105, Max.Score: -0.08,  Time: 02:06:26 \n",
      "Ep. 260, Timestep 259740,  Ep.Timesteps 999, Score: -0.15, Avg.Score: -0.105, Max.Score: -0.08,  Time: 02:12:43 \n",
      "Ep. 270, Timestep 269730,  Ep.Timesteps 999, Score: -0.16, Avg.Score: -0.107, Max.Score: -0.08,  Time: 02:19:03 \n",
      "Ep. 280, Timestep 279720,  Ep.Timesteps 999, Score: -0.12, Avg.Score: -0.110, Max.Score: -0.08,  Time: 02:25:23 \n",
      "Ep. 290, Timestep 289710,  Ep.Timesteps 999, Score: -0.19, Avg.Score: -0.111, Max.Score: -0.08,  Time: 02:31:43 \n",
      "Ep. 300, Timestep 299700,  Ep.Timesteps 999, Score: -0.10, Avg.Score: -0.112, Max.Score: -0.08,  Time: 02:38:02 \n",
      "Ep. 310, Timestep 309690,  Ep.Timesteps 999, Score: -0.10, Avg.Score: -0.114, Max.Score: -0.08,  Time: 02:44:23 \n",
      "Ep. 320, Timestep 319680,  Ep.Timesteps 999, Score: -0.09, Avg.Score: -0.115, Max.Score: -0.09,  Time: 02:50:45 \n",
      "Ep. 330, Timestep 329670,  Ep.Timesteps 999, Score: -0.29, Avg.Score: -0.117, Max.Score: -0.09,  Time: 02:57:05 \n",
      "Ep. 340, Timestep 339660,  Ep.Timesteps 999, Score: -0.09, Avg.Score: -0.121, Max.Score: -0.09,  Time: 03:03:25 \n",
      "Ep. 350, Timestep 349650,  Ep.Timesteps 999, Score: -0.09, Avg.Score: -0.121, Max.Score: -0.08,  Time: 03:09:46 \n",
      "Ep. 360, Timestep 359640,  Ep.Timesteps 999, Score: -0.10, Avg.Score: -0.120, Max.Score: -0.08,  Time: 03:16:09 \n",
      "Ep. 370, Timestep 369630,  Ep.Timesteps 999, Score: -0.10, Avg.Score: -0.117, Max.Score: -0.08,  Time: 03:22:30 \n",
      "Ep. 380, Timestep 379620,  Ep.Timesteps 999, Score: -0.09, Avg.Score: -0.115, Max.Score: -0.08,  Time: 03:28:51 \n",
      "Ep. 390, Timestep 389610,  Ep.Timesteps 999, Score: -0.09, Avg.Score: -0.113, Max.Score: -0.08,  Time: 03:35:12 \n",
      "Ep. 400, Timestep 399600,  Ep.Timesteps 999, Score: -0.18, Avg.Score: -0.114, Max.Score: -0.08,  Time: 03:41:32 \n",
      "Ep. 410, Timestep 409590,  Ep.Timesteps 999, Score: -0.10, Avg.Score: -0.113, Max.Score: -0.08,  Time: 03:47:53 \n",
      "Ep. 420, Timestep 419580,  Ep.Timesteps 999, Score: -0.10, Avg.Score: -0.112, Max.Score: -0.08,  Time: 03:54:13 \n",
      "Ep. 430, Timestep 429570,  Ep.Timesteps 999, Score: -0.09, Avg.Score: -0.111, Max.Score: -0.08,  Time: 04:00:35 \n",
      "Ep. 440, Timestep 439560,  Ep.Timesteps 999, Score: -0.09, Avg.Score: -0.107, Max.Score: -0.08,  Time: 04:06:56 \n",
      "Ep. 450, Timestep 449550,  Ep.Timesteps 999, Score: -0.09, Avg.Score: -0.107, Max.Score: -0.09,  Time: 04:13:18 \n",
      "Ep. 460, Timestep 459540,  Ep.Timesteps 999, Score: -0.18, Avg.Score: -0.113, Max.Score: -0.08,  Time: 04:19:39 \n",
      "Ep. 470, Timestep 469530,  Ep.Timesteps 999, Score: -0.14, Avg.Score: -0.116, Max.Score: -0.08,  Time: 04:26:01 \n",
      "Ep. 480, Timestep 479520,  Ep.Timesteps 999, Score: -0.09, Avg.Score: -0.115, Max.Score: -0.08,  Time: 04:32:22 \n",
      "Ep. 490, Timestep 489510,  Ep.Timesteps 999, Score: -0.10, Avg.Score: -0.116, Max.Score: -0.08,  Time: 04:38:44 \n",
      "Ep. 500, Timestep 499500,  Ep.Timesteps 999, Score: -0.09, Avg.Score: -0.114, Max.Score: -0.08,  Time: 04:45:06 \n",
      "Ep. 510, Timestep 509490,  Ep.Timesteps 999, Score: -0.09, Avg.Score: -0.114, Max.Score: -0.08,  Time: 04:51:28 \n",
      "Ep. 520, Timestep 519480,  Ep.Timesteps 999, Score: -0.11, Avg.Score: -0.116, Max.Score: -0.08,  Time: 04:57:50 \n",
      "Ep. 530, Timestep 529470,  Ep.Timesteps 999, Score: -0.19, Avg.Score: -0.117, Max.Score: -0.08,  Time: 05:04:17 \n",
      "Ep. 540, Timestep 539460,  Ep.Timesteps 999, Score: -0.10, Avg.Score: -0.116, Max.Score: -0.08,  Time: 05:10:41 \n",
      "Ep. 550, Timestep 549450,  Ep.Timesteps 999, Score: -0.09, Avg.Score: -0.119, Max.Score: -0.08,  Time: 05:17:05 \n",
      "Ep. 560, Timestep 559440,  Ep.Timesteps 999, Score: -0.10, Avg.Score: -0.113, Max.Score: -0.08,  Time: 05:23:27 \n",
      "Ep. 570, Timestep 569430,  Ep.Timesteps 999, Score: -0.11, Avg.Score: -0.110, Max.Score: -0.08,  Time: 05:29:51 \n",
      "Ep. 580, Timestep 579420,  Ep.Timesteps 999, Score: -0.10, Avg.Score: -0.111, Max.Score: -0.08,  Time: 05:36:17 \n",
      "Ep. 590, Timestep 589410,  Ep.Timesteps 999, Score: -0.11, Avg.Score: -0.110, Max.Score: -0.08,  Time: 05:42:41 \n",
      "Ep. 600, Timestep 599400,  Ep.Timesteps 999, Score: -0.09, Avg.Score: -0.110, Max.Score: -0.08,  Time: 05:49:05 \n",
      "Ep. 610, Timestep 609390,  Ep.Timesteps 999, Score: -0.09, Avg.Score: -0.109, Max.Score: -0.08,  Time: 05:55:30 \n",
      "Ep. 620, Timestep 619380,  Ep.Timesteps 999, Score: -0.09, Avg.Score: -0.109, Max.Score: -0.08,  Time: 06:01:56 \n",
      "Ep. 630, Timestep 629370,  Ep.Timesteps 999, Score: -0.09, Avg.Score: -0.108, Max.Score: -0.08,  Time: 06:08:19 \n",
      "Ep. 640, Timestep 639360,  Ep.Timesteps 999, Score: -0.12, Avg.Score: -0.111, Max.Score: -0.09,  Time: 06:14:43 \n",
      "Ep. 650, Timestep 649350,  Ep.Timesteps 999, Score: -0.17, Avg.Score: -0.110, Max.Score: -0.08,  Time: 06:21:07 \n",
      "Ep. 660, Timestep 659340,  Ep.Timesteps 999, Score: -0.15, Avg.Score: -0.116, Max.Score: -0.08,  Time: 06:27:31 \n",
      "Ep. 670, Timestep 669330,  Ep.Timesteps 999, Score: -0.17, Avg.Score: -0.123, Max.Score: -0.08,  Time: 06:33:55 \n",
      "Ep. 680, Timestep 679320,  Ep.Timesteps 999, Score: -0.15, Avg.Score: -0.129, Max.Score: -0.08,  Time: 06:40:18 \n",
      "Ep. 690, Timestep 689310,  Ep.Timesteps 999, Score: -0.12, Avg.Score: -0.134, Max.Score: -0.08,  Time: 06:46:48 \n",
      "Ep. 700, Timestep 699300,  Ep.Timesteps 999, Score: -0.16, Avg.Score: -0.138, Max.Score: -0.08,  Time: 06:53:17 \n",
      "Ep. 710, Timestep 709290,  Ep.Timesteps 999, Score: -0.25, Avg.Score: -0.146, Max.Score: -0.08,  Time: 06:59:40 \n",
      "Ep. 720, Timestep 719280,  Ep.Timesteps 999, Score: -0.16, Avg.Score: -0.152, Max.Score: -0.08,  Time: 07:06:04 \n",
      "Ep. 730, Timestep 729270,  Ep.Timesteps 999, Score: -0.25, Avg.Score: -0.159, Max.Score: -0.08,  Time: 07:12:26 \n"
     ]
    },
    {
     "name": "stdout",
     "output_type": "stream",
     "text": [
      "Ep. 740, Timestep 739260,  Ep.Timesteps 999, Score: -0.19, Avg.Score: -0.168, Max.Score: -0.08,  Time: 07:18:50 \n",
      "Ep. 750, Timestep 749250,  Ep.Timesteps 999, Score: -0.17, Avg.Score: -0.178, Max.Score: -0.09,  Time: 07:25:12 \n",
      "Ep. 760, Timestep 759240,  Ep.Timesteps 999, Score: -0.23, Avg.Score: -0.181, Max.Score: -0.09,  Time: 07:31:35 \n",
      "Ep. 770, Timestep 769230,  Ep.Timesteps 999, Score: -0.24, Avg.Score: -0.185, Max.Score: -0.09,  Time: 07:37:57 \n",
      "Ep. 780, Timestep 779220,  Ep.Timesteps 999, Score: -0.10, Avg.Score: -0.187, Max.Score: -0.09,  Time: 07:44:19 \n",
      "Ep. 790, Timestep 789210,  Ep.Timesteps 999, Score: -0.24, Avg.Score: -0.189, Max.Score: -0.09,  Time: 07:50:42 \n",
      "Ep. 800, Timestep 799200,  Ep.Timesteps 999, Score: -0.20, Avg.Score: -0.193, Max.Score: -0.09,  Time: 07:57:04 \n",
      "Ep. 810, Timestep 809190,  Ep.Timesteps 999, Score: -0.19, Avg.Score: -0.190, Max.Score: -0.10,  Time: 08:03:27 \n",
      "Ep. 820, Timestep 819180,  Ep.Timesteps 999, Score: -0.18, Avg.Score: -0.189, Max.Score: -0.10,  Time: 08:09:50 \n",
      "Ep. 830, Timestep 829170,  Ep.Timesteps 999, Score: -0.10, Avg.Score: -0.189, Max.Score: -0.10,  Time: 08:16:14 \n",
      "Ep. 840, Timestep 839160,  Ep.Timesteps 999, Score: -0.15, Avg.Score: -0.183, Max.Score: -0.10,  Time: 08:22:38 \n",
      "Ep. 850, Timestep 849150,  Ep.Timesteps 999, Score: -0.18, Avg.Score: -0.180, Max.Score: -0.10,  Time: 08:29:00 \n",
      "Ep. 860, Timestep 859140,  Ep.Timesteps 999, Score: -0.21, Avg.Score: -0.182, Max.Score: -0.10,  Time: 08:35:22 \n",
      "Ep. 870, Timestep 869130,  Ep.Timesteps 999, Score: -0.13, Avg.Score: -0.184, Max.Score: -0.10,  Time: 08:41:45 \n",
      "Ep. 880, Timestep 879120,  Ep.Timesteps 999, Score: -0.27, Avg.Score: -0.186, Max.Score: -0.10,  Time: 08:48:07 \n",
      "Ep. 890, Timestep 889110,  Ep.Timesteps 999, Score: -0.10, Avg.Score: -0.188, Max.Score: -0.10,  Time: 08:54:30 \n",
      "Ep. 900, Timestep 899100,  Ep.Timesteps 999, Score: -0.35, Avg.Score: -0.189, Max.Score: -0.08,  Time: 09:00:52 \n",
      "Ep. 910, Timestep 909090,  Ep.Timesteps 999, Score: -0.35, Avg.Score: -0.204, Max.Score: -0.08,  Time: 09:07:14 \n",
      "Ep. 920, Timestep 918555,  Ep.Timesteps 999, Score: -0.41, Avg.Score: 2.759, Max.Score: 99.07,  Time: 09:13:13 \n",
      "Ep. 930, Timestep 928545,  Ep.Timesteps 999, Score: -0.10, Avg.Score: 2.742, Max.Score: 99.07,  Time: 09:19:25 \n",
      "Ep. 940, Timestep 938535,  Ep.Timesteps 999, Score: -2.98, Avg.Score: 2.686, Max.Score: 99.07,  Time: 09:25:35 \n",
      "Ep. 950, Timestep 948525,  Ep.Timesteps 999, Score: -0.37, Avg.Score: 2.570, Max.Score: 99.07,  Time: 09:31:43 \n",
      "Ep. 960, Timestep 958515,  Ep.Timesteps 999, Score: -0.26, Avg.Score: 2.554, Max.Score: 99.07,  Time: 09:37:51 \n",
      "Ep. 970, Timestep 968505,  Ep.Timesteps 999, Score: -0.77, Avg.Score: 2.528, Max.Score: 99.07,  Time: 09:44:00 \n",
      "Ep. 980, Timestep 978495,  Ep.Timesteps 999, Score: -0.14, Avg.Score: 2.506, Max.Score: 99.07,  Time: 09:50:13 \n",
      "Ep. 990, Timestep 987565,  Ep.Timesteps 561, Score: 96.36, Avg.Score: 4.201, Max.Score: 99.07,  Time: 09:56:09 \n",
      "Ep. 1000, Timestep 995655,  Ep.Timesteps 303, Score: 91.34, Avg.Score: 6.488, Max.Score: 99.07,  Time: 10:01:17 \n",
      "Ep. 1010, Timestep 1000416,  Ep.Timesteps 246, Score: 93.44, Avg.Score: 14.668, Max.Score: 99.07,  Time: 10:04:14 \n",
      "Ep. 1020, Timestep 1003235,  Ep.Timesteps 157, Score: 96.26, Avg.Score: 21.054, Max.Score: 97.22,  Time: 10:06:01 \n",
      "Ep. 1030, Timestep 1004825,  Ep.Timesteps 142, Score: 91.24, Avg.Score: 30.508, Max.Score: 97.22,  Time: 10:07:00 \n",
      "Ep. 1040, Timestep 1006588,  Ep.Timesteps 202, Score: 90.12, Avg.Score: 39.671, Max.Score: 97.22,  Time: 10:08:04 \n",
      "Ep. 1050, Timestep 1008313,  Ep.Timesteps 168, Score: 88.94, Avg.Score: 48.995, Max.Score: 97.22,  Time: 10:09:09 \n",
      "Ep. 1060, Timestep 1012219,  Ep.Timesteps 82, Score: 95.83, Avg.Score: 54.175, Max.Score: 97.22,  Time: 10:11:34 \n",
      "Ep. 1070, Timestep 1013645,  Ep.Timesteps 67, Score: 94.19, Avg.Score: 63.350, Max.Score: 97.22,  Time: 10:12:27 \n",
      "Ep. 1080, Timestep 1014330,  Ep.Timesteps 72, Score: 93.80, Avg.Score: 72.792, Max.Score: 97.22,  Time: 10:12:51 \n",
      "Ep. 1090, Timestep 1015009,  Ep.Timesteps 68, Score: 93.79, Avg.Score: 80.504, Max.Score: 97.22,  Time: 10:13:16 \n",
      "Ep. 1100, Timestep 1015683,  Ep.Timesteps 67, Score: 93.73, Avg.Score: 87.611, Max.Score: 96.26,  Time: 10:13:41 \n",
      "Ep. 1110, Timestep 1016360,  Ep.Timesteps 70, Score: 93.55, Avg.Score: 88.831, Max.Score: 96.26,  Time: 10:14:05 \n",
      "Ep. 1120, Timestep 1017028,  Ep.Timesteps 66, Score: 93.75, Avg.Score: 88.867, Max.Score: 95.93,  Time: 10:14:30 \n",
      "Ep. 1130, Timestep 1017700,  Ep.Timesteps 68, Score: 93.64, Avg.Score: 88.817, Max.Score: 95.93,  Time: 10:14:55 \n",
      "Ep. 1140, Timestep 1018362,  Ep.Timesteps 65, Score: 93.77, Avg.Score: 89.098, Max.Score: 95.83,  Time: 10:15:20 \n",
      "Ep. 1150, Timestep 1019031,  Ep.Timesteps 68, Score: 93.64, Avg.Score: 89.277, Max.Score: 95.83,  Time: 10:15:44 \n",
      "Ep. 1156, Timestep 1019431,  Ep.Timesteps 66, Score: 93.68, Avg.Score: 90.408, Max.Score: 95.83,  Time: 10:15:59 \n",
      "Environment solved with Average Score:  90.40762049331501\n"
     ]
    }
   ],
   "source": [
    "# Twin Delayed Deep Deterministic (TD3) policy gradient algorithm\n",
    "def twin_ddd_train(n_episodes=50000, save_every=100, print_env=10):\n",
    "\n",
    "    scores_deque = deque(maxlen=100)\n",
    "    scores_array = []\n",
    "    avg_scores_array = []    \n",
    "\n",
    "    time_start = time.time()                    # Init start time\n",
    "    replay_buf = ReplayBuffer()                 # Init ReplayBuffer\n",
    "    \n",
    "    timestep_after_last_save = 0\n",
    "    total_timesteps = 0\n",
    "    \n",
    "    low = env.action_space.low\n",
    "    high = env.action_space.high\n",
    "    \n",
    "    print('Low in action space: ', low, ', High: ', high, ', Action_dim: ', action_dim)\n",
    "            \n",
    "    for i_episode in range(1, n_episodes+1):\n",
    "        \n",
    "        timestep = 0\n",
    "        total_reward = 0\n",
    "        \n",
    "        # Reset environment\n",
    "        state = env.reset()\n",
    "        done = False\n",
    "        \n",
    "        while True:\n",
    "            \n",
    "            # Select action randomly or according to policy\n",
    "            if total_timesteps < start_timestep:\n",
    "                action = env.action_space.sample()\n",
    "            else:\n",
    "                action = agent.select_action(np.array(state))\n",
    "                if std_noise != 0: \n",
    "                    shift_action = np.random.normal(0, std_noise, size=action_dim)\n",
    "                    action = (action + shift_action).clip(low, high)\n",
    "            \n",
    "            # Perform action\n",
    "            new_state, reward, done, _ = env.step(action) \n",
    "            done_bool = 0 if timestep + 1 == env._max_episode_steps else float(done)\n",
    "            total_reward += reward                          # full episode reward\n",
    "\n",
    "            # Store every timestep in replay buffer\n",
    "            replay_buf.add((state, new_state, action, reward, done_bool))\n",
    "            state = new_state\n",
    "\n",
    "            timestep += 1     \n",
    "            total_timesteps += 1\n",
    "            timestep_after_last_save += 1\n",
    "\n",
    "            if done:                                       # done ?\n",
    "                break                                      # save score\n",
    "\n",
    "        scores_deque.append(total_reward)\n",
    "        scores_array.append(total_reward)\n",
    "\n",
    "        avg_score = np.mean(scores_deque)\n",
    "        avg_scores_array.append(avg_score)\n",
    "        \n",
    "        max_score = np.max(scores_deque)\n",
    "        \n",
    "        # train_by_episode(time_start, i_episode) \n",
    "        s = (int)(time.time() - time_start)\n",
    "        if i_episode % print_env == 0 or (len(scores_deque) == 100 and avg_score > threshold):\n",
    "            print('Ep. {}, Timestep {},  Ep.Timesteps {}, Score: {:.2f}, Avg.Score: {:.3f}, Max.Score: {:.2f},  Time: {:02}:{:02}:{:02} '\\\n",
    "                .format(i_episode, total_timesteps, timestep, \\\n",
    "                        total_reward, avg_score, max_score, s//3600, s%3600//60, s%60))     \n",
    "\n",
    "        agent.train(replay_buf, timestep)\n",
    "\n",
    "        if i_episode % save_every == 0 and i_episode > 0:\n",
    "\n",
    "            timestep_after_last_save %= save_every            \n",
    "            save(agent, 'weights', dir_chk)  \n",
    "        \n",
    "        if len(scores_deque) == 100 and avg_score >= threshold:\n",
    "            print('Environment solved with Average Score: ',  avg_score )\n",
    "            break \n",
    "\n",
    "    return scores_array, avg_scores_array\n",
    "\n",
    "scores, avg_scores = twin_ddd_train()"
   ]
  },
  {
   "cell_type": "code",
   "execution_count": 5,
   "metadata": {},
   "outputs": [],
   "source": [
    "save(agent, 'final', dir_chk)  "
   ]
  },
  {
   "cell_type": "code",
   "execution_count": 6,
   "metadata": {},
   "outputs": [
    {
     "name": "stdout",
     "output_type": "stream",
     "text": [
      "length of scores:  1156 , len of avg_scores:  1156\n"
     ]
    },
    {
     "data": {
      "image/png": "[encoded data removed]",
      "text/plain": [
       "<Figure size 432x288 with 1 Axes>"
      ]
     },
     "metadata": {
      "needs_background": "light"
     },
     "output_type": "display_data"
    }
   ],
   "source": [
    "import matplotlib.pyplot as plt\n",
    "%matplotlib inline\n",
    "\n",
    "print('length of scores: ', len(scores), ', len of avg_scores: ', len(avg_scores))\n",
    "\n",
    "fig = plt.figure()\n",
    "ax = fig.add_subplot(111)\n",
    "plt.plot(np.arange(1, len(scores)+1), scores, label=\"Score\")\n",
    "plt.plot(np.arange(1, len(avg_scores)+1), avg_scores, label=\"Avg on 100 episodes\")\n",
    "plt.legend(bbox_to_anchor=(1.05, 1)) \n",
    "plt.ylabel('Score')\n",
    "plt.xlabel('Episodes #')\n",
    "plt.show()"
   ]
  },
  {
   "cell_type": "code",
   "execution_count": null,
   "metadata": {},
   "outputs": [],
   "source": [
    "from collections import deque\n",
    "import os\n",
    "\n",
    "def play(env, agent, n_episodes):\n",
    "    state = env.reset()\n",
    "    \n",
    "    scores_deque = deque(maxlen=100)\n",
    "    scores = []\n",
    "\n",
    "    for i_episode in range(1, n_episodes+1):\n",
    "        state = env.reset()        \n",
    "        score = 0\n",
    "        \n",
    "        time_start = time.time()\n",
    "        \n",
    "        while True:\n",
    "            action = agent.select_action(np.array(state))\n",
    "            env.render()\n",
    "            time.sleep(0.01)\n",
    "            next_state, reward, done, _ = env.step(action)\n",
    "            state = next_state\n",
    "            score += reward\n",
    "            if done:\n",
    "                break \n",
    "\n",
    "        s = (int)(time.time() - time_start)\n",
    "        \n",
    "        scores_deque.append(score)\n",
    "        scores.append(score)\n",
    "        \n",
    "        print('Episode {}\\tAverage Score: {:.2f},\\tScore: {:.2f} \\tTime: {:02}:{:02}:{:02}'\\\n",
    "                  .format(i_episode, np.mean(scores_deque), score, s//3600, s%3600//60, s%60))  \n",
    "\n",
    "play(env=env, agent=agent, n_episodes=10)\n"
   ]
  },
  {
   "cell_type": "code",
   "execution_count": null,
   "metadata": {},
   "outputs": [],
   "source": [
    "env.close()"
   ]
  },
  {
   "cell_type": "code",
   "execution_count": null,
   "metadata": {},
   "outputs": [],
   "source": []
  }
 ],
 "metadata": {
  "kernelspec": {
   "display_name": "Python 3",
   "language": "python",
   "name": "python3"
  },
  "language_info": {
   "codemirror_mode": {
    "name": "ipython",
    "version": 3
   },
   "file_extension": ".py",
   "mimetype": "text/x-python",
   "name": "python",
   "nbconvert_exporter": "python",
   "pygments_lexer": "ipython3",
   "version": "3.7.4"
  }
 },
 "nbformat": 4,
 "nbformat_minor": 2
}
