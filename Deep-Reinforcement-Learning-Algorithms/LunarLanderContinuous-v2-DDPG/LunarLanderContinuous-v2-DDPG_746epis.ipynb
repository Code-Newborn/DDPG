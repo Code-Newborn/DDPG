{
 "cells": [
  {
   "cell_type": "markdown",
   "metadata": {},
   "source": [
    "## LunarLanderContinuous-v2 (DDPG, v1)"
   ]
  },
  {
   "cell_type": "code",
   "execution_count": 1,
   "metadata": {},
   "outputs": [
    {
     "name": "stdout",
     "output_type": "stream",
     "text": [
      "threshold:  200\n",
      "Size of each action: 2\n",
      "Each observes a state with length: {} 8\n",
      "The state for the first agent looks like: -0.00059156417\n"
     ]
    }
   ],
   "source": [
    "import gym\n",
    "import random\n",
    "import torch\n",
    "import numpy as np\n",
    "\n",
    "import time\n",
    "#from ddpg_agent import Agent, ReplayBuffer, device\n",
    "from ddpg_agent_1 import Agent, ReplayBuffer, device\n",
    "from collections import deque\n",
    "\n",
    "start_timestep=1e4\n",
    "\n",
    "from  collections  import deque\n",
    "\n",
    "env = gym.make('LunarLanderContinuous-v2')\n",
    "seed = 0\n",
    "env.seed(seed)\n",
    "torch.manual_seed(seed)\n",
    "np.random.seed(seed)\n",
    "\n",
    "state = env.reset()\n",
    "state_dim = env.observation_space.shape[0]\n",
    "action_dim = env.action_space.shape[0] \n",
    "max_action = float(env.action_space.high[0])\n",
    "threshold = env.spec.reward_threshold\n",
    "print('threshold: ', threshold)\n",
    "\n",
    "print('Size of each action:', action_dim)\n",
    "# examine the state space \n",
    "print('Each observes a state with length: {}', state_dim)\n",
    "print('The state for the first agent looks like:', state[0])\n",
    "\n",
    "import matplotlib.pyplot as plt\n",
    "%matplotlib inline\n",
    "agent = Agent(state_size=state_dim, action_size=action_dim, random_seed=8)\n"
   ]
  },
  {
   "cell_type": "code",
   "execution_count": 2,
   "metadata": {},
   "outputs": [
    {
     "name": "stdout",
     "output_type": "stream",
     "text": [
      "Episode 10 Score: -312.26 Average Score: -508.87, Time: 00:00:04 ***    \n",
      "Episode 20 Score: -231.30 Average Score: -601.98, Time: 00:00:15 ***    \n",
      "Episode 30 Score: -329.78 Average Score: -512.62, Time: 00:00:22 ***    \n",
      "Episode 40 Score: -337.07 Average Score: -468.51, Time: 00:00:27 ***    \n",
      "Episode 50 Score: -349.80 Average Score: -442.29, Time: 00:00:32 ***    \n",
      "Episode 60 Score: -368.60 Average Score: -426.55, Time: 00:00:37 ***    \n",
      "Episode 70 Score: -278.15 Average Score: -402.61, Time: 00:00:44 ***    \n",
      "Episode 80 Score: -74.54 Average Score: -382.30, Time: 00:00:50 ***    \n",
      "Episode 90 Score: -226.69 Average Score: -362.21, Time: 00:00:58 ***    \n",
      "Episode 100 Score: 6.01 Average Score: -351.43, Time: 00:01:07 ***    \n",
      "Episode 110 Score: -7.86 Average Score: -330.51, Time: 00:01:19 ***    \n",
      "Episode 120 Score: -443.82 Average Score: -289.74, Time: 00:01:34 ***    \n",
      "Episode 130 Score: -319.18 Average Score: -301.73, Time: 00:01:51 ***    \n",
      "Episode 140 Score: -303.96 Average Score: -305.58, Time: 00:02:33 ***    \n",
      "Episode 150 Score: -97.44 Average Score: -285.72, Time: 00:03:54 ***    \n",
      "Episode 160 Score: -117.09 Average Score: -264.83, Time: 00:05:38 ***    \n",
      "Episode 170 Score: -354.35 Average Score: -266.59, Time: 00:06:27 ***    \n",
      "Episode 180 Score: -97.24 Average Score: -260.78, Time: 00:07:22 ***    \n",
      "Episode 190 Score: -85.98 Average Score: -255.85, Time: 00:08:50 ***    \n",
      "Episode 200 Score: -147.45 Average Score: -244.19, Time: 00:10:30 ***    \n",
      "Episode 210 Score: -81.34 Average Score: -228.08, Time: 00:11:55 ***    \n",
      "Episode 220 Score: -104.57 Average Score: -214.54, Time: 00:13:14 ***    \n",
      "Episode 230 Score: -150.55 Average Score: -185.53, Time: 00:14:24 ***    \n",
      "Episode 240 Score: -127.88 Average Score: -163.92, Time: 00:15:10 ***    \n",
      "Episode 250 Score: -127.98 Average Score: -164.80, Time: 00:15:48 ***    \n",
      "Episode 260 Score: -230.65 Average Score: -169.41, Time: 00:16:40 ***    \n",
      "Episode 270 Score: -223.00 Average Score: -158.43, Time: 00:18:03 ***    \n",
      "Episode 280 Score: -51.84 Average Score: -149.45, Time: 00:19:46 ***    \n",
      "Episode 290 Score: -0.65 Average Score: -142.04, Time: 00:21:20 ***    \n",
      "Episode 300 Score: -62.32 Average Score: -133.00, Time: 00:23:07 ***    \n",
      "Episode 310 Score: -201.72 Average Score: -125.69, Time: 00:24:40 ***    \n",
      "Episode 320 Score: 146.30 Average Score: -112.32, Time: 00:25:54 ***    \n",
      "Episode 330 Score: 93.91 Average Score: -95.50, Time: 00:26:57 ***    \n",
      "Episode 340 Score: -74.23 Average Score: -83.56, Time: 00:28:18 ***    \n",
      "Episode 350 Score: -174.14 Average Score: -76.51, Time: 00:29:28 ***    \n",
      "Episode 360 Score: 96.79 Average Score: -58.72, Time: 00:30:47 ***    \n",
      "Episode 370 Score: -181.15 Average Score: -48.83, Time: 00:32:14 ***    \n",
      "Episode 380 Score: -76.46 Average Score: -45.70, Time: 00:33:44 ***    \n",
      "Episode 390 Score: -106.22 Average Score: -45.04, Time: 00:35:38 ***    \n",
      "Episode 400 Score: -78.96 Average Score: -47.57, Time: 00:37:28 ***    \n",
      "Episode 410 Score: -4.06 Average Score: -42.25, Time: 00:39:16 ***    \n",
      "Episode 420 Score: -38.96 Average Score: -43.03, Time: 00:41:01 ***    \n",
      "Episode 430 Score: -74.10 Average Score: -50.56, Time: 00:42:39 ***    \n",
      "Episode 440 Score: -185.74 Average Score: -56.40, Time: 00:44:11 ***    \n",
      "Episode 450 Score: -66.01 Average Score: -56.82, Time: 00:45:45 ***    \n",
      "Episode 460 Score: -62.71 Average Score: -63.31, Time: 00:47:19 ***    \n",
      "Episode 470 Score: -38.93 Average Score: -61.19, Time: 00:49:05 ***    \n",
      "Episode 480 Score: -107.61 Average Score: -62.94, Time: 00:50:46 ***    \n",
      "Episode 490 Score: -75.93 Average Score: -65.00, Time: 00:52:23 ***    \n",
      "Episode 500 Score: -136.79 Average Score: -67.67, Time: 00:54:00 ***    \n",
      "Episode 510 Score: -42.74 Average Score: -75.37, Time: 00:55:39 ***    \n",
      "Episode 520 Score: -20.05 Average Score: -76.82, Time: 00:57:12 ***    \n",
      "Episode 530 Score: -19.68 Average Score: -71.73, Time: 00:58:50 ***    \n",
      "Episode 540 Score: -29.58 Average Score: -62.78, Time: 01:00:31 ***    \n",
      "Episode 550 Score: 172.62 Average Score: -54.87, Time: 01:02:09 ***    \n",
      "Episode 560 Score: 101.32 Average Score: -50.07, Time: 01:03:29 ***    \n",
      "Episode 570 Score: -23.83 Average Score: -49.73, Time: 01:04:57 ***    \n",
      "Episode 580 Score: -16.09 Average Score: -45.74, Time: 01:06:48 ***    \n",
      "Episode 590 Score: 140.18 Average Score: -32.83, Time: 01:08:38 ***    \n",
      "Episode 600 Score: 115.93 Average Score: -16.60, Time: 01:10:24 ***    \n",
      "Episode 610 Score: 230.58 Average Score: 12.55, Time: 01:11:34 ***    \n",
      "Episode 620 Score: 129.24 Average Score: 33.46, Time: 01:12:53 ***    \n",
      "Episode 630 Score: 91.91 Average Score: 49.49, Time: 01:14:19 ***    \n",
      "Episode 640 Score: 58.73 Average Score: 65.15, Time: 01:15:38 ***    \n",
      "Episode 650 Score: 176.09 Average Score: 77.29, Time: 01:17:04 ***    \n",
      "Episode 660 Score: 240.15 Average Score: 93.67, Time: 01:18:21 ***    \n",
      "Episode 670 Score: 185.35 Average Score: 119.54, Time: 01:19:19 ***    \n",
      "Episode 680 Score: 210.95 Average Score: 143.62, Time: 01:20:15 ***    \n",
      "Episode 690 Score: 218.96 Average Score: 160.28, Time: 01:21:15 ***    \n",
      "Episode 700 Score: 280.84 Average Score: 175.06, Time: 01:22:27 ***    \n",
      "Episode 710 Score: 266.14 Average Score: 178.35, Time: 01:23:32 ***    \n",
      "Episode 720 Score: 232.64 Average Score: 181.89, Time: 01:24:34 ***    \n",
      "Episode 730 Score: 169.02 Average Score: 189.02, Time: 01:25:34 ***    \n",
      "Episode 740 Score: 191.62 Average Score: 194.17, Time: 01:26:18 ***    \n",
      "Episode 746 Score: 139.54 Average Score: 200.03, Time: 01:26:49 ***    \n",
      "Environment solved !   \n"
     ]
    }
   ],
   "source": [
    "def ddpg(n_episodes=20000, print_every=10):\n",
    "    scores_deque = deque(maxlen=100)\n",
    "    scores_array = []\n",
    "    avg_scores_array = [] \n",
    "        \n",
    "    time_start = time.time()\n",
    "    \n",
    "    timestep_after_last_save = 0\n",
    "    total_timesteps = 0\n",
    "        \n",
    "    for i_episode in range(1, n_episodes+1):\n",
    "        state = env.reset()                                    # set the environment    \n",
    "        agent.reset()\n",
    "        score_average = 0\n",
    "        \n",
    "        timestep = 0\n",
    "        total_reward = 0\n",
    "        \n",
    "        done = False\n",
    "\n",
    "        while True:\n",
    "            action = agent.act(state)\n",
    "                        \n",
    "            # Perform action\n",
    "            next_state, reward, done, _ = env.step(action) \n",
    "            done_bool = 0 if timestep + 1 == env._max_episode_steps else float(done)\n",
    "            total_reward += reward                          # full episode reward\n",
    "        \n",
    "            ## def step(self, states, actions, rewards, next_states, dones, timestep):\n",
    "            agent.step(state, action, reward, next_state, done, timestep)\n",
    "            state = next_state                               # roll over states to next time step\n",
    "            \n",
    "            timestep += 1     \n",
    "            total_timesteps += 1\n",
    "            timestep_after_last_save += 1\n",
    "\n",
    "            if done:                                  # exit loop if episode finished\n",
    "                break\n",
    "        \n",
    "        scores_deque.append(total_reward)\n",
    "        scores_array.append(total_reward)\n",
    "\n",
    "        avg_score = np.mean(scores_deque)\n",
    "        avg_scores_array.append(avg_score)\n",
    "        \n",
    "        # train_by_episode(time_start, i_episode) \n",
    "        s = (int)(time.time() - time_start)\n",
    "                        \n",
    "        if i_episode % print_every == 0 or (len(scores_deque) == 100 and np.mean(scores_deque) >= threshold) :\n",
    "            #torch.save(agent.actor_local.state_dict(), 'checkpoint_actor.pth')\n",
    "            #torch.save(agent.critic_local.state_dict(), 'checkpoint_critic.pth')\n",
    "            s = (int)(time.time() - time_start) \n",
    "            print('Episode {} Score: {:.2f} Average Score: {:.2f}, Time: {:02}:{:02}:{:02} ***    '\\\n",
    "                  .format(i_episode, total_reward, avg_score, s//3600, s%3600//60, s%60))  \n",
    "            \n",
    "        if len(scores_deque) == 100 and np.mean(scores_deque) >= threshold:  \n",
    "            print('Environment solved !   ')\n",
    "            break\n",
    "            \n",
    "    return scores_array, avg_scores_array\n",
    "\n",
    "scores, avg_scores = ddpg()\n",
    "    "
   ]
  },
  {
   "cell_type": "code",
   "execution_count": 3,
   "metadata": {},
   "outputs": [
    {
     "data": {
      "image/png": "[encoded data removed]",
      "text/plain": [
       "<Figure size 432x288 with 1 Axes>"
      ]
     },
     "metadata": {
      "needs_background": "light"
     },
     "output_type": "display_data"
    }
   ],
   "source": [
    "fig = plt.figure()\n",
    "ax = fig.add_subplot(111)\n",
    "plt.plot(np.arange(1, len(scores)+1), scores, label=\"Score\")\n",
    "plt.plot(np.arange(1, len(avg_scores)+1), avg_scores, label=\"Avg on 100 episodes\")\n",
    "plt.legend(bbox_to_anchor=(1.05, 1)) \n",
    "plt.ylabel('Score')\n",
    "plt.xlabel('Episodes #')\n",
    "plt.show()"
   ]
  },
  {
   "cell_type": "code",
   "execution_count": 4,
   "metadata": {},
   "outputs": [],
   "source": [
    "def save(agent, filename, directory):\n",
    "    torch.save(agent.actor_local.state_dict(), '%s/%s_actor_local.pth' % (directory, filename))\n",
    "    torch.save(agent.actor_target.state_dict(), '%s/%s_actor_target.pth' % (directory, filename))\n",
    "    torch.save(agent.critic_local.state_dict(), '%s/%s_critic_local.pth' % (directory, filename))\n",
    "    torch.save(agent.critic_target.state_dict(), '%s/%s_critic_target.pth' % (directory, filename))\n",
    "\n",
    "\n",
    "save(agent, 'LunarLanderContinuous-v2', 'dir_chk_test')\n",
    "\n",
    "model.save_state_dict"
   ]
  },
  {
   "cell_type": "code",
   "execution_count": 5,
   "metadata": {},
   "outputs": [],
   "source": [
    "def play(env, agent, n_episodes):\n",
    "    \n",
    "    state = env.reset()\n",
    "    scores_deque = deque(maxlen=100)\n",
    "\n",
    "    for i_episode in range(1, n_episodes+1):\n",
    "        state = env.reset()\n",
    "        agent.reset()\n",
    "        \n",
    "        total_reward = 0\n",
    "        time_start = time.time()\n",
    "        timesteps =  0\n",
    "        \n",
    "        done = False\n",
    "\n",
    "        while True:\n",
    "            \n",
    "            action = agent.act(state)\n",
    "            env.render()\n",
    "            next_state, reward, done, _ = env.step(action)\n",
    "            total_reward += reward\n",
    "            \n",
    "            agent.step(state, action, reward, next_state, done, timesteps)\n",
    "            state = next_state\n",
    "            timesteps += 1\n",
    "            \n",
    "            if done:\n",
    "                break \n",
    "\n",
    "        delta = (int)(time.time() - time_start)\n",
    "        \n",
    "        scores_deque.append(total_reward)\n",
    "\n",
    "        print('Episode {}\\tAverage Score: {:.2f}, \\t Timesteps: {} \\tTime: {:02}:{:02}:{:02}'\\\n",
    "                  .format(i_episode, np.mean(scores_deque), timesteps,\\\n",
    "                          delta//3600, delta%3600//60, delta%60))"
   ]
  },
  {
   "cell_type": "code",
   "execution_count": 7,
   "metadata": {},
   "outputs": [
    {
     "name": "stdout",
     "output_type": "stream",
     "text": [
      "Episode 1\tAverage Score: 170.48, \t Timesteps: 548 \tTime: 00:00:14\n",
      "Episode 2\tAverage Score: 190.28, \t Timesteps: 530 \tTime: 00:00:13\n",
      "Episode 3\tAverage Score: 186.39, \t Timesteps: 447 \tTime: 00:00:11\n",
      "Episode 4\tAverage Score: 193.44, \t Timesteps: 493 \tTime: 00:00:12\n",
      "Episode 5\tAverage Score: 198.37, \t Timesteps: 571 \tTime: 00:00:14\n",
      "Episode 6\tAverage Score: 199.58, \t Timesteps: 569 \tTime: 00:00:14\n",
      "Episode 7\tAverage Score: 198.41, \t Timesteps: 831 \tTime: 00:00:20\n",
      "Episode 8\tAverage Score: 194.49, \t Timesteps: 574 \tTime: 00:00:14\n",
      "Episode 9\tAverage Score: 191.80, \t Timesteps: 395 \tTime: 00:00:09\n",
      "Episode 10\tAverage Score: 195.02, \t Timesteps: 386 \tTime: 00:00:09\n"
     ]
    }
   ],
   "source": [
    "play(env=env, agent=agent, n_episodes=10)"
   ]
  },
  {
   "cell_type": "code",
   "execution_count": 8,
   "metadata": {},
   "outputs": [],
   "source": [
    "save(agent, 'LLC-v2', 'dir_chk_1')"
   ]
  },
  {
   "cell_type": "code",
   "execution_count": 9,
   "metadata": {},
   "outputs": [],
   "source": [
    "def load(agent, directory, filename):\n",
    "    agent.actor_local.load_state_dict(torch.load('%s/%s_actor_local.pth' % (directory,  filename)))\n",
    "    agent.actor_target.load_state_dict(torch.load('%s/%s_actor_target.pth' % (directory,  filename)))\n",
    "    agent.critic_local.load_state_dict(torch.load('%s/%s_critic_local.pth' % (directory,  filename)))\n",
    "    agent.critic_target.load_state_dict(torch.load('%s/%s_critic_target.pth' % (directory,  filename)))"
   ]
  },
  {
   "cell_type": "code",
   "execution_count": 10,
   "metadata": {},
   "outputs": [
    {
     "name": "stdout",
     "output_type": "stream",
     "text": [
      "Episode 1\tAverage Score: 255.19, \t Timesteps: 346 \tTime: 00:00:17\n",
      "Episode 2\tAverage Score: 253.04, \t Timesteps: 339 \tTime: 00:00:08\n",
      "Episode 3\tAverage Score: 254.17, \t Timesteps: 414 \tTime: 00:00:11\n",
      "Episode 4\tAverage Score: 254.71, \t Timesteps: 379 \tTime: 00:00:09\n",
      "Episode 5\tAverage Score: 254.58, \t Timesteps: 368 \tTime: 00:00:09\n",
      "Episode 6\tAverage Score: 252.35, \t Timesteps: 464 \tTime: 00:00:11\n",
      "Episode 7\tAverage Score: 248.49, \t Timesteps: 328 \tTime: 00:00:08\n"
     ]
    }
   ],
   "source": [
    "load(agent, 'dir_chk_1', 'LLC-v2')\n",
    "play(env=env, agent=agent, n_episodes=7)"
   ]
  },
  {
   "cell_type": "code",
   "execution_count": 11,
   "metadata": {},
   "outputs": [],
   "source": [
    "env.close()"
   ]
  },
  {
   "cell_type": "code",
   "execution_count": null,
   "metadata": {},
   "outputs": [],
   "source": []
  }
 ],
 "metadata": {
  "kernelspec": {
   "display_name": "ml2-kernel",
   "language": "python",
   "name": "ml2-kernel"
  },
  "language_info": {
   "codemirror_mode": {
    "name": "ipython",
    "version": 3
   },
   "file_extension": ".py",
   "mimetype": "text/x-python",
   "name": "python",
   "nbconvert_exporter": "python",
   "pygments_lexer": "ipython3",
   "version": "3.7.3"
  }
 },
 "nbformat": 4,
 "nbformat_minor": 2
}
