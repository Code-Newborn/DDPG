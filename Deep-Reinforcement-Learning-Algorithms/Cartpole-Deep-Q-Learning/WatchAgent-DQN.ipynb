{
 "cells": [
  {
   "cell_type": "markdown",
   "metadata": {},
   "source": [
    "## Watch a Deep Q-Network Agent! \n",
    "\n",
    "### 1.Start the Environment "
   ]
  },
  {
   "cell_type": "code",
   "execution_count": 1,
   "metadata": {},
   "outputs": [
    {
     "name": "stdout",
     "output_type": "stream",
     "text": [
      "input_dim:  4 , output_dim:  2 , hidden_dim:  16\n"
     ]
    }
   ],
   "source": [
    "import gym\n",
    "import torch\n",
    "from agent import Agent, FloatTensor\n",
    "import time\n",
    "\n",
    "env_v0 = gym.make('CartPole-v0')\n",
    "## env_v1 = gym.make('CartPole-v1')\n",
    "\n",
    "# input_dim,  output_dim, hidden_dim  are the same for v0 and v1, go dqn and ddqn\n",
    "input_dim =  env_v0.observation_space.shape[0] # n_spaces =\n",
    "output_dim = env_v0.action_space.n # n_actions = \n",
    "hidden_dim = 16\n",
    "agent = Agent(input_dim, output_dim, hidden_dim)        \n",
    "print('input_dim: ', input_dim, ', output_dim: ', output_dim, ', hidden_dim: ', hidden_dim)\n",
    "\n",
    "agent_ddqn = Agent(input_dim, output_dim, hidden_dim)\n"
   ]
  },
  {
   "cell_type": "markdown",
   "metadata": {},
   "source": [
    "### 2. Prepare Load"
   ]
  },
  {
   "cell_type": "code",
   "execution_count": 2,
   "metadata": {},
   "outputs": [],
   "source": [
    "def load(agent, directory, filename):\n",
    "    agent.q_local.load_state_dict(\n",
    "        torch.load('%s/%s_local.pth' % (directory,  filename)))\n",
    "    agent.q_target.load_state_dict(\n",
    "        torch.load('%s/%s_target.pth' % (directory,  filename)))\n"
   ]
  },
  {
   "cell_type": "markdown",
   "metadata": {},
   "source": [
    "### 3. Prepare Player"
   ]
  },
  {
   "cell_type": "code",
   "execution_count": 3,
   "metadata": {},
   "outputs": [],
   "source": [
    "from collections import deque\n",
    "import os\n",
    "import numpy as np\n",
    "\n",
    "def play(env, agent, n_episodes):\n",
    "    state = env.reset()\n",
    "    \n",
    "    scores_deque = deque(maxlen=100)\n",
    "\n",
    "    for i_episode in range(1, n_episodes+1):\n",
    "        s = env.reset()        \n",
    "        \n",
    "        total_reward = 0\n",
    "        time_start = time.time()\n",
    "        timesteps =  0\n",
    "        \n",
    "        while True:\n",
    "            \n",
    "            a = agent.get_action(FloatTensor([s]), check_eps=False, eps=0.01)\n",
    "            env.render()\n",
    "            s2, r, done, _ = env.step(a.item())\n",
    "            s = s2\n",
    "            total_reward += r\n",
    "            timesteps += 1\n",
    "            \n",
    "            if done:\n",
    "                break \n",
    "\n",
    "        delta = (int)(time.time() - time_start)\n",
    "        \n",
    "        scores_deque.append(total_reward)\n",
    "\n",
    "        print('Episode {}\\tAverage Score: {:.2f}, \\t Timesteps: {} \\tTime: {:02}:{:02}:{:02}'\\\n",
    "                  .format(i_episode, np.mean(scores_deque), timesteps,\\\n",
    "                          delta//3600, delta%3600//60, delta%60))"
   ]
  },
  {
   "cell_type": "markdown",
   "metadata": {},
   "source": [
    "### 4. Load and Play"
   ]
  },
  {
   "cell_type": "code",
   "execution_count": 4,
   "metadata": {},
   "outputs": [
    {
     "name": "stdout",
     "output_type": "stream",
     "text": [
      "Episode 1\tAverage Score: 200.00, \t Timesteps: 200 \tTime: 00:00:09\n",
      "Episode 2\tAverage Score: 200.00, \t Timesteps: 200 \tTime: 00:00:03\n",
      "Episode 3\tAverage Score: 200.00, \t Timesteps: 200 \tTime: 00:00:03\n",
      "Episode 4\tAverage Score: 200.00, \t Timesteps: 200 \tTime: 00:00:03\n",
      "Episode 5\tAverage Score: 200.00, \t Timesteps: 200 \tTime: 00:00:03\n"
     ]
    }
   ],
   "source": [
    "env_v0_dqn = gym.make('CartPole-v0')\n",
    "load(agent, 'dir_chk_V0', 'cartpole-v0')\n",
    "play(env=env_v0_dqn, agent=agent, n_episodes=5)\n",
    "env_v0_dqn.close()"
   ]
  },
  {
   "cell_type": "code",
   "execution_count": 5,
   "metadata": {},
   "outputs": [
    {
     "name": "stdout",
     "output_type": "stream",
     "text": [
      "Episode 1\tAverage Score: 500.00, \t Timesteps: 500 \tTime: 00:00:08\n",
      "Episode 2\tAverage Score: 500.00, \t Timesteps: 500 \tTime: 00:00:08\n",
      "Episode 3\tAverage Score: 500.00, \t Timesteps: 500 \tTime: 00:00:08\n",
      "Episode 4\tAverage Score: 500.00, \t Timesteps: 500 \tTime: 00:00:08\n",
      "Episode 5\tAverage Score: 500.00, \t Timesteps: 500 \tTime: 00:00:08\n"
     ]
    }
   ],
   "source": [
    "env_v1_dqn = gym.make('CartPole-v1')\n",
    "load(agent, 'dir_chk_V1', 'cartpole-v1')\n",
    "play(env=env_v1_dqn, agent=agent, n_episodes=5)\n",
    "env_v1_dqn.close()"
   ]
  },
  {
   "cell_type": "code",
   "execution_count": null,
   "metadata": {},
   "outputs": [],
   "source": []
  }
 ],
 "metadata": {
  "kernelspec": {
   "display_name": "ml2-kernel",
   "language": "python",
   "name": "ml2-kernel"
  },
  "language_info": {
   "codemirror_mode": {
    "name": "ipython",
    "version": 3
   },
   "file_extension": ".py",
   "mimetype": "text/x-python",
   "name": "python",
   "nbconvert_exporter": "python",
   "pygments_lexer": "ipython3",
   "version": "3.7.3"
  }
 },
 "nbformat": 4,
 "nbformat_minor": 2
}
