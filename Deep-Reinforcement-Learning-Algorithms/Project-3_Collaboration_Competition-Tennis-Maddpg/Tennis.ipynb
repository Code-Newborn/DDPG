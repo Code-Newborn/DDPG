{
 "cells": [
  {
   "cell_type": "markdown",
   "metadata": {},
   "source": [
    "# Collaboration and Competition\n",
    "\n",
    "---\n",
    "\n",
    "In this notebook, you will learn how to use the Unity ML-Agents environment for the third project of the [Deep Reinforcement Learning Nanodegree](https://www.udacity.com/course/deep-reinforcement-learning-nanodegree--nd893) program.\n",
    "\n",
    "### 1. Start the Environment\n",
    "\n",
    "We begin by importing the necessary packages.  If the code cell below returns an error, please revisit the project instructions to double-check that you have installed [Unity ML-Agents](https://github.com/Unity-Technologies/ml-agents/blob/master/docs/Installation.md) and [NumPy](http://www.numpy.org/)."
   ]
  },
  {
   "cell_type": "code",
   "execution_count": 1,
   "metadata": {},
   "outputs": [],
   "source": [
    "import random\n",
    "import numpy as np\n",
    "import torch\n",
    "\n",
    "import sys\n",
    "import os\n",
    "\n",
    "sys.path.append(os.path.abspath('python/'))\n",
    "\n",
    "from unityagents import UnityEnvironment"
   ]
  },
  {
   "cell_type": "markdown",
   "metadata": {},
   "source": [
    "Next, we will start the environment!  **_Before running the code cell below_**, change the `file_name` parameter to match the location of the Unity environment that you downloaded.\n",
    "\n",
    "- **Mac**: `\"path/to/Tennis.app\"`\n",
    "- **Windows** (x86): `\"path/to/Tennis_Windows_x86/Tennis.exe\"`\n",
    "- **Windows** (x86_64): `\"path/to/Tennis_Windows_x86_64/Tennis.exe\"`\n",
    "- **Linux** (x86): `\"path/to/Tennis_Linux/Tennis.x86\"`\n",
    "- **Linux** (x86_64): `\"path/to/Tennis_Linux/Tennis.x86_64\"`\n",
    "- **Linux** (x86, headless): `\"path/to/Tennis_Linux_NoVis/Tennis.x86\"`\n",
    "- **Linux** (x86_64, headless): `\"path/to/Tennis_Linux_NoVis/Tennis.x86_64\"`\n",
    "\n",
    "For instance, if you are using a Mac, then you downloaded `Tennis.app`.  If this file is in the same folder as the notebook, then the line below should appear as follows:\n",
    "```\n",
    "env = UnityEnvironment(file_name=\"Tennis.app\")\n",
    "```"
   ]
  },
  {
   "cell_type": "code",
   "execution_count": 2,
   "metadata": {},
   "outputs": [
    {
     "name": "stderr",
     "output_type": "stream",
     "text": [
      "INFO:unityagents:\n",
      "'Academy' started successfully!\n",
      "Unity Academy name: Academy\n",
      "        Number of Brains: 1\n",
      "        Number of External Brains : 1\n",
      "        Lesson number : 0\n",
      "        Reset Parameters :\n",
      "\t\t\n",
      "Unity brain name: TennisBrain\n",
      "        Number of Visual Observations (per agent): 0\n",
      "        Vector Observation space type: continuous\n",
      "        Vector Observation space size (per agent): 8\n",
      "        Number of stacked Vector Observation: 3\n",
      "        Vector Action space type: continuous\n",
      "        Vector Action space size (per agent): 2\n",
      "        Vector Action descriptions: , \n"
     ]
    }
   ],
   "source": [
    "seed = 0\n",
    "torch.manual_seed(seed)\n",
    "random.seed(seed)\n",
    "np.random.seed(seed)\n",
    "env = UnityEnvironment(seed=seed, file_name=\"Tennis_Windows_x86_64/Tennis.app\")"
   ]
  },
  {
   "cell_type": "markdown",
   "metadata": {},
   "source": [
    "Environments contain **_brains_** which are responsible for deciding the actions of their associated agents. Here we check for the first brain available, and set it as the default brain we will be controlling from Python."
   ]
  },
  {
   "cell_type": "code",
   "execution_count": 3,
   "metadata": {},
   "outputs": [],
   "source": [
    "# get the default brain\n",
    "brain_name = env.brain_names[0]\n",
    "brain = env.brains[brain_name]"
   ]
  },
  {
   "cell_type": "markdown",
   "metadata": {},
   "source": [
    "### 2. Examine the State and Action Spaces\n",
    "\n",
    "In this environment, two agents control rackets to bounce a ball over a net. If an agent hits the ball over the net, it receives a reward of +0.1.  If an agent lets a ball hit the ground or hits the ball out of bounds, it receives a reward of -0.01.  Thus, the goal of each agent is to keep the ball in play.\n",
    "\n",
    "The observation space consists of 8 variables corresponding to the position and velocity of the ball and racket. Two continuous actions are available, corresponding to movement toward (or away from) the net, and jumping. \n",
    "\n",
    "Run the code cell below to print some information about the environment."
   ]
  },
  {
   "cell_type": "code",
   "execution_count": 4,
   "metadata": {},
   "outputs": [
    {
     "name": "stdout",
     "output_type": "stream",
     "text": [
      "Number of agents: 2\n",
      "Size of each action: 2\n",
      "There are 2 agents. Each observes a state with length: 24\n",
      "The state for the first agent looks like: [ 0.          0.          0.          0.          0.          0.\n",
      "  0.          0.          0.          0.          0.          0.\n",
      "  0.          0.          0.          0.         -6.65278625 -1.5\n",
      " -0.          0.          6.83172083  6.         -0.          0.        ]\n"
     ]
    }
   ],
   "source": [
    "# reset the environment\n",
    "env_info = env.reset(train_mode=True)[brain_name]\n",
    "\n",
    "# number of agents \n",
    "num_agents = len(env_info.agents)\n",
    "print('Number of agents:', num_agents)\n",
    "\n",
    "# size of each action\n",
    "action_size = brain.vector_action_space_size\n",
    "print('Size of each action:', action_size)\n",
    "\n",
    "# examine the state space \n",
    "states = env_info.vector_observations\n",
    "state_size = states.shape[1]\n",
    "print('There are {} agents. Each observes a state with length: {}'.format(states.shape[0], state_size))\n",
    "print('The state for the first agent looks like:', states[0])"
   ]
  },
  {
   "cell_type": "markdown",
   "metadata": {},
   "source": [
    "### 3. Take Random Actions in the Environment\n",
    "\n",
    "In the next code cell, you will learn how to use the Python API to control the agents and receive feedback from the environment.\n",
    "\n",
    "Once this cell is executed, you will watch the agents' performance, if they select actions at random with each time step.  A window should pop up that allows you to observe the agents.\n",
    "\n",
    "Of course, as part of the project, you'll have to change the code so that the agents are able to use their experiences to gradually choose better actions when interacting with the environment!"
   ]
  },
  {
   "cell_type": "code",
   "execution_count": 5,
   "metadata": {},
   "outputs": [
    {
     "name": "stdout",
     "output_type": "stream",
     "text": [
      "Score (max over agents) from episode 1: 0.0\n",
      "Score (max over agents) from episode 2: 0.0\n",
      "Score (max over agents) from episode 3: 0.0\n",
      "Score (max over agents) from episode 4: 0.0\n",
      "Score (max over agents) from episode 5: 0.0\n"
     ]
    }
   ],
   "source": [
    "for i in range(1, 6):                                      # play game for 5 episodes\n",
    "    env_info = env.reset(train_mode=False)[brain_name]     # reset the environment    \n",
    "    states = env_info.vector_observations                  # get the current state (for each agent)\n",
    "    scores = np.zeros(num_agents)                          # initialize the score (for each agent)\n",
    "    \n",
    "    while True:\n",
    "        actions = np.random.randn(num_agents, action_size) # select an action (for each agent)\n",
    "        actions = np.clip(actions, -1, 1)                  # all actions between -1 and 1\n",
    "        env_info = env.step(actions)[brain_name]           # send all actions to tne environment\n",
    "        next_states = env_info.vector_observations         # get next state (for each agent)\n",
    "        rewards = env_info.rewards                         # get reward (for each agent)\n",
    "        dones = env_info.local_done                        # see if episode finished\n",
    "        scores += env_info.rewards                         # update the score (for each agent)\n",
    "        states = next_states                               # roll over states to next time step\n",
    "        \n",
    "        if np.any(dones):                                  # exit loop if episode finished\n",
    "            break\n",
    "    \n",
    "    print('Score (max over agents) from episode {}: {}'.format(i, np.max(scores)))"
   ]
  },
  {
   "cell_type": "markdown",
   "metadata": {},
   "source": [
    "### 4. Train the Agent"
   ]
  },
  {
   "cell_type": "code",
   "execution_count": 6,
   "metadata": {},
   "outputs": [],
   "source": [
    "# MADDPG \n",
    "from maddpg_agent import maddpg_agent\n",
    "\n",
    "maddpg = maddpg_agent() "
   ]
  },
  {
   "cell_type": "code",
   "execution_count": 7,
   "metadata": {},
   "outputs": [],
   "source": [
    "## Saves model weights to file\n",
    "def save_weights(dir):\n",
    "    for i in range(num_agents):\n",
    "        torch.save(maddpg.agents[i].actor_local.state_dict(),                     \n",
    "              os.path.join(dir, 'checkpoint_actor_{}.pth'.format(i)) )\n",
    "        torch.save(maddpg.agents[i].critic_local.state_dict(), \n",
    "              os.path.join(dir, 'checkpoint_critic_{}.pth'.format(i)) )"
   ]
  },
  {
   "cell_type": "code",
   "execution_count": 8,
   "metadata": {},
   "outputs": [
    {
     "name": "stdout",
     "output_type": "stream",
     "text": [
      "Episode: 20, Score: -0.0050, \tAverage Score: -0.0050, Time: 00:00:00 \n",
      "Episode: 40, Score: -0.0050, \tAverage Score: -0.0050, Time: 00:00:02 \n",
      "Episode: 60, Score: -0.0050, \tAverage Score: -0.0050, Time: 00:00:07 \n",
      "Episode: 80, Score: -0.0050, \tAverage Score: -0.0050, Time: 00:00:12 \n",
      "Episode: 100, Score: -0.0050, \tAverage Score: -0.0050, Time: 00:00:18 \n",
      "Episode: 120, Score: -0.0050, \tAverage Score: -0.0040, Time: 00:00:23 \n",
      "Episode: 140, Score: -0.0050, \tAverage Score: -0.0025, Time: 00:00:30 \n",
      "Episode: 160, Score: -0.0050, \tAverage Score: -0.0020, Time: 00:00:36 \n",
      "Episode: 180, Score: -0.0050, \tAverage Score: -0.0015, Time: 00:00:43 \n",
      "Episode: 200, Score: 0.0450, \tAverage Score: 0.0040, Time: 00:00:53 \n",
      "Episode: 220, Score: -0.0050, \tAverage Score: 0.0070, Time: 00:01:03 \n",
      "Episode: 240, Score: 0.0450, \tAverage Score: 0.0065, Time: 00:01:09 \n",
      "Episode: 260, Score: -0.0050, \tAverage Score: 0.0085, Time: 00:01:17 \n",
      "Episode: 280, Score: -0.0050, \tAverage Score: 0.0080, Time: 00:01:22 \n",
      "Episode: 300, Score: -0.0050, \tAverage Score: 0.0045, Time: 00:01:30 \n",
      "Episode: 320, Score: -0.0050, \tAverage Score: 0.0035, Time: 00:01:38 \n",
      "Episode: 340, Score: 0.0450, \tAverage Score: 0.0045, Time: 00:01:46 \n",
      "Episode: 360, Score: -0.0050, \tAverage Score: 0.0030, Time: 00:01:52 \n",
      "Episode: 380, Score: -0.0050, \tAverage Score: 0.0030, Time: 00:01:58 \n",
      "Episode: 400, Score: -0.0050, \tAverage Score: 0.0010, Time: 00:02:04 \n",
      "Episode: 420, Score: -0.0050, \tAverage Score: -0.0005, Time: 00:02:11 \n",
      "Episode: 440, Score: -0.0050, \tAverage Score: 0.0010, Time: 00:02:20 \n",
      "Episode: 460, Score: -0.0050, \tAverage Score: 0.0015, Time: 00:02:27 \n",
      "Episode: 480, Score: -0.0050, \tAverage Score: 0.0035, Time: 00:02:35 \n",
      "Episode: 500, Score: -0.0050, \tAverage Score: 0.0085, Time: 00:02:43 \n",
      "Episode: 520, Score: -0.0050, \tAverage Score: 0.0075, Time: 00:02:49 \n",
      "Episode: 540, Score: -0.0050, \tAverage Score: 0.0065, Time: 00:02:57 \n",
      "Episode: 560, Score: -0.0050, \tAverage Score: 0.0050, Time: 00:03:03 \n",
      "Episode: 580, Score: -0.0050, \tAverage Score: 0.0050, Time: 00:03:10 \n",
      "Episode: 600, Score: -0.0050, \tAverage Score: 0.0030, Time: 00:03:17 \n",
      "Episode: 620, Score: -0.0050, \tAverage Score: 0.0050, Time: 00:03:25 \n",
      "Episode: 640, Score: -0.0050, \tAverage Score: 0.0110, Time: 00:03:38 \n",
      "Episode: 660, Score: 0.0950, \tAverage Score: 0.0130, Time: 00:03:46 \n",
      "Episode: 680, Score: -0.0050, \tAverage Score: 0.0210, Time: 00:03:59 \n",
      "Episode: 700, Score: -0.0050, \tAverage Score: 0.0185, Time: 00:04:05 \n",
      "Episode: 720, Score: -0.0050, \tAverage Score: 0.0160, Time: 00:04:10 \n",
      "Episode: 740, Score: -0.0050, \tAverage Score: 0.0075, Time: 00:04:16 \n",
      "Episode: 760, Score: -0.0050, \tAverage Score: 0.0065, Time: 00:04:23 \n",
      "Episode: 780, Score: -0.0050, \tAverage Score: 0.0045, Time: 00:04:34 \n",
      "Episode: 800, Score: -0.0050, \tAverage Score: 0.0080, Time: 00:04:43 \n",
      "Episode: 820, Score: 0.0450, \tAverage Score: 0.0110, Time: 00:04:51 \n",
      "Episode: 840, Score: 0.1450, \tAverage Score: 0.0180, Time: 00:05:07 \n",
      "Episode: 860, Score: 0.0450, \tAverage Score: 0.0305, Time: 00:05:28 \n",
      "Episode: 880, Score: 0.0450, \tAverage Score: 0.0315, Time: 00:05:42 \n",
      "Episode: 900, Score: 0.0450, \tAverage Score: 0.0415, Time: 00:06:00 \n",
      "Episode: 920, Score: 0.0450, \tAverage Score: 0.0510, Time: 00:06:17 \n",
      "Episode: 940, Score: 0.0450, \tAverage Score: 0.0545, Time: 00:06:34 \n",
      "Episode: 960, Score: 0.1450, \tAverage Score: 0.0535, Time: 00:06:51 \n",
      "Episode: 980, Score: 0.0450, \tAverage Score: 0.0610, Time: 00:07:12 \n",
      "Episode: 1000, Score: 0.0450, \tAverage Score: 0.0615, Time: 00:07:28 \n",
      "Episode: 1020, Score: -0.0050, \tAverage Score: 0.0550, Time: 00:07:38 \n",
      "Episode: 1040, Score: 0.1450, \tAverage Score: 0.0510, Time: 00:07:48 \n",
      "Episode: 1060, Score: 0.0450, \tAverage Score: 0.0570, Time: 00:08:08 \n",
      "Episode: 1080, Score: 0.0450, \tAverage Score: 0.0565, Time: 00:08:25 \n",
      "Episode: 1100, Score: 0.0450, \tAverage Score: 0.0670, Time: 00:08:49 \n",
      "Episode: 1120, Score: 0.1450, \tAverage Score: 0.0865, Time: 00:09:15 \n",
      "Episode: 1140, Score: 0.0450, \tAverage Score: 0.1115, Time: 00:09:46 \n",
      "Episode: 1160, Score: 0.0450, \tAverage Score: 0.1170, Time: 00:10:11 \n",
      "Episode: 1180, Score: 0.2950, \tAverage Score: 0.1250, Time: 00:10:36 \n",
      "Episode: 1200, Score: -0.0050, \tAverage Score: 0.1160, Time: 00:10:53 \n",
      "Episode: 1220, Score: 2.3450, \tAverage Score: 0.1350, Time: 00:11:39 \n",
      "Episode: 1240, Score: 0.0450, \tAverage Score: 0.1660, Time: 00:12:38 \n",
      "Episode: 1260, Score: 0.1950, \tAverage Score: 0.2350, Time: 00:14:01 \n",
      "Episode: 1280, Score: 0.0450, \tAverage Score: 0.3336, Time: 00:15:56 \n",
      "Episode: 1300, Score: 0.0450, \tAverage Score: 0.4592, Time: 00:18:07 \n",
      "\n",
      "*** Environment solved in 1302 episodes!\tAverage Score: 0.51 ***\n",
      "\n",
      "Episode: 1320, Score: 0.0450, \tAverage Score: 0.5434, Time: 00:20:07 \n",
      "Episode: 1340, Score: 0.0450, \tAverage Score: 0.4999, Time: 00:20:30 \n",
      "Episode: 1360, Score: 0.0450, \tAverage Score: 0.5736, Time: 00:22:51 \n",
      "Episode: 1380, Score: 0.0450, \tAverage Score: 0.4900, Time: 00:23:33 \n",
      "Episode: 1400, Score: 0.0450, \tAverage Score: 0.3955, Time: 00:24:17 \n",
      "Episode: 1420, Score: 0.0450, \tAverage Score: 0.3785, Time: 00:25:51 \n",
      "Episode: 1440, Score: 2.6000, \tAverage Score: 0.6059, Time: 00:29:11 \n",
      "*** Episode 1450\tAverage Score: 0.55, Time: 00:29:18 ***\n",
      " \n",
      "Episode: 1460, Score: 1.8950, \tAverage Score: 0.5722, Time: 00:31:11 \n",
      "Episode: 1480, Score: 0.0450, \tAverage Score: 0.6788, Time: 00:33:26 \n",
      "Episode: 1500, Score: 0.7950, \tAverage Score: 0.9267, Time: 00:37:45 \n",
      "*** Episode 1500\tAverage Score: 0.93, Time: 00:37:45 ***\n",
      " \n",
      "Episode: 1520, Score: -0.0050, \tAverage Score: 0.9882, Time: 00:40:17 \n",
      "Episode: 1540, Score: 2.6000, \tAverage Score: 0.9486, Time: 00:43:17 \n",
      "*** Episode 1550\tAverage Score: 1.11, Time: 00:46:03 ***\n",
      " \n",
      "Episode: 1560, Score: 2.6500, \tAverage Score: 1.0685, Time: 00:47:36 \n",
      "Episode: 1580, Score: 2.6000, \tAverage Score: 1.1664, Time: 00:51:30 \n",
      "Episode: 1600, Score: 0.0450, \tAverage Score: 1.1409, Time: 00:55:57 \n",
      "*** Episode 1600\tAverage Score: 1.14, Time: 00:55:57 ***\n",
      " \n",
      "Episode: 1620, Score: 1.4950, \tAverage Score: 1.1379, Time: 00:58:45 \n",
      "Episode: 1640, Score: 0.0950, \tAverage Score: 1.1464, Time: 01:02:11 \n",
      "*** Episode 1650\tAverage Score: 1.16, Time: 01:05:03 ***\n",
      " \n",
      "Episode: 1660, Score: 0.0450, \tAverage Score: 1.2741, Time: 01:08:14 \n",
      "Episode: 1680, Score: 2.6000, \tAverage Score: 1.3547, Time: 01:13:11 \n",
      "Episode: 1700, Score: 0.0950, \tAverage Score: 1.4214, Time: 01:18:16 \n",
      "*** Episode 1700\tAverage Score: 1.42, Time: 01:18:16 ***\n",
      " \n"
     ]
    }
   ],
   "source": [
    "from collections import deque\n",
    "import time\n",
    "\n",
    "def train(maddpg, env, dir_chkpoints, n_episodes=1000, save_every=50):\n",
    "    \"\"\"Training loop helper for running the environment using the MADDPG algorithm.\n",
    "    Params\n",
    "    ======\n",
    "        maddpg: instance of maddpg_agent wrapper class\n",
    "        env (UnityEnvironment): instance of Unity environment for training\n",
    "        dir_chkpoints: directory to save model weights\n",
    "        n_episodes (int): number of episodes to train for\n",
    "        save_every (int): frequency to save model weights\n",
    "    \"\"\"\n",
    "    \n",
    "    solved = False\n",
    "    scores_total = []\n",
    "    scores_deque = deque(maxlen=100)\n",
    "    scores_global = []\n",
    "    best_score = 0.0\n",
    "    time_start = time.time()\n",
    "    \n",
    "    # Environment information\n",
    "    brain_name = env.brain_names[0]\n",
    "\n",
    "    # Used for learning period to update the model weights\n",
    "    global_step_number = 0\n",
    "    \n",
    "    for i_episode in range(1, n_episodes+1):\n",
    "        \n",
    "        env_info = env.reset(train_mode=True)[brain_name]\n",
    "        states = env_info.vector_observations\n",
    "                    \n",
    "        scores = np.zeros(num_agents)\n",
    "        maddpg.reset()\n",
    "\n",
    "        while True:\n",
    "            actions = maddpg.act(states)\n",
    "\n",
    "            env_info = env.step(actions)[brain_name]\n",
    "            next_states = env_info.vector_observations\n",
    "            rewards = env_info.rewards\n",
    "            dones = env_info.local_done\n",
    "            \n",
    "            global_step_number += 1\n",
    "            maddpg.step(states, actions, rewards, next_states, dones, global_step_number)\n",
    "\n",
    "            scores += rewards\n",
    "            states = next_states\n",
    "\n",
    "            if np.any(dones):\n",
    "                break\n",
    "        \n",
    "        mean_score = np.mean(scores) # mean on 2 agents\n",
    "        scores_total.append(mean_score)\n",
    "        scores_deque.append(mean_score) # mean on 2 agents for 100 episodes\n",
    "        score_average_100epis = np.mean(scores_deque) # value = mean on 100 episodes \n",
    "        scores_global.append(score_average_100epis) # \n",
    "        \n",
    "        print_every = 20\n",
    "        if i_episode % print_every == 0:\n",
    "            s = (int)(time.time() - time_start)\n",
    "            print('Episode: {}, Score: {:.4f}, \\tAverage Score: {:.4f}, Time: {:02}:{:02}:{:02} '\\\n",
    "                 .format(i_episode, mean_score,  score_average_100epis, s//3600, s%3600//60, s%60))\n",
    "\n",
    "        if score_average_100epis >= 0.5 and not solved:\n",
    "            print('\\n*** Environment solved in {:d} episodes!\\tAverage Score: {:.2f} ***\\n'.format(\n",
    "                i_episode, score_average_100epis))\n",
    "            solved = True\n",
    "            save_weights(dir_chkpoints)\n",
    "            best_score = score_average_100epis\n",
    "\n",
    "        if i_episode % save_every == 0 and solved:\n",
    "            # Only save these weights if they are better than the ones previously saved\n",
    "            if score_average_100epis > best_score:\n",
    "                best_score = score_average_100epis\n",
    "                save_weights(dir_chkpoints)\n",
    "                s = (int)(time.time() - time_start) \n",
    "                print('*** Episode {}\\tAverage Score: {:.2f}, Time: {:02}:{:02}:{:02} ***\\n '\\\n",
    "                     .format(i_episode, np.mean(scores_deque), s//3600, s%3600//60, s%60))  \n",
    "        \n",
    "\n",
    "    return scores_total, scores_global\n",
    "\n",
    "dir_chkpoints = 'dir_chk_1700d_episodes'\n",
    "scores_total, scores_global = train(maddpg, env, dir_chkpoints, n_episodes=1700)"
   ]
  },
  {
   "cell_type": "markdown",
   "metadata": {},
   "source": [
    "### 5. Plot the  training results "
   ]
  },
  {
   "cell_type": "code",
   "execution_count": 9,
   "metadata": {
    "scrolled": false
   },
   "outputs": [
    {
     "data": {
      "image/png": "[encoded data removed]",
      "text/plain": [
       "<Figure size 432x288 with 1 Axes>"
      ]
     },
     "metadata": {
      "needs_background": "light"
     },
     "output_type": "display_data"
    },
    {
     "name": "stdout",
     "output_type": "stream",
     "text": [
      "len of scores_total:  1700 \n",
      "len of score_global:  1700\n"
     ]
    }
   ],
   "source": [
    "import matplotlib.pyplot as plt\n",
    "import numpy as np\n",
    "%matplotlib inline\n",
    "\n",
    "fig = plt.figure()\n",
    "ax = fig.add_subplot(111)\n",
    "\n",
    "plt.plot(np.arange(1, len(scores_total) + 1), scores_total, label=\"Max Score\")\n",
    "plt.plot(np.arange(1, len(scores_global) + 1), \n",
    "    scores_global, label=\"Avg on 100 episodes\") \n",
    "# This line indicates the score at which the environment is considered solved\n",
    "plt.axhline(y=0.5, color=\"r\",  label=\"Environment Solved\") \n",
    "\n",
    "plt.legend(bbox_to_anchor=(1.05, 1)) \n",
    "plt.ylabel(\"Score\")\n",
    "plt.xlabel(\"Episode # \")\n",
    "plt.show()\n",
    "\n",
    "print('len of scores_total: ', len(scores_total), '\\nlen of score_global: ',\\\n",
    "    len(scores_global))"
   ]
  },
  {
   "cell_type": "code",
   "execution_count": 10,
   "metadata": {},
   "outputs": [],
   "source": [
    "env.close()"
   ]
  },
  {
   "cell_type": "code",
   "execution_count": null,
   "metadata": {},
   "outputs": [],
   "source": []
  }
 ],
 "metadata": {
  "kernelspec": {
   "display_name": "Python 3",
   "language": "python",
   "name": "python3"
  },
  "language_info": {
   "codemirror_mode": {
    "name": "ipython",
    "version": 3
   },
   "file_extension": ".py",
   "mimetype": "text/x-python",
   "name": "python",
   "nbconvert_exporter": "python",
   "pygments_lexer": "ipython3",
   "version": "3.6.8"
  }
 },
 "nbformat": 4,
 "nbformat_minor": 2
}
