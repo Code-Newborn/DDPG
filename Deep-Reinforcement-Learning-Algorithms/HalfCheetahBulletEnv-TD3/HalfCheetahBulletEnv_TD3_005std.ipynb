{
 "cells": [
  {
   "cell_type": "markdown",
   "metadata": {},
   "source": [
    "# HopperBulletEnv with Twin Delayed DDPG (TD3)\n",
    "\n",
    "### Paper: https://arxiv.org/abs/1802.09477\n"
   ]
  },
  {
   "cell_type": "markdown",
   "metadata": {},
   "source": [
    "### 1. Start the Environment and Agent "
   ]
  },
  {
   "cell_type": "code",
   "execution_count": 1,
   "metadata": {},
   "outputs": [
    {
     "name": "stdout",
     "output_type": "stream",
     "text": [
      "current_dir=/home/rafaels/ml-agents/lib/python3.7/site-packages/pybullet_envs/bullet\n",
      "device:  cpu\n"
     ]
    }
   ],
   "source": [
    "import numpy as np\n",
    "import torch\n",
    "import torch.nn as nn\n",
    "import pybullet_envs\n",
    "import pybullet_envs.bullet as bul\n",
    "\n",
    "#from torch.autograd import Variable\n",
    "import torch.nn.functional as F\n",
    "\n",
    "import gym\n",
    "#import argparse\n",
    "import os\n",
    "\n",
    "import time\n",
    "from TwinDelayed import Actor, Critic, ReplayBuffer, TD3\n",
    "from collections import deque\n"
   ]
  },
  {
   "cell_type": "code",
   "execution_count": 2,
   "metadata": {},
   "outputs": [
    {
     "name": "stdout",
     "output_type": "stream",
     "text": [
      "start_dim:  26 , action_dim:  6\n",
      "n max_action:  1.0 , threshold:  3000.0\n"
     ]
    }
   ],
   "source": [
    "start_timestep=1e4\n",
    "\n",
    "std_noise=0.05\n",
    "\n",
    "env = gym.make('HalfCheetahBulletEnv-v0')\n",
    "\n",
    "# Set seeds\n",
    "seed = 12345\n",
    "env.seed(seed)\n",
    "torch.manual_seed(seed)\n",
    "np.random.seed(seed)\n",
    "\n",
    "state = env.reset()\n",
    "state_dim = env.observation_space.shape[0]\n",
    "action_dim = env.action_space.shape[0] \n",
    "max_action = float(env.action_space.high[0])\n",
    "threshold = env.spec.reward_threshold\n",
    "\n",
    "print('start_dim: ', state_dim, ', action_dim: ', action_dim)\n",
    "print('n max_action: ', max_action, ', threshold: ', threshold)\n",
    "\n",
    "agent = TD3(state_dim, action_dim, max_action)\n"
   ]
  },
  {
   "cell_type": "markdown",
   "metadata": {},
   "source": [
    "### 2. Traning the agent"
   ]
  },
  {
   "cell_type": "code",
   "execution_count": 3,
   "metadata": {},
   "outputs": [],
   "source": [
    "# save(agent = agent, filename='checkpnt, directory = 'dir_chkpoint')     \n",
    "def save(agent, filename, directory):\n",
    "    torch.save(agent.actor.state_dict(), '%s/%s_actor.pth' % (directory, filename))\n",
    "    torch.save(agent.critic.state_dict(), '%s/%s_critic.pth' % (directory, filename))\n",
    "    torch.save(agent.actor_target.state_dict(), '%s/%s_actor_t.pth' % (directory, filename))\n",
    "    torch.save(agent.critic_target.state_dict(), '%s/%s_critic_t.pth' % (directory, filename))   "
   ]
  },
  {
   "cell_type": "code",
   "execution_count": 4,
   "metadata": {},
   "outputs": [
    {
     "name": "stdout",
     "output_type": "stream",
     "text": [
      "Low in action space:  [-1. -1. -1. -1. -1. -1.] , High:  [1. 1. 1. 1. 1. 1.] , Action_dim:  6\n",
      "Ep. 40, Timestep 40000,  Ep.Timesteps 1000, Score: 562.43, Avg.Score: -530.70, Max.Score: 730.57,  Time: 00:15:45 \n",
      "Ep. 80, Timestep 80000,  Ep.Timesteps 1000, Score: -1357.29, Avg.Score: -392.62, Max.Score: 828.02,  Time: 00:34:02 \n",
      "Ep. 120, Timestep 120000,  Ep.Timesteps 1000, Score: 786.83, Avg.Score: -51.67, Max.Score: 864.29,  Time: 00:58:47 \n",
      "Ep. 160, Timestep 160000,  Ep.Timesteps 1000, Score: 524.97, Avg.Score: 116.19, Max.Score: 981.76,  Time: 01:25:48 \n",
      "Ep. 200, Timestep 200000,  Ep.Timesteps 1000, Score: 859.46, Avg.Score: 738.09, Max.Score: 1105.64,  Time: 01:54:04 \n",
      "Ep. 240, Timestep 240000,  Ep.Timesteps 1000, Score: 1706.64, Avg.Score: 925.84, Max.Score: 1706.64,  Time: 02:22:41 \n",
      "Ep. 280, Timestep 280000,  Ep.Timesteps 1000, Score: 1754.34, Avg.Score: 1321.94, Max.Score: 1872.41,  Time: 02:51:40 \n",
      "Ep. 320, Timestep 320000,  Ep.Timesteps 1000, Score: 1774.92, Avg.Score: 1642.55, Max.Score: 1918.99,  Time: 03:21:06 \n",
      "Ep. 360, Timestep 360000,  Ep.Timesteps 1000, Score: 1946.79, Avg.Score: 1773.85, Max.Score: 2006.74,  Time: 03:50:46 \n",
      "Ep. 400, Timestep 400000,  Ep.Timesteps 1000, Score: 2016.79, Avg.Score: 1876.10, Max.Score: 2112.32,  Time: 04:20:33 \n",
      "Ep. 440, Timestep 440000,  Ep.Timesteps 1000, Score: 2085.11, Avg.Score: 2011.62, Max.Score: 2181.58,  Time: 04:50:35 \n",
      "Ep. 480, Timestep 480000,  Ep.Timesteps 1000, Score: 1978.83, Avg.Score: 2084.02, Max.Score: 2232.53,  Time: 05:20:42 \n",
      "Ep. 520, Timestep 520000,  Ep.Timesteps 1000, Score: 2239.65, Avg.Score: 2158.41, Max.Score: 2314.94,  Time: 05:50:55 \n",
      "Ep. 560, Timestep 560000,  Ep.Timesteps 1000, Score: 2236.01, Avg.Score: 2236.15, Max.Score: 2393.00,  Time: 06:21:15 \n",
      "Ep. 600, Timestep 600000,  Ep.Timesteps 1000, Score: 2336.87, Avg.Score: 2295.60, Max.Score: 2393.00,  Time: 06:51:41 \n",
      "Ep. 640, Timestep 640000,  Ep.Timesteps 1000, Score: 2364.52, Avg.Score: 2334.35, Max.Score: 2445.17,  Time: 07:22:07 \n",
      "Ep. 680, Timestep 680000,  Ep.Timesteps 1000, Score: 2384.01, Avg.Score: 2364.28, Max.Score: 2489.68,  Time: 07:52:46 \n",
      "Ep. 720, Timestep 720000,  Ep.Timesteps 1000, Score: 2514.02, Avg.Score: 2401.34, Max.Score: 2525.51,  Time: 08:23:36 \n",
      "Ep. 760, Timestep 760000,  Ep.Timesteps 1000, Score: 2487.85, Avg.Score: 2469.99, Max.Score: 2585.60,  Time: 08:54:40 \n",
      "Ep. 800, Timestep 800000,  Ep.Timesteps 1000, Score: 2639.11, Avg.Score: 2526.32, Max.Score: 2650.28,  Time: 09:25:45 \n",
      "Ep. 840, Timestep 840000,  Ep.Timesteps 1000, Score: 2651.67, Avg.Score: 2582.90, Max.Score: 2713.32,  Time: 09:57:04 \n",
      "Ep. 880, Timestep 880000,  Ep.Timesteps 1000, Score: 2716.79, Avg.Score: 2632.66, Max.Score: 2733.48,  Time: 10:28:28 \n",
      "Ep. 920, Timestep 920000,  Ep.Timesteps 1000, Score: 2705.72, Avg.Score: 2661.62, Max.Score: 2733.48,  Time: 10:59:59 \n",
      "Ep. 960, Timestep 960000,  Ep.Timesteps 1000, Score: 2630.16, Avg.Score: 2684.93, Max.Score: 2769.85,  Time: 11:31:31 \n",
      "Ep. 1000, Timestep 1000000,  Ep.Timesteps 1000, Score: 2776.03, Avg.Score: 2709.53, Max.Score: 2821.04,  Time: 12:03:07 \n",
      "Ep. 1040, Timestep 1040000,  Ep.Timesteps 1000, Score: 2782.59, Avg.Score: 2735.53, Max.Score: 2821.04,  Time: 12:35:17 \n",
      "Ep. 1080, Timestep 1080000,  Ep.Timesteps 1000, Score: 2771.93, Avg.Score: 2762.16, Max.Score: 2876.49,  Time: 13:08:09 \n",
      "Ep. 1120, Timestep 1120000,  Ep.Timesteps 1000, Score: 2828.29, Avg.Score: 2782.87, Max.Score: 2882.22,  Time: 13:42:13 \n",
      "Ep. 1160, Timestep 1160000,  Ep.Timesteps 1000, Score: 2840.41, Avg.Score: 2809.52, Max.Score: 2891.87,  Time: 14:17:21 \n",
      "Ep. 1200, Timestep 1200000,  Ep.Timesteps 1000, Score: 2829.58, Avg.Score: 2828.05, Max.Score: 2903.42,  Time: 14:54:00 \n",
      "Ep. 1240, Timestep 1240000,  Ep.Timesteps 1000, Score: 2840.40, Avg.Score: 2836.02, Max.Score: 2928.44,  Time: 15:31:37 \n",
      "Ep. 1280, Timestep 1280000,  Ep.Timesteps 1000, Score: 2814.58, Avg.Score: 2845.35, Max.Score: 2928.44,  Time: 16:10:07 \n",
      "Ep. 1320, Timestep 1320000,  Ep.Timesteps 1000, Score: 2498.79, Avg.Score: 2853.34, Max.Score: 2937.09,  Time: 16:49:19 \n",
      "Ep. 1360, Timestep 1360000,  Ep.Timesteps 1000, Score: 2939.48, Avg.Score: 2850.18, Max.Score: 2968.91,  Time: 17:28:23 \n",
      "Ep. 1400, Timestep 1400000,  Ep.Timesteps 1000, Score: 2904.48, Avg.Score: 2871.93, Max.Score: 2968.92,  Time: 18:07:41 \n",
      "Ep. 1440, Timestep 1440000,  Ep.Timesteps 1000, Score: 2906.16, Avg.Score: 2921.34, Max.Score: 2990.04,  Time: 18:47:28 \n",
      "Ep. 1480, Timestep 1480000,  Ep.Timesteps 1000, Score: 2990.21, Avg.Score: 2930.83, Max.Score: 3006.72,  Time: 19:27:47 \n",
      "Ep. 1520, Timestep 1520000,  Ep.Timesteps 1000, Score: 2956.65, Avg.Score: 2943.54, Max.Score: 3056.11,  Time: 20:08:34 \n",
      "Ep. 1560, Timestep 1560000,  Ep.Timesteps 1000, Score: 2906.25, Avg.Score: 2968.58, Max.Score: 3065.34,  Time: 20:49:32 \n",
      "Ep. 1588, Timestep 1588000,  Ep.Timesteps 1000, Score: 3031.24, Avg.Score: 3000.42, Max.Score: 3092.66,  Time: 21:18:20 \n",
      "Environment solved with Average Score:  3000.422371605943\n"
     ]
    }
   ],
   "source": [
    "# Twin Delayed Deep Deterministic (TD3) policy gradient algorithm\n",
    "def twin_ddd_train(n_episodes=15000, save_every=10, print_env=40):\n",
    "\n",
    "    scores_deque = deque(maxlen=100)\n",
    "    scores_array = []\n",
    "    avg_scores_array = []    \n",
    "\n",
    "    time_start = time.time()                    # Init start time\n",
    "    replay_buf = ReplayBuffer()                 # Init ReplayBuffer\n",
    "    \n",
    "    timestep_after_last_save = 0\n",
    "    total_timesteps = 0\n",
    "    \n",
    "    low = env.action_space.low\n",
    "    high = env.action_space.high\n",
    "    \n",
    "    print('Low in action space: ', low, ', High: ', high, ', Action_dim: ', action_dim)\n",
    "            \n",
    "    for i_episode in range(1, n_episodes+1):\n",
    "        \n",
    "        timestep = 0\n",
    "        total_reward = 0\n",
    "        \n",
    "        # Reset environment\n",
    "        state = env.reset()\n",
    "        done = False\n",
    "        \n",
    "        while True:\n",
    "            \n",
    "            # Select action randomly or according to policy\n",
    "            if total_timesteps < start_timestep:\n",
    "                action = env.action_space.sample()\n",
    "            else:\n",
    "                action = agent.select_action(np.array(state))\n",
    "                if std_noise != 0: \n",
    "                    shift_action = np.random.normal(0, std_noise, size=action_dim)\n",
    "                    action = (action + shift_action).clip(low, high)\n",
    "            \n",
    "            # Perform action\n",
    "            new_state, reward, done, _ = env.step(action) \n",
    "            done_bool = 0 if timestep + 1 == env._max_episode_steps else float(done)\n",
    "            total_reward += reward                          # full episode reward\n",
    "\n",
    "            # Store every timestep in replay buffer\n",
    "            replay_buf.add((state, new_state, action, reward, done_bool))\n",
    "            state = new_state\n",
    "\n",
    "            timestep += 1     \n",
    "            total_timesteps += 1\n",
    "            timestep_after_last_save += 1\n",
    "\n",
    "            if done:                                       # done ?\n",
    "                break                                      # save score\n",
    "\n",
    "        scores_deque.append(total_reward)\n",
    "        scores_array.append(total_reward)\n",
    "\n",
    "        avg_score = np.mean(scores_deque)\n",
    "        avg_scores_array.append(avg_score)\n",
    "        \n",
    "        max_score = np.max(scores_deque)\n",
    "        \n",
    "        # train_by_episode(time_start, i_episode) \n",
    "        s = (int)(time.time() - time_start)\n",
    "        if i_episode % print_env == 0 or (len(scores_deque) == 100 and avg_score > threshold):\n",
    "            print('Ep. {}, Timestep {},  Ep.Timesteps {}, Score: {:.2f}, Avg.Score: {:.2f}, Max.Score: {:.2f},  Time: {:02}:{:02}:{:02} '\\\n",
    "                .format(i_episode, total_timesteps, timestep, \\\n",
    "                        total_reward, avg_score, max_score, s//3600, s%3600//60, s%60))     \n",
    "\n",
    "        agent.train(replay_buf, timestep)\n",
    "\n",
    "        # Save episode if more than save_every=5000 timesteps\n",
    "        if timestep_after_last_save >= save_every and i_episode > 0:\n",
    "\n",
    "            timestep_after_last_save %= save_every            \n",
    "            save(agent, 'chpnt_1', 'dir_chk_005')  \n",
    "        \n",
    "        if len(scores_deque) == 100 and avg_score >= threshold:\n",
    "            print('Environment solved with Average Score: ',  avg_score )\n",
    "            break \n",
    "\n",
    "    return scores_array, avg_scores_array\n",
    "\n",
    "scores, avg_scores = twin_ddd_train()"
   ]
  },
  {
   "cell_type": "code",
   "execution_count": 5,
   "metadata": {},
   "outputs": [],
   "source": [
    "save(agent, 'chpnt_2', 'dir_chk_005')  "
   ]
  },
  {
   "cell_type": "code",
   "execution_count": 6,
   "metadata": {},
   "outputs": [
    {
     "name": "stdout",
     "output_type": "stream",
     "text": [
      "length of scores:  1588 , len of avg_scores:  1588\n"
     ]
    },
    {
     "data": {
      "image/png": "[encoded data removed]",
      "text/plain": [
       "<Figure size 432x288 with 1 Axes>"
      ]
     },
     "metadata": {
      "needs_background": "light"
     },
     "output_type": "display_data"
    }
   ],
   "source": [
    "import matplotlib.pyplot as plt\n",
    "%matplotlib inline\n",
    "\n",
    "print('length of scores: ', len(scores), ', len of avg_scores: ', len(avg_scores))\n",
    "\n",
    "fig = plt.figure()\n",
    "ax = fig.add_subplot(111)\n",
    "plt.plot(np.arange(1, len(scores)+1), scores, label=\"Score\")\n",
    "plt.plot(np.arange(1, len(avg_scores)+1), avg_scores, label=\"Avg on 100 episodes\")\n",
    "plt.legend(bbox_to_anchor=(1.05, 1)) \n",
    "plt.ylabel('Score')\n",
    "plt.xlabel('Episodes #')\n",
    "plt.show()"
   ]
  },
  {
   "cell_type": "code",
   "execution_count": 7,
   "metadata": {},
   "outputs": [
    {
     "name": "stdout",
     "output_type": "stream",
     "text": [
      "Episode 1\tAverage Score: 3081.87,\tScore: 3081.87 \tTime: 00:00:13\n",
      "Episode 2\tAverage Score: 3079.75,\tScore: 3077.63 \tTime: 00:00:13\n",
      "Episode 3\tAverage Score: 3082.72,\tScore: 3088.66 \tTime: 00:00:13\n",
      "Episode 4\tAverage Score: 3083.66,\tScore: 3086.50 \tTime: 00:00:13\n",
      "Episode 5\tAverage Score: 3084.28,\tScore: 3086.72 \tTime: 00:00:13\n",
      "Episode 6\tAverage Score: 3086.68,\tScore: 3098.72 \tTime: 00:00:13\n",
      "Episode 7\tAverage Score: 3084.11,\tScore: 3068.66 \tTime: 00:00:13\n",
      "Episode 8\tAverage Score: 3082.48,\tScore: 3071.07 \tTime: 00:00:13\n",
      "Episode 9\tAverage Score: 3082.85,\tScore: 3085.86 \tTime: 00:00:13\n",
      "Episode 10\tAverage Score: 3083.18,\tScore: 3086.10 \tTime: 00:00:13\n"
     ]
    }
   ],
   "source": [
    "from collections import deque\n",
    "import os\n",
    "\n",
    "def play(env, agent, n_episodes):\n",
    "    state = env.reset()\n",
    "    \n",
    "    scores_deque = deque(maxlen=100)\n",
    "    scores = []\n",
    "\n",
    "    for i_episode in range(1, n_episodes+1):\n",
    "        state = env.reset()        \n",
    "        score = 0\n",
    "        \n",
    "        time_start = time.time()\n",
    "        \n",
    "        while True:\n",
    "            action = agent.select_action(np.array(state))\n",
    "            env.render()\n",
    "            time.sleep(0.01)\n",
    "            next_state, reward, done, _ = env.step(action)\n",
    "            state = next_state\n",
    "            score += reward\n",
    "            if done:\n",
    "                break \n",
    "\n",
    "        s = (int)(time.time() - time_start)\n",
    "        \n",
    "        scores_deque.append(score)\n",
    "        scores.append(score)\n",
    "        \n",
    "        print('Episode {}\\tAverage Score: {:.2f},\\tScore: {:.2f} \\tTime: {:02}:{:02}:{:02}'\\\n",
    "                  .format(i_episode, np.mean(scores_deque), score, s//3600, s%3600//60, s%60))  \n",
    "\n",
    "play(env=env, agent=agent, n_episodes=10)\n"
   ]
  },
  {
   "cell_type": "code",
   "execution_count": null,
   "metadata": {},
   "outputs": [],
   "source": [
    "env.close()"
   ]
  },
  {
   "cell_type": "code",
   "execution_count": null,
   "metadata": {},
   "outputs": [],
   "source": []
  }
 ],
 "metadata": {
  "kernelspec": {
   "display_name": "Python 3",
   "language": "python",
   "name": "python3"
  },
  "language_info": {
   "codemirror_mode": {
    "name": "ipython",
    "version": 3
   },
   "file_extension": ".py",
   "mimetype": "text/x-python",
   "name": "python",
   "nbconvert_exporter": "python",
   "pygments_lexer": "ipython3",
   "version": "3.7.3"
  }
 },
 "nbformat": 4,
 "nbformat_minor": 2
}
